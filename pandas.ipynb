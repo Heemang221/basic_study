{
 "cells": [
  {
   "cell_type": "code",
   "execution_count": 21,
   "id": "46361f1b",
   "metadata": {},
   "outputs": [
    {
     "data": {
      "text/plain": [
       "0    0.00\n",
       "1    0.25\n",
       "2    0.50\n",
       "3    0.75\n",
       "4    1.00\n",
       "dtype: float64"
      ]
     },
     "execution_count": 21,
     "metadata": {},
     "output_type": "execute_result"
    }
   ],
   "source": [
    "import pandas as pd\n",
    "import numpy as np\n",
    "\n",
    "# 시리즈 객체\n",
    "s = pd.Series([0, 0.25, 0.5, 0.75, 1.0])\n",
    "s"
   ]
  },
  {
   "cell_type": "code",
   "execution_count": 3,
   "id": "c360408b",
   "metadata": {},
   "outputs": [
    {
     "data": {
      "text/plain": [
       "array([0.  , 0.25, 0.5 , 0.75, 1.  ])"
      ]
     },
     "execution_count": 3,
     "metadata": {},
     "output_type": "execute_result"
    }
   ],
   "source": [
    "s.values"
   ]
  },
  {
   "cell_type": "code",
   "execution_count": 4,
   "id": "cc8bd4a9",
   "metadata": {},
   "outputs": [
    {
     "data": {
      "text/plain": [
       "RangeIndex(start=0, stop=5, step=1)"
      ]
     },
     "execution_count": 4,
     "metadata": {},
     "output_type": "execute_result"
    }
   ],
   "source": [
    "s.index"
   ]
  },
  {
   "cell_type": "code",
   "execution_count": 5,
   "id": "46091eec",
   "metadata": {},
   "outputs": [
    {
     "data": {
      "text/plain": [
       "0.25"
      ]
     },
     "execution_count": 5,
     "metadata": {},
     "output_type": "execute_result"
    }
   ],
   "source": [
    "s[1]"
   ]
  },
  {
   "cell_type": "code",
   "execution_count": 6,
   "id": "52921fa4",
   "metadata": {},
   "outputs": [
    {
     "data": {
      "text/plain": [
       "1    0.25\n",
       "2    0.50\n",
       "3    0.75\n",
       "dtype: float64"
      ]
     },
     "execution_count": 6,
     "metadata": {},
     "output_type": "execute_result"
    }
   ],
   "source": [
    "s[1:4]"
   ]
  },
  {
   "cell_type": "code",
   "execution_count": 7,
   "id": "e4eff3bb",
   "metadata": {},
   "outputs": [
    {
     "data": {
      "text/plain": [
       "a    0.00\n",
       "b    0.25\n",
       "c    0.50\n",
       "d    0.75\n",
       "e    1.00\n",
       "dtype: float64"
      ]
     },
     "execution_count": 7,
     "metadata": {},
     "output_type": "execute_result"
    }
   ],
   "source": [
    "s = pd.Series([0, 0.25, 0.5, 0.75, 1.0],\n",
    "             index = ['a', 'b', 'c', 'd', 'e'])\n",
    "s"
   ]
  },
  {
   "cell_type": "code",
   "execution_count": 8,
   "id": "6ed383fb",
   "metadata": {},
   "outputs": [
    {
     "data": {
      "text/plain": [
       "0.5"
      ]
     },
     "execution_count": 8,
     "metadata": {},
     "output_type": "execute_result"
    }
   ],
   "source": [
    "s['c']"
   ]
  },
  {
   "cell_type": "code",
   "execution_count": 9,
   "id": "7be0ca7f",
   "metadata": {},
   "outputs": [
    {
     "data": {
      "text/plain": [
       "c    0.50\n",
       "d    0.75\n",
       "e    1.00\n",
       "dtype: float64"
      ]
     },
     "execution_count": 9,
     "metadata": {},
     "output_type": "execute_result"
    }
   ],
   "source": [
    "s[['c', 'd', 'e']]"
   ]
  },
  {
   "cell_type": "code",
   "execution_count": 10,
   "id": "7e9e38c7",
   "metadata": {},
   "outputs": [
    {
     "data": {
      "text/plain": [
       "True"
      ]
     },
     "execution_count": 10,
     "metadata": {},
     "output_type": "execute_result"
    }
   ],
   "source": [
    "'b' in s"
   ]
  },
  {
   "cell_type": "code",
   "execution_count": 11,
   "id": "e3b4c559",
   "metadata": {},
   "outputs": [
    {
     "data": {
      "text/plain": [
       "array([0.  , 0.25, 0.5 , 0.75, 1.  ])"
      ]
     },
     "execution_count": 11,
     "metadata": {},
     "output_type": "execute_result"
    }
   ],
   "source": [
    "s.unique()"
   ]
  },
  {
   "cell_type": "code",
   "execution_count": 12,
   "id": "6763dfae",
   "metadata": {},
   "outputs": [
    {
     "data": {
      "text/plain": [
       "0.00    1\n",
       "0.25    1\n",
       "0.50    1\n",
       "0.75    1\n",
       "1.00    1\n",
       "dtype: int64"
      ]
     },
     "execution_count": 12,
     "metadata": {},
     "output_type": "execute_result"
    }
   ],
   "source": [
    "s.value_counts()"
   ]
  },
  {
   "cell_type": "code",
   "execution_count": 13,
   "id": "f7ffb06c",
   "metadata": {},
   "outputs": [
    {
     "data": {
      "text/plain": [
       "a    False\n",
       "b     True\n",
       "c    False\n",
       "d     True\n",
       "e    False\n",
       "dtype: bool"
      ]
     },
     "execution_count": 13,
     "metadata": {},
     "output_type": "execute_result"
    }
   ],
   "source": [
    "s.isin([0.25, 0.75])"
   ]
  },
  {
   "cell_type": "code",
   "execution_count": 15,
   "id": "899a89f4",
   "metadata": {},
   "outputs": [
    {
     "data": {
      "text/plain": [
       "서울특별시    9720846\n",
       "부산광역시    3404423\n",
       "인천광역시    2947217\n",
       "대구광역시    2427954\n",
       "대전광역시    1471040\n",
       "광주광역시    1455048\n",
       "dtype: int64"
      ]
     },
     "execution_count": 15,
     "metadata": {},
     "output_type": "execute_result"
    }
   ],
   "source": [
    "pop_tuple = {\n",
    "    '서울특별시' : 9720846,\n",
    "    '부산광역시' : 3404423,\n",
    "    '인천광역시' : 2947217,\n",
    "    '대구광역시' : 2427954,\n",
    "    '대전광역시' : 1471040,\n",
    "    '광주광역시' : 1455048\n",
    "}\n",
    "\n",
    "population = pd.Series(pop_tuple)\n",
    "population"
   ]
  },
  {
   "cell_type": "code",
   "execution_count": 16,
   "id": "479ffdb2",
   "metadata": {},
   "outputs": [
    {
     "data": {
      "text/plain": [
       "9720846"
      ]
     },
     "execution_count": 16,
     "metadata": {},
     "output_type": "execute_result"
    }
   ],
   "source": [
    "population['서울특별시']"
   ]
  },
  {
   "cell_type": "code",
   "execution_count": 17,
   "id": "e38e60f2",
   "metadata": {},
   "outputs": [
    {
     "data": {
      "text/plain": [
       "서울특별시    9720846\n",
       "부산광역시    3404423\n",
       "인천광역시    2947217\n",
       "dtype: int64"
      ]
     },
     "execution_count": 17,
     "metadata": {},
     "output_type": "execute_result"
    }
   ],
   "source": [
    "population['서울특별시':'인천광역시']"
   ]
  },
  {
   "cell_type": "code",
   "execution_count": 18,
   "id": "aba76407",
   "metadata": {},
   "outputs": [
    {
     "data": {
      "text/html": [
       "<div>\n",
       "<style scoped>\n",
       "    .dataframe tbody tr th:only-of-type {\n",
       "        vertical-align: middle;\n",
       "    }\n",
       "\n",
       "    .dataframe tbody tr th {\n",
       "        vertical-align: top;\n",
       "    }\n",
       "\n",
       "    .dataframe thead th {\n",
       "        text-align: right;\n",
       "    }\n",
       "</style>\n",
       "<table border=\"1\" class=\"dataframe\">\n",
       "  <thead>\n",
       "    <tr style=\"text-align: right;\">\n",
       "      <th></th>\n",
       "      <th>A</th>\n",
       "      <th>B</th>\n",
       "      <th>D</th>\n",
       "      <th>C</th>\n",
       "    </tr>\n",
       "  </thead>\n",
       "  <tbody>\n",
       "    <tr>\n",
       "      <th>0</th>\n",
       "      <td>2</td>\n",
       "      <td>4</td>\n",
       "      <td>3.0</td>\n",
       "      <td>NaN</td>\n",
       "    </tr>\n",
       "    <tr>\n",
       "      <th>1</th>\n",
       "      <td>4</td>\n",
       "      <td>5</td>\n",
       "      <td>NaN</td>\n",
       "      <td>7.0</td>\n",
       "    </tr>\n",
       "  </tbody>\n",
       "</table>\n",
       "</div>"
      ],
      "text/plain": [
       "   A  B    D    C\n",
       "0  2  4  3.0  NaN\n",
       "1  4  5  NaN  7.0"
      ]
     },
     "execution_count": 18,
     "metadata": {},
     "output_type": "execute_result"
    }
   ],
   "source": [
    "# dataframe 객체\n",
    "\n",
    "pd.DataFrame([{'A':2, 'B':4, 'D':3}, {'A':4, 'B':5, 'C':7}])"
   ]
  },
  {
   "cell_type": "code",
   "execution_count": 22,
   "id": "19bb88da",
   "metadata": {},
   "outputs": [
    {
     "data": {
      "text/html": [
       "<div>\n",
       "<style scoped>\n",
       "    .dataframe tbody tr th:only-of-type {\n",
       "        vertical-align: middle;\n",
       "    }\n",
       "\n",
       "    .dataframe tbody tr th {\n",
       "        vertical-align: top;\n",
       "    }\n",
       "\n",
       "    .dataframe thead th {\n",
       "        text-align: right;\n",
       "    }\n",
       "</style>\n",
       "<table border=\"1\" class=\"dataframe\">\n",
       "  <thead>\n",
       "    <tr style=\"text-align: right;\">\n",
       "      <th></th>\n",
       "      <th>A</th>\n",
       "      <th>B</th>\n",
       "      <th>C</th>\n",
       "      <th>D</th>\n",
       "      <th>E</th>\n",
       "    </tr>\n",
       "  </thead>\n",
       "  <tbody>\n",
       "    <tr>\n",
       "      <th>1</th>\n",
       "      <td>0.436635</td>\n",
       "      <td>0.156638</td>\n",
       "      <td>0.917784</td>\n",
       "      <td>0.942289</td>\n",
       "      <td>0.163716</td>\n",
       "    </tr>\n",
       "    <tr>\n",
       "      <th>2</th>\n",
       "      <td>0.026367</td>\n",
       "      <td>0.529279</td>\n",
       "      <td>0.656643</td>\n",
       "      <td>0.257986</td>\n",
       "      <td>0.957111</td>\n",
       "    </tr>\n",
       "    <tr>\n",
       "      <th>3</th>\n",
       "      <td>0.503961</td>\n",
       "      <td>0.595661</td>\n",
       "      <td>0.748027</td>\n",
       "      <td>0.467162</td>\n",
       "      <td>0.646169</td>\n",
       "    </tr>\n",
       "    <tr>\n",
       "      <th>4</th>\n",
       "      <td>0.799276</td>\n",
       "      <td>0.861409</td>\n",
       "      <td>0.963884</td>\n",
       "      <td>0.139288</td>\n",
       "      <td>0.826455</td>\n",
       "    </tr>\n",
       "    <tr>\n",
       "      <th>5</th>\n",
       "      <td>0.144339</td>\n",
       "      <td>0.068990</td>\n",
       "      <td>0.219371</td>\n",
       "      <td>0.974470</td>\n",
       "      <td>0.652469</td>\n",
       "    </tr>\n",
       "  </tbody>\n",
       "</table>\n",
       "</div>"
      ],
      "text/plain": [
       "          A         B         C         D         E\n",
       "1  0.436635  0.156638  0.917784  0.942289  0.163716\n",
       "2  0.026367  0.529279  0.656643  0.257986  0.957111\n",
       "3  0.503961  0.595661  0.748027  0.467162  0.646169\n",
       "4  0.799276  0.861409  0.963884  0.139288  0.826455\n",
       "5  0.144339  0.068990  0.219371  0.974470  0.652469"
      ]
     },
     "execution_count": 22,
     "metadata": {},
     "output_type": "execute_result"
    }
   ],
   "source": [
    "pd.DataFrame(np.random.rand(5,5),\n",
    "            columns=['A', 'B', 'C', 'D', 'E'],\n",
    "            index=[1,2,3,4,5])"
   ]
  },
  {
   "cell_type": "code",
   "execution_count": 23,
   "id": "1d4ca774",
   "metadata": {},
   "outputs": [
    {
     "data": {
      "text/plain": [
       "서울특별시    4732275\n",
       "부산광역시    1668618\n",
       "인천광역시    1476813\n",
       "대구광역시    1198815\n",
       "대전광역시     734441\n",
       "광주광역시     120060\n",
       "dtype: int64"
      ]
     },
     "execution_count": 23,
     "metadata": {},
     "output_type": "execute_result"
    }
   ],
   "source": [
    "male_tuple = {\n",
    "    '서울특별시' : 4732275,\n",
    "    '부산광역시' : 1668618,\n",
    "    '인천광역시' : 1476813,\n",
    "    '대구광역시' : 1198815,\n",
    "    '대전광역시' : 734441,\n",
    "    '광주광역시' : 120060\n",
    "}\n",
    "\n",
    "male = pd.Series(male_tuple)\n",
    "male"
   ]
  },
  {
   "cell_type": "code",
   "execution_count": 24,
   "id": "e20cf727",
   "metadata": {},
   "outputs": [
    {
     "data": {
      "text/plain": [
       "서울특별시    4988571\n",
       "부산광역시    1735805\n",
       "인천광역시    1470404\n",
       "대구광역시    1229139\n",
       "대전광역시     736599\n",
       "광주광역시     734988\n",
       "dtype: int64"
      ]
     },
     "execution_count": 24,
     "metadata": {},
     "output_type": "execute_result"
    }
   ],
   "source": [
    "female_tuple = {\n",
    "    '서울특별시' : 4988571,\n",
    "    '부산광역시' : 1735805,\n",
    "    '인천광역시' : 1470404,\n",
    "    '대구광역시' : 1229139,\n",
    "    '대전광역시' : 736599,\n",
    "    '광주광역시' : 734988\n",
    "}\n",
    "\n",
    "female = pd.Series(female_tuple)\n",
    "female"
   ]
  },
  {
   "cell_type": "code",
   "execution_count": 25,
   "id": "50208492",
   "metadata": {},
   "outputs": [
    {
     "data": {
      "text/html": [
       "<div>\n",
       "<style scoped>\n",
       "    .dataframe tbody tr th:only-of-type {\n",
       "        vertical-align: middle;\n",
       "    }\n",
       "\n",
       "    .dataframe tbody tr th {\n",
       "        vertical-align: top;\n",
       "    }\n",
       "\n",
       "    .dataframe thead th {\n",
       "        text-align: right;\n",
       "    }\n",
       "</style>\n",
       "<table border=\"1\" class=\"dataframe\">\n",
       "  <thead>\n",
       "    <tr style=\"text-align: right;\">\n",
       "      <th></th>\n",
       "      <th>인구수</th>\n",
       "      <th>남자인구수</th>\n",
       "      <th>여자인구수</th>\n",
       "    </tr>\n",
       "  </thead>\n",
       "  <tbody>\n",
       "    <tr>\n",
       "      <th>서울특별시</th>\n",
       "      <td>9720846</td>\n",
       "      <td>4732275</td>\n",
       "      <td>4988571</td>\n",
       "    </tr>\n",
       "    <tr>\n",
       "      <th>부산광역시</th>\n",
       "      <td>3404423</td>\n",
       "      <td>1668618</td>\n",
       "      <td>1735805</td>\n",
       "    </tr>\n",
       "    <tr>\n",
       "      <th>인천광역시</th>\n",
       "      <td>2947217</td>\n",
       "      <td>1476813</td>\n",
       "      <td>1470404</td>\n",
       "    </tr>\n",
       "    <tr>\n",
       "      <th>대구광역시</th>\n",
       "      <td>2427954</td>\n",
       "      <td>1198815</td>\n",
       "      <td>1229139</td>\n",
       "    </tr>\n",
       "    <tr>\n",
       "      <th>대전광역시</th>\n",
       "      <td>1471040</td>\n",
       "      <td>734441</td>\n",
       "      <td>736599</td>\n",
       "    </tr>\n",
       "    <tr>\n",
       "      <th>광주광역시</th>\n",
       "      <td>1455048</td>\n",
       "      <td>120060</td>\n",
       "      <td>734988</td>\n",
       "    </tr>\n",
       "  </tbody>\n",
       "</table>\n",
       "</div>"
      ],
      "text/plain": [
       "           인구수    남자인구수    여자인구수\n",
       "서울특별시  9720846  4732275  4988571\n",
       "부산광역시  3404423  1668618  1735805\n",
       "인천광역시  2947217  1476813  1470404\n",
       "대구광역시  2427954  1198815  1229139\n",
       "대전광역시  1471040   734441   736599\n",
       "광주광역시  1455048   120060   734988"
      ]
     },
     "execution_count": 25,
     "metadata": {},
     "output_type": "execute_result"
    }
   ],
   "source": [
    "korea_df = pd.DataFrame({'인구수' : population,\n",
    "                        '남자인구수' : male,\n",
    "                        '여자인구수' : female})\n",
    "korea_df"
   ]
  },
  {
   "cell_type": "code",
   "execution_count": 26,
   "id": "3e775d17",
   "metadata": {},
   "outputs": [
    {
     "data": {
      "text/plain": [
       "Index(['서울특별시', '부산광역시', '인천광역시', '대구광역시', '대전광역시', '광주광역시'], dtype='object')"
      ]
     },
     "execution_count": 26,
     "metadata": {},
     "output_type": "execute_result"
    }
   ],
   "source": [
    "korea_df.index"
   ]
  },
  {
   "cell_type": "code",
   "execution_count": 28,
   "id": "15c00ab7",
   "metadata": {},
   "outputs": [
    {
     "data": {
      "text/plain": [
       "Index(['인구수', '남자인구수', '여자인구수'], dtype='object')"
      ]
     },
     "execution_count": 28,
     "metadata": {},
     "output_type": "execute_result"
    }
   ],
   "source": [
    "korea_df.columns"
   ]
  },
  {
   "cell_type": "code",
   "execution_count": 29,
   "id": "4e8e68d5",
   "metadata": {},
   "outputs": [
    {
     "data": {
      "text/plain": [
       "서울특별시    4988571\n",
       "부산광역시    1735805\n",
       "인천광역시    1470404\n",
       "대구광역시    1229139\n",
       "대전광역시     736599\n",
       "광주광역시     734988\n",
       "Name: 여자인구수, dtype: int64"
      ]
     },
     "execution_count": 29,
     "metadata": {},
     "output_type": "execute_result"
    }
   ],
   "source": [
    "korea_df['여자인구수']"
   ]
  },
  {
   "cell_type": "code",
   "execution_count": 30,
   "id": "7745d5c6",
   "metadata": {},
   "outputs": [
    {
     "data": {
      "text/html": [
       "<div>\n",
       "<style scoped>\n",
       "    .dataframe tbody tr th:only-of-type {\n",
       "        vertical-align: middle;\n",
       "    }\n",
       "\n",
       "    .dataframe tbody tr th {\n",
       "        vertical-align: top;\n",
       "    }\n",
       "\n",
       "    .dataframe thead th {\n",
       "        text-align: right;\n",
       "    }\n",
       "</style>\n",
       "<table border=\"1\" class=\"dataframe\">\n",
       "  <thead>\n",
       "    <tr style=\"text-align: right;\">\n",
       "      <th></th>\n",
       "      <th>인구수</th>\n",
       "      <th>남자인구수</th>\n",
       "      <th>여자인구수</th>\n",
       "    </tr>\n",
       "  </thead>\n",
       "  <tbody>\n",
       "    <tr>\n",
       "      <th>서울특별시</th>\n",
       "      <td>9720846</td>\n",
       "      <td>4732275</td>\n",
       "      <td>4988571</td>\n",
       "    </tr>\n",
       "    <tr>\n",
       "      <th>부산광역시</th>\n",
       "      <td>3404423</td>\n",
       "      <td>1668618</td>\n",
       "      <td>1735805</td>\n",
       "    </tr>\n",
       "    <tr>\n",
       "      <th>인천광역시</th>\n",
       "      <td>2947217</td>\n",
       "      <td>1476813</td>\n",
       "      <td>1470404</td>\n",
       "    </tr>\n",
       "  </tbody>\n",
       "</table>\n",
       "</div>"
      ],
      "text/plain": [
       "           인구수    남자인구수    여자인구수\n",
       "서울특별시  9720846  4732275  4988571\n",
       "부산광역시  3404423  1668618  1735805\n",
       "인천광역시  2947217  1476813  1470404"
      ]
     },
     "execution_count": 30,
     "metadata": {},
     "output_type": "execute_result"
    }
   ],
   "source": [
    "korea_df['서울특별시':'인천광역시']"
   ]
  },
  {
   "cell_type": "code",
   "execution_count": 31,
   "id": "3dbbc450",
   "metadata": {},
   "outputs": [
    {
     "data": {
      "text/plain": [
       "Int64Index([2, 4, 6, 8, 10], dtype='int64')"
      ]
     },
     "execution_count": 31,
     "metadata": {},
     "output_type": "execute_result"
    }
   ],
   "source": [
    "# 인덱스 객체\n",
    "\n",
    "idx = pd.Index([2,4,6,8,10])\n",
    "idx"
   ]
  },
  {
   "cell_type": "code",
   "execution_count": 32,
   "id": "6d57af72",
   "metadata": {},
   "outputs": [
    {
     "data": {
      "text/plain": [
       "4"
      ]
     },
     "execution_count": 32,
     "metadata": {},
     "output_type": "execute_result"
    }
   ],
   "source": [
    "idx[1]"
   ]
  },
  {
   "cell_type": "code",
   "execution_count": 33,
   "id": "3b23582d",
   "metadata": {},
   "outputs": [
    {
     "data": {
      "text/plain": [
       "Int64Index([4], dtype='int64')"
      ]
     },
     "execution_count": 33,
     "metadata": {},
     "output_type": "execute_result"
    }
   ],
   "source": [
    "idx[1:2:2]"
   ]
  },
  {
   "cell_type": "code",
   "execution_count": 35,
   "id": "156a18f6",
   "metadata": {},
   "outputs": [
    {
     "name": "stdout",
     "output_type": "stream",
     "text": [
      "Int64Index([2, 4, 6, 8, 10], dtype='int64')\n",
      "5\n",
      "(5,)\n",
      "1\n",
      "int64\n"
     ]
    }
   ],
   "source": [
    "print(idx)\n",
    "print(idx.size)\n",
    "print(idx.shape)\n",
    "print(idx.ndim)\n",
    "print(idx.dtype)"
   ]
  },
  {
   "cell_type": "code",
   "execution_count": 44,
   "id": "d2e544d9",
   "metadata": {},
   "outputs": [
    {
     "name": "stdout",
     "output_type": "stream",
     "text": [
      "Int64Index([1, 2, 4, 6, 8, 2, 4, 5, 6, 7], dtype='int64')\n",
      "Int64Index([1, 8], dtype='int64')\n",
      "Int64Index([-1, -2, -1, 0, 1], dtype='int64')\n",
      "Int64Index([2, 4, 6], dtype='int64')\n",
      "Int64Index([2, 4, 6], dtype='int64')\n",
      "Int64Index([1, 2, 4, 5, 6, 7, 8], dtype='int64')\n",
      "Int64Index([1, 2, 4, 5, 6, 7, 8], dtype='int64')\n",
      "Int64Index([2, 4, 6, 8], dtype='int64')\n",
      "Int64Index([2, 4, 6, 8], dtype='int64')\n",
      "Int64Index([1, 5, 7, 8], dtype='int64')\n"
     ]
    },
    {
     "name": "stderr",
     "output_type": "stream",
     "text": [
      "/var/folders/kk/gz0w5z5x38sd0qkdjkqmn82r0000gn/T/ipykernel_15487/1493835244.py:7: FutureWarning: Index.__and__ operating as a set operation is deprecated, in the future this will be a logical operation matching Series.__and__.  Use index.intersection(other) instead.\n",
      "  print(idx1 & idx2)\n",
      "/var/folders/kk/gz0w5z5x38sd0qkdjkqmn82r0000gn/T/ipykernel_15487/1493835244.py:9: FutureWarning: Index.__or__ operating as a set operation is deprecated, in the future this will be a logical operation matching Series.__or__.  Use index.union(other) instead.\n",
      "  print(idx1 | idx2)\n",
      "/var/folders/kk/gz0w5z5x38sd0qkdjkqmn82r0000gn/T/ipykernel_15487/1493835244.py:12: FutureWarning: Index.__xor__ operating as a set operation is deprecated, in the future this will be a logical operation matching Series.__xor__.  Use index.symmetric_difference(other) instead.\n",
      "  print(idx1 ^ idx2)\n"
     ]
    }
   ],
   "source": [
    "idx1 = pd.Index([1,2,4,6,8])\n",
    "idx2 = pd.Index([2,4,5,6,7])\n",
    "print(idx1.append(idx2))\n",
    "print(idx1.difference(idx2))\n",
    "print(idx1 - idx2)\n",
    "print(idx1.intersection(idx2))\n",
    "print(idx1 & idx2)\n",
    "print(idx1.union(idx2))\n",
    "print(idx1 | idx2)\n",
    "print(idx1.delete(0))\n",
    "print(idx1.drop(1))\n",
    "print(idx1 ^ idx2)"
   ]
  },
  {
   "cell_type": "code",
   "execution_count": 46,
   "id": "6c0b9e4a",
   "metadata": {},
   "outputs": [
    {
     "data": {
      "text/plain": [
       "a    0.00\n",
       "b    0.25\n",
       "c    0.50\n",
       "d    0.75\n",
       "e    1.00\n",
       "dtype: float64"
      ]
     },
     "execution_count": 46,
     "metadata": {},
     "output_type": "execute_result"
    }
   ],
   "source": [
    "# 인덱싱\n",
    "\n",
    "s = pd.Series([0, 0.25, 0.5, 0.75, 1.0],\n",
    "             index = ['a', 'b', 'c', 'd', 'e'])\n",
    "s"
   ]
  },
  {
   "cell_type": "code",
   "execution_count": 47,
   "id": "f06461f1",
   "metadata": {},
   "outputs": [
    {
     "data": {
      "text/plain": [
       "Index(['a', 'b', 'c', 'd', 'e'], dtype='object')"
      ]
     },
     "execution_count": 47,
     "metadata": {},
     "output_type": "execute_result"
    }
   ],
   "source": [
    "s.keys()"
   ]
  },
  {
   "cell_type": "code",
   "execution_count": 49,
   "id": "f37c22c7",
   "metadata": {},
   "outputs": [
    {
     "data": {
      "text/plain": [
       "[('a', 0.0), ('b', 0.25), ('c', 0.5), ('d', 0.75), ('e', 1.0)]"
      ]
     },
     "execution_count": 49,
     "metadata": {},
     "output_type": "execute_result"
    }
   ],
   "source": [
    "list(s.items())"
   ]
  },
  {
   "cell_type": "code",
   "execution_count": 51,
   "id": "cf8f0836",
   "metadata": {},
   "outputs": [
    {
     "data": {
      "text/plain": [
       "a    0.00\n",
       "b    0.25\n",
       "c    0.50\n",
       "d    0.75\n",
       "e    1.00\n",
       "f    1.25\n",
       "dtype: float64"
      ]
     },
     "execution_count": 51,
     "metadata": {},
     "output_type": "execute_result"
    }
   ],
   "source": [
    "s['f'] = 1.25\n",
    "s"
   ]
  },
  {
   "cell_type": "code",
   "execution_count": 52,
   "id": "ed6064b2",
   "metadata": {},
   "outputs": [
    {
     "data": {
      "text/plain": [
       "a    0.00\n",
       "b    0.25\n",
       "c    0.50\n",
       "d    0.75\n",
       "dtype: float64"
      ]
     },
     "execution_count": 52,
     "metadata": {},
     "output_type": "execute_result"
    }
   ],
   "source": [
    "s['a':'d']"
   ]
  },
  {
   "cell_type": "code",
   "execution_count": 53,
   "id": "54e6b741",
   "metadata": {},
   "outputs": [
    {
     "data": {
      "text/plain": [
       "a    0.00\n",
       "b    0.25\n",
       "c    0.50\n",
       "d    0.75\n",
       "dtype: float64"
      ]
     },
     "execution_count": 53,
     "metadata": {},
     "output_type": "execute_result"
    }
   ],
   "source": [
    "s[0:4]"
   ]
  },
  {
   "cell_type": "code",
   "execution_count": 54,
   "id": "e6f9e585",
   "metadata": {},
   "outputs": [
    {
     "data": {
      "text/plain": [
       "c    0.50\n",
       "d    0.75\n",
       "dtype: float64"
      ]
     },
     "execution_count": 54,
     "metadata": {},
     "output_type": "execute_result"
    }
   ],
   "source": [
    "s[(s>0.4)&(s<0.8)]"
   ]
  },
  {
   "cell_type": "code",
   "execution_count": 55,
   "id": "9425e323",
   "metadata": {},
   "outputs": [
    {
     "data": {
      "text/plain": [
       "a    0.0\n",
       "c    0.5\n",
       "e    1.0\n",
       "dtype: float64"
      ]
     },
     "execution_count": 55,
     "metadata": {},
     "output_type": "execute_result"
    }
   ],
   "source": [
    "s[['a', 'c', 'e']]"
   ]
  },
  {
   "cell_type": "code",
   "execution_count": 57,
   "id": "3a77e8fc",
   "metadata": {},
   "outputs": [
    {
     "data": {
      "text/plain": [
       "1    a\n",
       "3    b\n",
       "5    c\n",
       "7    d\n",
       "9    e\n",
       "dtype: object"
      ]
     },
     "execution_count": 57,
     "metadata": {},
     "output_type": "execute_result"
    }
   ],
   "source": [
    "# series 인덱싱\n",
    "\n",
    "s = pd.Series(['a', 'b', 'c', 'd', 'e'],\n",
    "              index = [1,3,5,7,9])\n",
    "s"
   ]
  },
  {
   "cell_type": "code",
   "execution_count": 58,
   "id": "3120fc48",
   "metadata": {},
   "outputs": [
    {
     "data": {
      "text/plain": [
       "'a'"
      ]
     },
     "execution_count": 58,
     "metadata": {},
     "output_type": "execute_result"
    }
   ],
   "source": [
    "s[1] # 내가 지정한"
   ]
  },
  {
   "cell_type": "code",
   "execution_count": 59,
   "id": "9d335299",
   "metadata": {},
   "outputs": [
    {
     "data": {
      "text/plain": [
       "5    c\n",
       "7    d\n",
       "dtype: object"
      ]
     },
     "execution_count": 59,
     "metadata": {},
     "output_type": "execute_result"
    }
   ],
   "source": [
    "s[2:4]"
   ]
  },
  {
   "cell_type": "code",
   "execution_count": 60,
   "id": "ba4245ef",
   "metadata": {},
   "outputs": [
    {
     "data": {
      "text/plain": [
       "'b'"
      ]
     },
     "execution_count": 60,
     "metadata": {},
     "output_type": "execute_result"
    }
   ],
   "source": [
    "s.iloc[1] # 정수값으로 접근"
   ]
  },
  {
   "cell_type": "code",
   "execution_count": 61,
   "id": "3e4ab598",
   "metadata": {},
   "outputs": [
    {
     "data": {
      "text/plain": [
       "5    c\n",
       "7    d\n",
       "dtype: object"
      ]
     },
     "execution_count": 61,
     "metadata": {},
     "output_type": "execute_result"
    }
   ],
   "source": [
    "s.iloc[2:4]"
   ]
  },
  {
   "cell_type": "code",
   "execution_count": 62,
   "id": "ae7cebec",
   "metadata": {},
   "outputs": [
    {
     "data": {
      "text/plain": [
       "0    NaN\n",
       "1      a\n",
       "2    NaN\n",
       "3      b\n",
       "4    NaN\n",
       "5      c\n",
       "6    NaN\n",
       "7      d\n",
       "8    NaN\n",
       "9      e\n",
       "dtype: object"
      ]
     },
     "execution_count": 62,
     "metadata": {},
     "output_type": "execute_result"
    }
   ],
   "source": [
    "s.reindex(range(10))"
   ]
  },
  {
   "cell_type": "code",
   "execution_count": 63,
   "id": "feb31b07",
   "metadata": {},
   "outputs": [
    {
     "data": {
      "text/plain": [
       "0    a\n",
       "1    a\n",
       "2    b\n",
       "3    b\n",
       "4    c\n",
       "5    c\n",
       "6    d\n",
       "7    d\n",
       "8    e\n",
       "9    e\n",
       "dtype: object"
      ]
     },
     "execution_count": 63,
     "metadata": {},
     "output_type": "execute_result"
    }
   ],
   "source": [
    "s.reindex(range(10), method='bfill') # 전의 값으로 채워줘 back fill"
   ]
  },
  {
   "cell_type": "code",
   "execution_count": 64,
   "id": "e3b55ffb",
   "metadata": {},
   "outputs": [
    {
     "data": {
      "text/html": [
       "<div>\n",
       "<style scoped>\n",
       "    .dataframe tbody tr th:only-of-type {\n",
       "        vertical-align: middle;\n",
       "    }\n",
       "\n",
       "    .dataframe tbody tr th {\n",
       "        vertical-align: top;\n",
       "    }\n",
       "\n",
       "    .dataframe thead th {\n",
       "        text-align: right;\n",
       "    }\n",
       "</style>\n",
       "<table border=\"1\" class=\"dataframe\">\n",
       "  <thead>\n",
       "    <tr style=\"text-align: right;\">\n",
       "      <th></th>\n",
       "      <th>인구수</th>\n",
       "      <th>남자인구수</th>\n",
       "      <th>여자인구수</th>\n",
       "    </tr>\n",
       "  </thead>\n",
       "  <tbody>\n",
       "    <tr>\n",
       "      <th>서울특별시</th>\n",
       "      <td>9720846</td>\n",
       "      <td>4732275</td>\n",
       "      <td>4988571</td>\n",
       "    </tr>\n",
       "    <tr>\n",
       "      <th>부산광역시</th>\n",
       "      <td>3404423</td>\n",
       "      <td>1668618</td>\n",
       "      <td>1735805</td>\n",
       "    </tr>\n",
       "    <tr>\n",
       "      <th>인천광역시</th>\n",
       "      <td>2947217</td>\n",
       "      <td>1476813</td>\n",
       "      <td>1470404</td>\n",
       "    </tr>\n",
       "    <tr>\n",
       "      <th>대구광역시</th>\n",
       "      <td>2427954</td>\n",
       "      <td>1198815</td>\n",
       "      <td>1229139</td>\n",
       "    </tr>\n",
       "    <tr>\n",
       "      <th>대전광역시</th>\n",
       "      <td>1471040</td>\n",
       "      <td>734441</td>\n",
       "      <td>736599</td>\n",
       "    </tr>\n",
       "    <tr>\n",
       "      <th>광주광역시</th>\n",
       "      <td>1455048</td>\n",
       "      <td>120060</td>\n",
       "      <td>734988</td>\n",
       "    </tr>\n",
       "  </tbody>\n",
       "</table>\n",
       "</div>"
      ],
      "text/plain": [
       "           인구수    남자인구수    여자인구수\n",
       "서울특별시  9720846  4732275  4988571\n",
       "부산광역시  3404423  1668618  1735805\n",
       "인천광역시  2947217  1476813  1470404\n",
       "대구광역시  2427954  1198815  1229139\n",
       "대전광역시  1471040   734441   736599\n",
       "광주광역시  1455048   120060   734988"
      ]
     },
     "execution_count": 64,
     "metadata": {},
     "output_type": "execute_result"
    }
   ],
   "source": [
    "# dataframe 인덱싱\n",
    "\n",
    "korea_df"
   ]
  },
  {
   "cell_type": "code",
   "execution_count": 65,
   "id": "650a6ef0",
   "metadata": {},
   "outputs": [
    {
     "data": {
      "text/plain": [
       "서울특별시    4732275\n",
       "부산광역시    1668618\n",
       "인천광역시    1476813\n",
       "대구광역시    1198815\n",
       "대전광역시     734441\n",
       "광주광역시     120060\n",
       "Name: 남자인구수, dtype: int64"
      ]
     },
     "execution_count": 65,
     "metadata": {},
     "output_type": "execute_result"
    }
   ],
   "source": [
    "korea_df['남자인구수']"
   ]
  },
  {
   "cell_type": "code",
   "execution_count": 66,
   "id": "3dd0f799",
   "metadata": {},
   "outputs": [
    {
     "data": {
      "text/plain": [
       "서울특별시    4732275\n",
       "부산광역시    1668618\n",
       "인천광역시    1476813\n",
       "대구광역시    1198815\n",
       "대전광역시     734441\n",
       "광주광역시     120060\n",
       "Name: 남자인구수, dtype: int64"
      ]
     },
     "execution_count": 66,
     "metadata": {},
     "output_type": "execute_result"
    }
   ],
   "source": [
    "korea_df.남자인구수"
   ]
  },
  {
   "cell_type": "code",
   "execution_count": 68,
   "id": "8c6f91a5",
   "metadata": {},
   "outputs": [
    {
     "data": {
      "text/plain": [
       "서울특별시    4988571\n",
       "부산광역시    1735805\n",
       "인천광역시    1470404\n",
       "대구광역시    1229139\n",
       "대전광역시     736599\n",
       "광주광역시     734988\n",
       "Name: 여자인구수, dtype: int64"
      ]
     },
     "execution_count": 68,
     "metadata": {},
     "output_type": "execute_result"
    }
   ],
   "source": [
    "korea_df.여자인구수"
   ]
  },
  {
   "cell_type": "code",
   "execution_count": 69,
   "id": "73ba135a",
   "metadata": {},
   "outputs": [],
   "source": [
    "korea_df['남녀비율'] = (korea_df['남자인구수'] * 100 / korea_df['여자인구수'])"
   ]
  },
  {
   "cell_type": "code",
   "execution_count": 70,
   "id": "06d30dbc",
   "metadata": {},
   "outputs": [
    {
     "data": {
      "text/html": [
       "<div>\n",
       "<style scoped>\n",
       "    .dataframe tbody tr th:only-of-type {\n",
       "        vertical-align: middle;\n",
       "    }\n",
       "\n",
       "    .dataframe tbody tr th {\n",
       "        vertical-align: top;\n",
       "    }\n",
       "\n",
       "    .dataframe thead th {\n",
       "        text-align: right;\n",
       "    }\n",
       "</style>\n",
       "<table border=\"1\" class=\"dataframe\">\n",
       "  <thead>\n",
       "    <tr style=\"text-align: right;\">\n",
       "      <th></th>\n",
       "      <th>인구수</th>\n",
       "      <th>남자인구수</th>\n",
       "      <th>여자인구수</th>\n",
       "      <th>남녀비율</th>\n",
       "    </tr>\n",
       "  </thead>\n",
       "  <tbody>\n",
       "    <tr>\n",
       "      <th>서울특별시</th>\n",
       "      <td>9720846</td>\n",
       "      <td>4732275</td>\n",
       "      <td>4988571</td>\n",
       "      <td>94.862336</td>\n",
       "    </tr>\n",
       "    <tr>\n",
       "      <th>부산광역시</th>\n",
       "      <td>3404423</td>\n",
       "      <td>1668618</td>\n",
       "      <td>1735805</td>\n",
       "      <td>96.129346</td>\n",
       "    </tr>\n",
       "    <tr>\n",
       "      <th>인천광역시</th>\n",
       "      <td>2947217</td>\n",
       "      <td>1476813</td>\n",
       "      <td>1470404</td>\n",
       "      <td>100.435867</td>\n",
       "    </tr>\n",
       "    <tr>\n",
       "      <th>대구광역시</th>\n",
       "      <td>2427954</td>\n",
       "      <td>1198815</td>\n",
       "      <td>1229139</td>\n",
       "      <td>97.532907</td>\n",
       "    </tr>\n",
       "    <tr>\n",
       "      <th>대전광역시</th>\n",
       "      <td>1471040</td>\n",
       "      <td>734441</td>\n",
       "      <td>736599</td>\n",
       "      <td>99.707032</td>\n",
       "    </tr>\n",
       "    <tr>\n",
       "      <th>광주광역시</th>\n",
       "      <td>1455048</td>\n",
       "      <td>120060</td>\n",
       "      <td>734988</td>\n",
       "      <td>16.334961</td>\n",
       "    </tr>\n",
       "  </tbody>\n",
       "</table>\n",
       "</div>"
      ],
      "text/plain": [
       "           인구수    남자인구수    여자인구수        남녀비율\n",
       "서울특별시  9720846  4732275  4988571   94.862336\n",
       "부산광역시  3404423  1668618  1735805   96.129346\n",
       "인천광역시  2947217  1476813  1470404  100.435867\n",
       "대구광역시  2427954  1198815  1229139   97.532907\n",
       "대전광역시  1471040   734441   736599   99.707032\n",
       "광주광역시  1455048   120060   734988   16.334961"
      ]
     },
     "execution_count": 70,
     "metadata": {},
     "output_type": "execute_result"
    }
   ],
   "source": [
    "korea_df"
   ]
  },
  {
   "cell_type": "code",
   "execution_count": 71,
   "id": "43140535",
   "metadata": {},
   "outputs": [
    {
     "data": {
      "text/plain": [
       "array([[9.72084600e+06, 4.73227500e+06, 4.98857100e+06, 9.48623363e+01],\n",
       "       [3.40442300e+06, 1.66861800e+06, 1.73580500e+06, 9.61293463e+01],\n",
       "       [2.94721700e+06, 1.47681300e+06, 1.47040400e+06, 1.00435867e+02],\n",
       "       [2.42795400e+06, 1.19881500e+06, 1.22913900e+06, 9.75329072e+01],\n",
       "       [1.47104000e+06, 7.34441000e+05, 7.36599000e+05, 9.97070319e+01],\n",
       "       [1.45504800e+06, 1.20060000e+05, 7.34988000e+05, 1.63349606e+01]])"
      ]
     },
     "execution_count": 71,
     "metadata": {},
     "output_type": "execute_result"
    }
   ],
   "source": [
    "korea_df.values"
   ]
  },
  {
   "cell_type": "code",
   "execution_count": 72,
   "id": "f4fe450c",
   "metadata": {},
   "outputs": [
    {
     "data": {
      "text/html": [
       "<div>\n",
       "<style scoped>\n",
       "    .dataframe tbody tr th:only-of-type {\n",
       "        vertical-align: middle;\n",
       "    }\n",
       "\n",
       "    .dataframe tbody tr th {\n",
       "        vertical-align: top;\n",
       "    }\n",
       "\n",
       "    .dataframe thead th {\n",
       "        text-align: right;\n",
       "    }\n",
       "</style>\n",
       "<table border=\"1\" class=\"dataframe\">\n",
       "  <thead>\n",
       "    <tr style=\"text-align: right;\">\n",
       "      <th></th>\n",
       "      <th>서울특별시</th>\n",
       "      <th>부산광역시</th>\n",
       "      <th>인천광역시</th>\n",
       "      <th>대구광역시</th>\n",
       "      <th>대전광역시</th>\n",
       "      <th>광주광역시</th>\n",
       "    </tr>\n",
       "  </thead>\n",
       "  <tbody>\n",
       "    <tr>\n",
       "      <th>인구수</th>\n",
       "      <td>9.720846e+06</td>\n",
       "      <td>3.404423e+06</td>\n",
       "      <td>2.947217e+06</td>\n",
       "      <td>2.427954e+06</td>\n",
       "      <td>1.471040e+06</td>\n",
       "      <td>1.455048e+06</td>\n",
       "    </tr>\n",
       "    <tr>\n",
       "      <th>남자인구수</th>\n",
       "      <td>4.732275e+06</td>\n",
       "      <td>1.668618e+06</td>\n",
       "      <td>1.476813e+06</td>\n",
       "      <td>1.198815e+06</td>\n",
       "      <td>7.344410e+05</td>\n",
       "      <td>1.200600e+05</td>\n",
       "    </tr>\n",
       "    <tr>\n",
       "      <th>여자인구수</th>\n",
       "      <td>4.988571e+06</td>\n",
       "      <td>1.735805e+06</td>\n",
       "      <td>1.470404e+06</td>\n",
       "      <td>1.229139e+06</td>\n",
       "      <td>7.365990e+05</td>\n",
       "      <td>7.349880e+05</td>\n",
       "    </tr>\n",
       "    <tr>\n",
       "      <th>남녀비율</th>\n",
       "      <td>9.486234e+01</td>\n",
       "      <td>9.612935e+01</td>\n",
       "      <td>1.004359e+02</td>\n",
       "      <td>9.753291e+01</td>\n",
       "      <td>9.970703e+01</td>\n",
       "      <td>1.633496e+01</td>\n",
       "    </tr>\n",
       "  </tbody>\n",
       "</table>\n",
       "</div>"
      ],
      "text/plain": [
       "              서울특별시         부산광역시         인천광역시         대구광역시         대전광역시  \\\n",
       "인구수    9.720846e+06  3.404423e+06  2.947217e+06  2.427954e+06  1.471040e+06   \n",
       "남자인구수  4.732275e+06  1.668618e+06  1.476813e+06  1.198815e+06  7.344410e+05   \n",
       "여자인구수  4.988571e+06  1.735805e+06  1.470404e+06  1.229139e+06  7.365990e+05   \n",
       "남녀비율   9.486234e+01  9.612935e+01  1.004359e+02  9.753291e+01  9.970703e+01   \n",
       "\n",
       "              광주광역시  \n",
       "인구수    1.455048e+06  \n",
       "남자인구수  1.200600e+05  \n",
       "여자인구수  7.349880e+05  \n",
       "남녀비율   1.633496e+01  "
      ]
     },
     "execution_count": 72,
     "metadata": {},
     "output_type": "execute_result"
    }
   ],
   "source": [
    "korea_df.T"
   ]
  },
  {
   "cell_type": "code",
   "execution_count": 73,
   "id": "ade65f97",
   "metadata": {},
   "outputs": [
    {
     "data": {
      "text/plain": [
       "array([9.72084600e+06, 4.73227500e+06, 4.98857100e+06, 9.48623363e+01])"
      ]
     },
     "execution_count": 73,
     "metadata": {},
     "output_type": "execute_result"
    }
   ],
   "source": [
    "korea_df.values[0]"
   ]
  },
  {
   "cell_type": "code",
   "execution_count": 74,
   "id": "b9e8e3ea",
   "metadata": {},
   "outputs": [
    {
     "data": {
      "text/plain": [
       "서울특별시    9720846\n",
       "부산광역시    3404423\n",
       "인천광역시    2947217\n",
       "대구광역시    2427954\n",
       "대전광역시    1471040\n",
       "광주광역시    1455048\n",
       "Name: 인구수, dtype: int64"
      ]
     },
     "execution_count": 74,
     "metadata": {},
     "output_type": "execute_result"
    }
   ],
   "source": [
    "korea_df['인구수']"
   ]
  },
  {
   "cell_type": "code",
   "execution_count": 75,
   "id": "d5927f3d",
   "metadata": {},
   "outputs": [
    {
     "data": {
      "text/html": [
       "<div>\n",
       "<style scoped>\n",
       "    .dataframe tbody tr th:only-of-type {\n",
       "        vertical-align: middle;\n",
       "    }\n",
       "\n",
       "    .dataframe tbody tr th {\n",
       "        vertical-align: top;\n",
       "    }\n",
       "\n",
       "    .dataframe thead th {\n",
       "        text-align: right;\n",
       "    }\n",
       "</style>\n",
       "<table border=\"1\" class=\"dataframe\">\n",
       "  <thead>\n",
       "    <tr style=\"text-align: right;\">\n",
       "      <th></th>\n",
       "      <th>인구수</th>\n",
       "      <th>남자인구수</th>\n",
       "    </tr>\n",
       "  </thead>\n",
       "  <tbody>\n",
       "    <tr>\n",
       "      <th>서울특별시</th>\n",
       "      <td>9720846</td>\n",
       "      <td>4732275</td>\n",
       "    </tr>\n",
       "    <tr>\n",
       "      <th>부산광역시</th>\n",
       "      <td>3404423</td>\n",
       "      <td>1668618</td>\n",
       "    </tr>\n",
       "    <tr>\n",
       "      <th>인천광역시</th>\n",
       "      <td>2947217</td>\n",
       "      <td>1476813</td>\n",
       "    </tr>\n",
       "  </tbody>\n",
       "</table>\n",
       "</div>"
      ],
      "text/plain": [
       "           인구수    남자인구수\n",
       "서울특별시  9720846  4732275\n",
       "부산광역시  3404423  1668618\n",
       "인천광역시  2947217  1476813"
      ]
     },
     "execution_count": 75,
     "metadata": {},
     "output_type": "execute_result"
    }
   ],
   "source": [
    "korea_df.loc[:'인천광역시', :'남자인구수']"
   ]
  },
  {
   "cell_type": "code",
   "execution_count": 76,
   "id": "1501a765",
   "metadata": {},
   "outputs": [
    {
     "data": {
      "text/html": [
       "<div>\n",
       "<style scoped>\n",
       "    .dataframe tbody tr th:only-of-type {\n",
       "        vertical-align: middle;\n",
       "    }\n",
       "\n",
       "    .dataframe tbody tr th {\n",
       "        vertical-align: top;\n",
       "    }\n",
       "\n",
       "    .dataframe thead th {\n",
       "        text-align: right;\n",
       "    }\n",
       "</style>\n",
       "<table border=\"1\" class=\"dataframe\">\n",
       "  <thead>\n",
       "    <tr style=\"text-align: right;\">\n",
       "      <th></th>\n",
       "      <th>인구수</th>\n",
       "      <th>남자인구수</th>\n",
       "      <th>여자인구수</th>\n",
       "      <th>남녀비율</th>\n",
       "    </tr>\n",
       "  </thead>\n",
       "  <tbody>\n",
       "    <tr>\n",
       "      <th>서울특별시</th>\n",
       "      <td>9720846</td>\n",
       "      <td>4732275</td>\n",
       "      <td>4988571</td>\n",
       "      <td>94.862336</td>\n",
       "    </tr>\n",
       "    <tr>\n",
       "      <th>부산광역시</th>\n",
       "      <td>3404423</td>\n",
       "      <td>1668618</td>\n",
       "      <td>1735805</td>\n",
       "      <td>96.129346</td>\n",
       "    </tr>\n",
       "    <tr>\n",
       "      <th>인천광역시</th>\n",
       "      <td>2947217</td>\n",
       "      <td>1476813</td>\n",
       "      <td>1470404</td>\n",
       "      <td>100.435867</td>\n",
       "    </tr>\n",
       "    <tr>\n",
       "      <th>대구광역시</th>\n",
       "      <td>2427954</td>\n",
       "      <td>1198815</td>\n",
       "      <td>1229139</td>\n",
       "      <td>97.532907</td>\n",
       "    </tr>\n",
       "  </tbody>\n",
       "</table>\n",
       "</div>"
      ],
      "text/plain": [
       "           인구수    남자인구수    여자인구수        남녀비율\n",
       "서울특별시  9720846  4732275  4988571   94.862336\n",
       "부산광역시  3404423  1668618  1735805   96.129346\n",
       "인천광역시  2947217  1476813  1470404  100.435867\n",
       "대구광역시  2427954  1198815  1229139   97.532907"
      ]
     },
     "execution_count": 76,
     "metadata": {},
     "output_type": "execute_result"
    }
   ],
   "source": [
    "korea_df.loc[(korea_df.여자인구수 > 1000000)]"
   ]
  },
  {
   "cell_type": "code",
   "execution_count": 77,
   "id": "1410f8a7",
   "metadata": {},
   "outputs": [
    {
     "data": {
      "text/html": [
       "<div>\n",
       "<style scoped>\n",
       "    .dataframe tbody tr th:only-of-type {\n",
       "        vertical-align: middle;\n",
       "    }\n",
       "\n",
       "    .dataframe tbody tr th {\n",
       "        vertical-align: top;\n",
       "    }\n",
       "\n",
       "    .dataframe thead th {\n",
       "        text-align: right;\n",
       "    }\n",
       "</style>\n",
       "<table border=\"1\" class=\"dataframe\">\n",
       "  <thead>\n",
       "    <tr style=\"text-align: right;\">\n",
       "      <th></th>\n",
       "      <th>인구수</th>\n",
       "      <th>남자인구수</th>\n",
       "      <th>여자인구수</th>\n",
       "      <th>남녀비율</th>\n",
       "    </tr>\n",
       "  </thead>\n",
       "  <tbody>\n",
       "    <tr>\n",
       "      <th>대전광역시</th>\n",
       "      <td>1471040</td>\n",
       "      <td>734441</td>\n",
       "      <td>736599</td>\n",
       "      <td>99.707032</td>\n",
       "    </tr>\n",
       "    <tr>\n",
       "      <th>광주광역시</th>\n",
       "      <td>1455048</td>\n",
       "      <td>120060</td>\n",
       "      <td>734988</td>\n",
       "      <td>16.334961</td>\n",
       "    </tr>\n",
       "  </tbody>\n",
       "</table>\n",
       "</div>"
      ],
      "text/plain": [
       "           인구수   남자인구수   여자인구수       남녀비율\n",
       "대전광역시  1471040  734441  736599  99.707032\n",
       "광주광역시  1455048  120060  734988  16.334961"
      ]
     },
     "execution_count": 77,
     "metadata": {},
     "output_type": "execute_result"
    }
   ],
   "source": [
    "korea_df.loc[(korea_df.인구수 < 2000000)]"
   ]
  },
  {
   "cell_type": "code",
   "execution_count": 78,
   "id": "98f29db9",
   "metadata": {},
   "outputs": [
    {
     "data": {
      "text/html": [
       "<div>\n",
       "<style scoped>\n",
       "    .dataframe tbody tr th:only-of-type {\n",
       "        vertical-align: middle;\n",
       "    }\n",
       "\n",
       "    .dataframe tbody tr th {\n",
       "        vertical-align: top;\n",
       "    }\n",
       "\n",
       "    .dataframe thead th {\n",
       "        text-align: right;\n",
       "    }\n",
       "</style>\n",
       "<table border=\"1\" class=\"dataframe\">\n",
       "  <thead>\n",
       "    <tr style=\"text-align: right;\">\n",
       "      <th></th>\n",
       "      <th>인구수</th>\n",
       "      <th>남자인구수</th>\n",
       "      <th>여자인구수</th>\n",
       "      <th>남녀비율</th>\n",
       "    </tr>\n",
       "  </thead>\n",
       "  <tbody>\n",
       "    <tr>\n",
       "      <th>서울특별시</th>\n",
       "      <td>9720846</td>\n",
       "      <td>4732275</td>\n",
       "      <td>4988571</td>\n",
       "      <td>94.862336</td>\n",
       "    </tr>\n",
       "    <tr>\n",
       "      <th>부산광역시</th>\n",
       "      <td>3404423</td>\n",
       "      <td>1668618</td>\n",
       "      <td>1735805</td>\n",
       "      <td>96.129346</td>\n",
       "    </tr>\n",
       "    <tr>\n",
       "      <th>인천광역시</th>\n",
       "      <td>2947217</td>\n",
       "      <td>1476813</td>\n",
       "      <td>1470404</td>\n",
       "      <td>100.435867</td>\n",
       "    </tr>\n",
       "  </tbody>\n",
       "</table>\n",
       "</div>"
      ],
      "text/plain": [
       "           인구수    남자인구수    여자인구수        남녀비율\n",
       "서울특별시  9720846  4732275  4988571   94.862336\n",
       "부산광역시  3404423  1668618  1735805   96.129346\n",
       "인천광역시  2947217  1476813  1470404  100.435867"
      ]
     },
     "execution_count": 78,
     "metadata": {},
     "output_type": "execute_result"
    }
   ],
   "source": [
    "korea_df.loc[(korea_df.인구수 > 2500000)]"
   ]
  },
  {
   "cell_type": "code",
   "execution_count": 80,
   "id": "055af84d",
   "metadata": {},
   "outputs": [
    {
     "data": {
      "text/html": [
       "<div>\n",
       "<style scoped>\n",
       "    .dataframe tbody tr th:only-of-type {\n",
       "        vertical-align: middle;\n",
       "    }\n",
       "\n",
       "    .dataframe tbody tr th {\n",
       "        vertical-align: top;\n",
       "    }\n",
       "\n",
       "    .dataframe thead th {\n",
       "        text-align: right;\n",
       "    }\n",
       "</style>\n",
       "<table border=\"1\" class=\"dataframe\">\n",
       "  <thead>\n",
       "    <tr style=\"text-align: right;\">\n",
       "      <th></th>\n",
       "      <th>인구수</th>\n",
       "      <th>남자인구수</th>\n",
       "      <th>여자인구수</th>\n",
       "      <th>남녀비율</th>\n",
       "    </tr>\n",
       "  </thead>\n",
       "  <tbody>\n",
       "    <tr>\n",
       "      <th>인천광역시</th>\n",
       "      <td>2947217</td>\n",
       "      <td>1476813</td>\n",
       "      <td>1470404</td>\n",
       "      <td>100.435867</td>\n",
       "    </tr>\n",
       "  </tbody>\n",
       "</table>\n",
       "</div>"
      ],
      "text/plain": [
       "           인구수    남자인구수    여자인구수        남녀비율\n",
       "인천광역시  2947217  1476813  1470404  100.435867"
      ]
     },
     "execution_count": 80,
     "metadata": {},
     "output_type": "execute_result"
    }
   ],
   "source": [
    "korea_df.loc[korea_df.남녀비율 > 100] # 남자가 더 많음"
   ]
  },
  {
   "cell_type": "code",
   "execution_count": 81,
   "id": "5bf91778",
   "metadata": {},
   "outputs": [
    {
     "data": {
      "text/html": [
       "<div>\n",
       "<style scoped>\n",
       "    .dataframe tbody tr th:only-of-type {\n",
       "        vertical-align: middle;\n",
       "    }\n",
       "\n",
       "    .dataframe tbody tr th {\n",
       "        vertical-align: top;\n",
       "    }\n",
       "\n",
       "    .dataframe thead th {\n",
       "        text-align: right;\n",
       "    }\n",
       "</style>\n",
       "<table border=\"1\" class=\"dataframe\">\n",
       "  <thead>\n",
       "    <tr style=\"text-align: right;\">\n",
       "      <th></th>\n",
       "      <th>인구수</th>\n",
       "      <th>남자인구수</th>\n",
       "      <th>여자인구수</th>\n",
       "      <th>남녀비율</th>\n",
       "    </tr>\n",
       "  </thead>\n",
       "  <tbody>\n",
       "    <tr>\n",
       "      <th>인천광역시</th>\n",
       "      <td>2947217</td>\n",
       "      <td>1476813</td>\n",
       "      <td>1470404</td>\n",
       "      <td>100.435867</td>\n",
       "    </tr>\n",
       "  </tbody>\n",
       "</table>\n",
       "</div>"
      ],
      "text/plain": [
       "           인구수    남자인구수    여자인구수        남녀비율\n",
       "인천광역시  2947217  1476813  1470404  100.435867"
      ]
     },
     "execution_count": 81,
     "metadata": {},
     "output_type": "execute_result"
    }
   ],
   "source": [
    "korea_df.loc[(korea_df.인구수 > 2500000) & (korea_df.남녀비율 > 100)]"
   ]
  },
  {
   "cell_type": "code",
   "execution_count": 82,
   "id": "93e66f97",
   "metadata": {},
   "outputs": [
    {
     "data": {
      "text/html": [
       "<div>\n",
       "<style scoped>\n",
       "    .dataframe tbody tr th:only-of-type {\n",
       "        vertical-align: middle;\n",
       "    }\n",
       "\n",
       "    .dataframe tbody tr th {\n",
       "        vertical-align: top;\n",
       "    }\n",
       "\n",
       "    .dataframe thead th {\n",
       "        text-align: right;\n",
       "    }\n",
       "</style>\n",
       "<table border=\"1\" class=\"dataframe\">\n",
       "  <thead>\n",
       "    <tr style=\"text-align: right;\">\n",
       "      <th></th>\n",
       "      <th>인구수</th>\n",
       "      <th>남자인구수</th>\n",
       "    </tr>\n",
       "  </thead>\n",
       "  <tbody>\n",
       "    <tr>\n",
       "      <th>서울특별시</th>\n",
       "      <td>9720846</td>\n",
       "      <td>4732275</td>\n",
       "    </tr>\n",
       "    <tr>\n",
       "      <th>부산광역시</th>\n",
       "      <td>3404423</td>\n",
       "      <td>1668618</td>\n",
       "    </tr>\n",
       "    <tr>\n",
       "      <th>인천광역시</th>\n",
       "      <td>2947217</td>\n",
       "      <td>1476813</td>\n",
       "    </tr>\n",
       "  </tbody>\n",
       "</table>\n",
       "</div>"
      ],
      "text/plain": [
       "           인구수    남자인구수\n",
       "서울특별시  9720846  4732275\n",
       "부산광역시  3404423  1668618\n",
       "인천광역시  2947217  1476813"
      ]
     },
     "execution_count": 82,
     "metadata": {},
     "output_type": "execute_result"
    }
   ],
   "source": [
    "korea_df.iloc[:3, :2]"
   ]
  },
  {
   "cell_type": "code",
   "execution_count": 83,
   "id": "40feb5bb",
   "metadata": {},
   "outputs": [
    {
     "data": {
      "text/html": [
       "<div>\n",
       "<style scoped>\n",
       "    .dataframe tbody tr th:only-of-type {\n",
       "        vertical-align: middle;\n",
       "    }\n",
       "\n",
       "    .dataframe tbody tr th {\n",
       "        vertical-align: top;\n",
       "    }\n",
       "\n",
       "    .dataframe thead th {\n",
       "        text-align: right;\n",
       "    }\n",
       "</style>\n",
       "<table border=\"1\" class=\"dataframe\">\n",
       "  <thead>\n",
       "    <tr style=\"text-align: right;\">\n",
       "      <th></th>\n",
       "      <th>인구수</th>\n",
       "      <th>남자인구수</th>\n",
       "      <th>여자인구수</th>\n",
       "      <th>남녀비율</th>\n",
       "    </tr>\n",
       "  </thead>\n",
       "  <tbody>\n",
       "    <tr>\n",
       "      <th>서울특별시</th>\n",
       "      <td>9720846</td>\n",
       "      <td>4732275</td>\n",
       "      <td>4988571</td>\n",
       "      <td>94.862336</td>\n",
       "    </tr>\n",
       "    <tr>\n",
       "      <th>부산광역시</th>\n",
       "      <td>3404423</td>\n",
       "      <td>1668618</td>\n",
       "      <td>1735805</td>\n",
       "      <td>96.129346</td>\n",
       "    </tr>\n",
       "    <tr>\n",
       "      <th>인천광역시</th>\n",
       "      <td>2947217</td>\n",
       "      <td>1476813</td>\n",
       "      <td>1470404</td>\n",
       "      <td>100.435867</td>\n",
       "    </tr>\n",
       "    <tr>\n",
       "      <th>대구광역시</th>\n",
       "      <td>2427954</td>\n",
       "      <td>1198815</td>\n",
       "      <td>1229139</td>\n",
       "      <td>97.532907</td>\n",
       "    </tr>\n",
       "    <tr>\n",
       "      <th>대전광역시</th>\n",
       "      <td>1471040</td>\n",
       "      <td>734441</td>\n",
       "      <td>736599</td>\n",
       "      <td>99.707032</td>\n",
       "    </tr>\n",
       "    <tr>\n",
       "      <th>광주광역시</th>\n",
       "      <td>1455048</td>\n",
       "      <td>120060</td>\n",
       "      <td>734988</td>\n",
       "      <td>16.334961</td>\n",
       "    </tr>\n",
       "  </tbody>\n",
       "</table>\n",
       "</div>"
      ],
      "text/plain": [
       "           인구수    남자인구수    여자인구수        남녀비율\n",
       "서울특별시  9720846  4732275  4988571   94.862336\n",
       "부산광역시  3404423  1668618  1735805   96.129346\n",
       "인천광역시  2947217  1476813  1470404  100.435867\n",
       "대구광역시  2427954  1198815  1229139   97.532907\n",
       "대전광역시  1471040   734441   736599   99.707032\n",
       "광주광역시  1455048   120060   734988   16.334961"
      ]
     },
     "execution_count": 83,
     "metadata": {},
     "output_type": "execute_result"
    }
   ],
   "source": [
    "# 다중 인덱싱\n",
    "\n",
    "korea_df"
   ]
  },
  {
   "cell_type": "code",
   "execution_count": 85,
   "id": "9bcd3282",
   "metadata": {},
   "outputs": [
    {
     "data": {
      "text/plain": [
       "[('서울특별시', 2010),\n",
       " ('서울특별시', 2020),\n",
       " ('부산광역시', 2010),\n",
       " ('부산광역시', 2020),\n",
       " ('인천광역시', 2010),\n",
       " ('인천광역시', 2020),\n",
       " ('대구광역시', 2010),\n",
       " ('대구광역시', 2020),\n",
       " ('대전광역시', 2010),\n",
       " ('대전광역시', 2020),\n",
       " ('광주광역시', 2010),\n",
       " ('광주광역시', 2020)]"
      ]
     },
     "execution_count": 85,
     "metadata": {},
     "output_type": "execute_result"
    }
   ],
   "source": [
    "idx_tuples = [('서울특별시', 2010), ('서울특별시', 2020),\n",
    "             ('부산광역시', 2010), ('부산광역시', 2020),\n",
    "             ('인천광역시', 2010), ('인천광역시', 2020),\n",
    "             ('대구광역시', 2010), ('대구광역시', 2020),\n",
    "             ('대전광역시', 2010), ('대전광역시', 2020),\n",
    "             ('광주광역시', 2010), ('광주광역시', 2020)]\n",
    "idx_tuples"
   ]
  },
  {
   "cell_type": "code",
   "execution_count": 88,
   "id": "c282892b",
   "metadata": {},
   "outputs": [
    {
     "data": {
      "text/plain": [
       "(서울특별시, 2010)    10312545\n",
       "(서울특별시, 2020)     9720846\n",
       "(부산광역시, 2010)     2567910\n",
       "(부산광역시, 2020)     3404423\n",
       "(인천광역시, 2010)     2758296\n",
       "(인천광역시, 2020)     2947217\n",
       "(대구광역시, 2010)     2511676\n",
       "(대구광역시, 2020)     2427954\n",
       "(대전광역시, 2010)     1503664\n",
       "(대전광역시, 2020)     1471040\n",
       "(광주광역시, 2010)     1454636\n",
       "(광주광역시, 2020)     1455048\n",
       "dtype: int64"
      ]
     },
     "execution_count": 88,
     "metadata": {},
     "output_type": "execute_result"
    }
   ],
   "source": [
    "pop_tuples = [10312545, 9720846,\n",
    "              2567910, 3404423,\n",
    "             2758296, 2947217,\n",
    "             2511676, 2427954,\n",
    "             1503664, 1471040,\n",
    "             1454636, 1455048]\n",
    "population = pd.Series(pop_tuples, index=idx_tuples)\n",
    "population"
   ]
  },
  {
   "cell_type": "code",
   "execution_count": 89,
   "id": "647e666e",
   "metadata": {},
   "outputs": [
    {
     "data": {
      "text/plain": [
       "MultiIndex([('서울특별시', 2010),\n",
       "            ('서울특별시', 2020),\n",
       "            ('부산광역시', 2010),\n",
       "            ('부산광역시', 2020),\n",
       "            ('인천광역시', 2010),\n",
       "            ('인천광역시', 2020),\n",
       "            ('대구광역시', 2010),\n",
       "            ('대구광역시', 2020),\n",
       "            ('대전광역시', 2010),\n",
       "            ('대전광역시', 2020),\n",
       "            ('광주광역시', 2010),\n",
       "            ('광주광역시', 2020)],\n",
       "           )"
      ]
     },
     "execution_count": 89,
     "metadata": {},
     "output_type": "execute_result"
    }
   ],
   "source": [
    "midx = pd.MultiIndex.from_tuples(idx_tuples)\n",
    "midx"
   ]
  },
  {
   "cell_type": "code",
   "execution_count": 90,
   "id": "cc9793c3",
   "metadata": {},
   "outputs": [
    {
     "data": {
      "text/plain": [
       "서울특별시  2010    10312545\n",
       "       2020     9720846\n",
       "부산광역시  2010     2567910\n",
       "       2020     3404423\n",
       "인천광역시  2010     2758296\n",
       "       2020     2947217\n",
       "대구광역시  2010     2511676\n",
       "       2020     2427954\n",
       "대전광역시  2010     1503664\n",
       "       2020     1471040\n",
       "광주광역시  2010     1454636\n",
       "       2020     1455048\n",
       "dtype: int64"
      ]
     },
     "execution_count": 90,
     "metadata": {},
     "output_type": "execute_result"
    }
   ],
   "source": [
    "population = population.reindex(midx)\n",
    "population"
   ]
  },
  {
   "cell_type": "code",
   "execution_count": 91,
   "id": "8139f8be",
   "metadata": {},
   "outputs": [
    {
     "data": {
      "text/plain": [
       "서울특별시    10312545\n",
       "부산광역시     2567910\n",
       "인천광역시     2758296\n",
       "대구광역시     2511676\n",
       "대전광역시     1503664\n",
       "광주광역시     1454636\n",
       "dtype: int64"
      ]
     },
     "execution_count": 91,
     "metadata": {},
     "output_type": "execute_result"
    }
   ],
   "source": [
    "population[:, 2010]"
   ]
  },
  {
   "cell_type": "code",
   "execution_count": 92,
   "id": "185833c7",
   "metadata": {},
   "outputs": [
    {
     "data": {
      "text/plain": [
       "2010    1503664\n",
       "2020    1471040\n",
       "dtype: int64"
      ]
     },
     "execution_count": 92,
     "metadata": {},
     "output_type": "execute_result"
    }
   ],
   "source": [
    "population['대전광역시', :]"
   ]
  },
  {
   "cell_type": "code",
   "execution_count": 93,
   "id": "42e6b356",
   "metadata": {},
   "outputs": [],
   "source": [
    "korea_mdf = population.unstack() #데이터프레임으로 바뀜"
   ]
  },
  {
   "cell_type": "code",
   "execution_count": 94,
   "id": "5ebe6dc2",
   "metadata": {},
   "outputs": [
    {
     "data": {
      "text/html": [
       "<div>\n",
       "<style scoped>\n",
       "    .dataframe tbody tr th:only-of-type {\n",
       "        vertical-align: middle;\n",
       "    }\n",
       "\n",
       "    .dataframe tbody tr th {\n",
       "        vertical-align: top;\n",
       "    }\n",
       "\n",
       "    .dataframe thead th {\n",
       "        text-align: right;\n",
       "    }\n",
       "</style>\n",
       "<table border=\"1\" class=\"dataframe\">\n",
       "  <thead>\n",
       "    <tr style=\"text-align: right;\">\n",
       "      <th></th>\n",
       "      <th>2010</th>\n",
       "      <th>2020</th>\n",
       "    </tr>\n",
       "  </thead>\n",
       "  <tbody>\n",
       "    <tr>\n",
       "      <th>광주광역시</th>\n",
       "      <td>1454636</td>\n",
       "      <td>1455048</td>\n",
       "    </tr>\n",
       "    <tr>\n",
       "      <th>대구광역시</th>\n",
       "      <td>2511676</td>\n",
       "      <td>2427954</td>\n",
       "    </tr>\n",
       "    <tr>\n",
       "      <th>대전광역시</th>\n",
       "      <td>1503664</td>\n",
       "      <td>1471040</td>\n",
       "    </tr>\n",
       "    <tr>\n",
       "      <th>부산광역시</th>\n",
       "      <td>2567910</td>\n",
       "      <td>3404423</td>\n",
       "    </tr>\n",
       "    <tr>\n",
       "      <th>서울특별시</th>\n",
       "      <td>10312545</td>\n",
       "      <td>9720846</td>\n",
       "    </tr>\n",
       "    <tr>\n",
       "      <th>인천광역시</th>\n",
       "      <td>2758296</td>\n",
       "      <td>2947217</td>\n",
       "    </tr>\n",
       "  </tbody>\n",
       "</table>\n",
       "</div>"
      ],
      "text/plain": [
       "           2010     2020\n",
       "광주광역시   1454636  1455048\n",
       "대구광역시   2511676  2427954\n",
       "대전광역시   1503664  1471040\n",
       "부산광역시   2567910  3404423\n",
       "서울특별시  10312545  9720846\n",
       "인천광역시   2758296  2947217"
      ]
     },
     "execution_count": 94,
     "metadata": {},
     "output_type": "execute_result"
    }
   ],
   "source": [
    "korea_mdf"
   ]
  },
  {
   "cell_type": "code",
   "execution_count": 95,
   "id": "0c76c948",
   "metadata": {},
   "outputs": [
    {
     "data": {
      "text/plain": [
       "광주광역시  2010     1454636\n",
       "       2020     1455048\n",
       "대구광역시  2010     2511676\n",
       "       2020     2427954\n",
       "대전광역시  2010     1503664\n",
       "       2020     1471040\n",
       "부산광역시  2010     2567910\n",
       "       2020     3404423\n",
       "서울특별시  2010    10312545\n",
       "       2020     9720846\n",
       "인천광역시  2010     2758296\n",
       "       2020     2947217\n",
       "dtype: int64"
      ]
     },
     "execution_count": 95,
     "metadata": {},
     "output_type": "execute_result"
    }
   ],
   "source": [
    "korea_mdf.stack() # 다중인덱싱 구조로 변환"
   ]
  },
  {
   "cell_type": "code",
   "execution_count": 96,
   "id": "eb6d7d93",
   "metadata": {},
   "outputs": [],
   "source": [
    "male_tuple = [5111259, 4732275, 1773170, 1668618, 1390356, 1476813,\n",
    "             1255245, 1198815, 753648, 734441, 721780, 720060]"
   ]
  },
  {
   "cell_type": "code",
   "execution_count": 97,
   "id": "a607b533",
   "metadata": {},
   "outputs": [
    {
     "data": {
      "text/plain": [
       "[5111259,\n",
       " 4732275,\n",
       " 1773170,\n",
       " 1668618,\n",
       " 1390356,\n",
       " 1476813,\n",
       " 1255245,\n",
       " 1198815,\n",
       " 753648,\n",
       " 734441,\n",
       " 721780,\n",
       " 720060]"
      ]
     },
     "execution_count": 97,
     "metadata": {},
     "output_type": "execute_result"
    }
   ],
   "source": [
    "male_tuple"
   ]
  },
  {
   "cell_type": "code",
   "execution_count": 100,
   "id": "00cf9488",
   "metadata": {},
   "outputs": [
    {
     "data": {
      "text/html": [
       "<div>\n",
       "<style scoped>\n",
       "    .dataframe tbody tr th:only-of-type {\n",
       "        vertical-align: middle;\n",
       "    }\n",
       "\n",
       "    .dataframe tbody tr th {\n",
       "        vertical-align: top;\n",
       "    }\n",
       "\n",
       "    .dataframe thead th {\n",
       "        text-align: right;\n",
       "    }\n",
       "</style>\n",
       "<table border=\"1\" class=\"dataframe\">\n",
       "  <thead>\n",
       "    <tr style=\"text-align: right;\">\n",
       "      <th></th>\n",
       "      <th></th>\n",
       "      <th>총인구수</th>\n",
       "      <th>남자인구수</th>\n",
       "    </tr>\n",
       "  </thead>\n",
       "  <tbody>\n",
       "    <tr>\n",
       "      <th rowspan=\"2\" valign=\"top\">서울특별시</th>\n",
       "      <th>2010</th>\n",
       "      <td>10312545</td>\n",
       "      <td>5111259</td>\n",
       "    </tr>\n",
       "    <tr>\n",
       "      <th>2020</th>\n",
       "      <td>9720846</td>\n",
       "      <td>4732275</td>\n",
       "    </tr>\n",
       "    <tr>\n",
       "      <th rowspan=\"2\" valign=\"top\">부산광역시</th>\n",
       "      <th>2010</th>\n",
       "      <td>2567910</td>\n",
       "      <td>1773170</td>\n",
       "    </tr>\n",
       "    <tr>\n",
       "      <th>2020</th>\n",
       "      <td>3404423</td>\n",
       "      <td>1668618</td>\n",
       "    </tr>\n",
       "    <tr>\n",
       "      <th rowspan=\"2\" valign=\"top\">인천광역시</th>\n",
       "      <th>2010</th>\n",
       "      <td>2758296</td>\n",
       "      <td>1390356</td>\n",
       "    </tr>\n",
       "    <tr>\n",
       "      <th>2020</th>\n",
       "      <td>2947217</td>\n",
       "      <td>1476813</td>\n",
       "    </tr>\n",
       "    <tr>\n",
       "      <th rowspan=\"2\" valign=\"top\">대구광역시</th>\n",
       "      <th>2010</th>\n",
       "      <td>2511676</td>\n",
       "      <td>1255245</td>\n",
       "    </tr>\n",
       "    <tr>\n",
       "      <th>2020</th>\n",
       "      <td>2427954</td>\n",
       "      <td>1198815</td>\n",
       "    </tr>\n",
       "    <tr>\n",
       "      <th rowspan=\"2\" valign=\"top\">대전광역시</th>\n",
       "      <th>2010</th>\n",
       "      <td>1503664</td>\n",
       "      <td>753648</td>\n",
       "    </tr>\n",
       "    <tr>\n",
       "      <th>2020</th>\n",
       "      <td>1471040</td>\n",
       "      <td>734441</td>\n",
       "    </tr>\n",
       "    <tr>\n",
       "      <th rowspan=\"2\" valign=\"top\">광주광역시</th>\n",
       "      <th>2010</th>\n",
       "      <td>1454636</td>\n",
       "      <td>721780</td>\n",
       "    </tr>\n",
       "    <tr>\n",
       "      <th>2020</th>\n",
       "      <td>1455048</td>\n",
       "      <td>720060</td>\n",
       "    </tr>\n",
       "  </tbody>\n",
       "</table>\n",
       "</div>"
      ],
      "text/plain": [
       "                총인구수    남자인구수\n",
       "서울특별시 2010  10312545  5111259\n",
       "      2020   9720846  4732275\n",
       "부산광역시 2010   2567910  1773170\n",
       "      2020   3404423  1668618\n",
       "인천광역시 2010   2758296  1390356\n",
       "      2020   2947217  1476813\n",
       "대구광역시 2010   2511676  1255245\n",
       "      2020   2427954  1198815\n",
       "대전광역시 2010   1503664   753648\n",
       "      2020   1471040   734441\n",
       "광주광역시 2010   1454636   721780\n",
       "      2020   1455048   720060"
      ]
     },
     "execution_count": 100,
     "metadata": {},
     "output_type": "execute_result"
    }
   ],
   "source": [
    "korea_mdf = pd.DataFrame({'총인구수' : population,\n",
    "                        '남자인구수' : male_tuple})\n",
    "korea_mdf"
   ]
  },
  {
   "cell_type": "code",
   "execution_count": 101,
   "id": "d5b2fdd7",
   "metadata": {},
   "outputs": [
    {
     "data": {
      "text/plain": [
       "[5201286,\n",
       " 4988571,\n",
       " 1794740,\n",
       " 1735805,\n",
       " 1367940,\n",
       " 1470404,\n",
       " 1256431,\n",
       " 1229139,\n",
       " 750016,\n",
       " 736599,\n",
       " 732856,\n",
       " 734988]"
      ]
     },
     "execution_count": 101,
     "metadata": {},
     "output_type": "execute_result"
    }
   ],
   "source": [
    "female_tuples = [5201286, 4988571,\n",
    "                1794740, 1735805,\n",
    "                1367940, 1470404,\n",
    "                1256431, 1229139,\n",
    "                750016, 736599,\n",
    "                732856, 734988]\n",
    "female_tuples"
   ]
  },
  {
   "cell_type": "code",
   "execution_count": 102,
   "id": "aa3d469b",
   "metadata": {},
   "outputs": [
    {
     "data": {
      "text/html": [
       "<div>\n",
       "<style scoped>\n",
       "    .dataframe tbody tr th:only-of-type {\n",
       "        vertical-align: middle;\n",
       "    }\n",
       "\n",
       "    .dataframe tbody tr th {\n",
       "        vertical-align: top;\n",
       "    }\n",
       "\n",
       "    .dataframe thead th {\n",
       "        text-align: right;\n",
       "    }\n",
       "</style>\n",
       "<table border=\"1\" class=\"dataframe\">\n",
       "  <thead>\n",
       "    <tr style=\"text-align: right;\">\n",
       "      <th></th>\n",
       "      <th></th>\n",
       "      <th>총인구수</th>\n",
       "      <th>남자인구수</th>\n",
       "      <th>여자인구수</th>\n",
       "    </tr>\n",
       "  </thead>\n",
       "  <tbody>\n",
       "    <tr>\n",
       "      <th rowspan=\"2\" valign=\"top\">서울특별시</th>\n",
       "      <th>2010</th>\n",
       "      <td>10312545</td>\n",
       "      <td>5111259</td>\n",
       "      <td>5201286</td>\n",
       "    </tr>\n",
       "    <tr>\n",
       "      <th>2020</th>\n",
       "      <td>9720846</td>\n",
       "      <td>4732275</td>\n",
       "      <td>4988571</td>\n",
       "    </tr>\n",
       "    <tr>\n",
       "      <th rowspan=\"2\" valign=\"top\">부산광역시</th>\n",
       "      <th>2010</th>\n",
       "      <td>2567910</td>\n",
       "      <td>1773170</td>\n",
       "      <td>1794740</td>\n",
       "    </tr>\n",
       "    <tr>\n",
       "      <th>2020</th>\n",
       "      <td>3404423</td>\n",
       "      <td>1668618</td>\n",
       "      <td>1735805</td>\n",
       "    </tr>\n",
       "    <tr>\n",
       "      <th rowspan=\"2\" valign=\"top\">인천광역시</th>\n",
       "      <th>2010</th>\n",
       "      <td>2758296</td>\n",
       "      <td>1390356</td>\n",
       "      <td>1367940</td>\n",
       "    </tr>\n",
       "    <tr>\n",
       "      <th>2020</th>\n",
       "      <td>2947217</td>\n",
       "      <td>1476813</td>\n",
       "      <td>1470404</td>\n",
       "    </tr>\n",
       "    <tr>\n",
       "      <th rowspan=\"2\" valign=\"top\">대구광역시</th>\n",
       "      <th>2010</th>\n",
       "      <td>2511676</td>\n",
       "      <td>1255245</td>\n",
       "      <td>1256431</td>\n",
       "    </tr>\n",
       "    <tr>\n",
       "      <th>2020</th>\n",
       "      <td>2427954</td>\n",
       "      <td>1198815</td>\n",
       "      <td>1229139</td>\n",
       "    </tr>\n",
       "    <tr>\n",
       "      <th rowspan=\"2\" valign=\"top\">대전광역시</th>\n",
       "      <th>2010</th>\n",
       "      <td>1503664</td>\n",
       "      <td>753648</td>\n",
       "      <td>750016</td>\n",
       "    </tr>\n",
       "    <tr>\n",
       "      <th>2020</th>\n",
       "      <td>1471040</td>\n",
       "      <td>734441</td>\n",
       "      <td>736599</td>\n",
       "    </tr>\n",
       "    <tr>\n",
       "      <th rowspan=\"2\" valign=\"top\">광주광역시</th>\n",
       "      <th>2010</th>\n",
       "      <td>1454636</td>\n",
       "      <td>721780</td>\n",
       "      <td>732856</td>\n",
       "    </tr>\n",
       "    <tr>\n",
       "      <th>2020</th>\n",
       "      <td>1455048</td>\n",
       "      <td>720060</td>\n",
       "      <td>734988</td>\n",
       "    </tr>\n",
       "  </tbody>\n",
       "</table>\n",
       "</div>"
      ],
      "text/plain": [
       "                총인구수    남자인구수    여자인구수\n",
       "서울특별시 2010  10312545  5111259  5201286\n",
       "      2020   9720846  4732275  4988571\n",
       "부산광역시 2010   2567910  1773170  1794740\n",
       "      2020   3404423  1668618  1735805\n",
       "인천광역시 2010   2758296  1390356  1367940\n",
       "      2020   2947217  1476813  1470404\n",
       "대구광역시 2010   2511676  1255245  1256431\n",
       "      2020   2427954  1198815  1229139\n",
       "대전광역시 2010   1503664   753648   750016\n",
       "      2020   1471040   734441   736599\n",
       "광주광역시 2010   1454636   721780   732856\n",
       "      2020   1455048   720060   734988"
      ]
     },
     "execution_count": 102,
     "metadata": {},
     "output_type": "execute_result"
    }
   ],
   "source": [
    "korea_mdf = pd.DataFrame({'총인구수' : population,\n",
    "                        '남자인구수' : male_tuple,\n",
    "                         '여자인구수' : female_tuples})\n",
    "korea_mdf"
   ]
  },
  {
   "cell_type": "code",
   "execution_count": 103,
   "id": "7d0fca1e",
   "metadata": {},
   "outputs": [
    {
     "data": {
      "text/plain": [
       "서울특별시  2010     98.269140\n",
       "       2020     94.862336\n",
       "부산광역시  2010     98.798155\n",
       "       2020     96.129346\n",
       "인천광역시  2010    101.638668\n",
       "       2020    100.435867\n",
       "대구광역시  2010     99.905606\n",
       "       2020     97.532907\n",
       "대전광역시  2010    100.484256\n",
       "       2020     99.707032\n",
       "광주광역시  2010     98.488653\n",
       "       2020     97.968946\n",
       "dtype: float64"
      ]
     },
     "execution_count": 103,
     "metadata": {},
     "output_type": "execute_result"
    }
   ],
   "source": [
    "ratio = korea_mdf['남자인구수'] * 100 / korea_mdf['여자인구수']\n",
    "ratio"
   ]
  },
  {
   "cell_type": "code",
   "execution_count": 104,
   "id": "e66d59bb",
   "metadata": {},
   "outputs": [
    {
     "data": {
      "text/html": [
       "<div>\n",
       "<style scoped>\n",
       "    .dataframe tbody tr th:only-of-type {\n",
       "        vertical-align: middle;\n",
       "    }\n",
       "\n",
       "    .dataframe tbody tr th {\n",
       "        vertical-align: top;\n",
       "    }\n",
       "\n",
       "    .dataframe thead th {\n",
       "        text-align: right;\n",
       "    }\n",
       "</style>\n",
       "<table border=\"1\" class=\"dataframe\">\n",
       "  <thead>\n",
       "    <tr style=\"text-align: right;\">\n",
       "      <th></th>\n",
       "      <th>2010</th>\n",
       "      <th>2020</th>\n",
       "    </tr>\n",
       "  </thead>\n",
       "  <tbody>\n",
       "    <tr>\n",
       "      <th>광주광역시</th>\n",
       "      <td>98.488653</td>\n",
       "      <td>97.968946</td>\n",
       "    </tr>\n",
       "    <tr>\n",
       "      <th>대구광역시</th>\n",
       "      <td>99.905606</td>\n",
       "      <td>97.532907</td>\n",
       "    </tr>\n",
       "    <tr>\n",
       "      <th>대전광역시</th>\n",
       "      <td>100.484256</td>\n",
       "      <td>99.707032</td>\n",
       "    </tr>\n",
       "    <tr>\n",
       "      <th>부산광역시</th>\n",
       "      <td>98.798155</td>\n",
       "      <td>96.129346</td>\n",
       "    </tr>\n",
       "    <tr>\n",
       "      <th>서울특별시</th>\n",
       "      <td>98.269140</td>\n",
       "      <td>94.862336</td>\n",
       "    </tr>\n",
       "    <tr>\n",
       "      <th>인천광역시</th>\n",
       "      <td>101.638668</td>\n",
       "      <td>100.435867</td>\n",
       "    </tr>\n",
       "  </tbody>\n",
       "</table>\n",
       "</div>"
      ],
      "text/plain": [
       "             2010        2020\n",
       "광주광역시   98.488653   97.968946\n",
       "대구광역시   99.905606   97.532907\n",
       "대전광역시  100.484256   99.707032\n",
       "부산광역시   98.798155   96.129346\n",
       "서울특별시   98.269140   94.862336\n",
       "인천광역시  101.638668  100.435867"
      ]
     },
     "execution_count": 104,
     "metadata": {},
     "output_type": "execute_result"
    }
   ],
   "source": [
    "ratio.unstack()"
   ]
  },
  {
   "cell_type": "code",
   "execution_count": 105,
   "id": "ab95d64b",
   "metadata": {},
   "outputs": [
    {
     "data": {
      "text/html": [
       "<div>\n",
       "<style scoped>\n",
       "    .dataframe tbody tr th:only-of-type {\n",
       "        vertical-align: middle;\n",
       "    }\n",
       "\n",
       "    .dataframe tbody tr th {\n",
       "        vertical-align: top;\n",
       "    }\n",
       "\n",
       "    .dataframe thead th {\n",
       "        text-align: right;\n",
       "    }\n",
       "</style>\n",
       "<table border=\"1\" class=\"dataframe\">\n",
       "  <thead>\n",
       "    <tr style=\"text-align: right;\">\n",
       "      <th></th>\n",
       "      <th></th>\n",
       "      <th>총인구수</th>\n",
       "      <th>남자인구수</th>\n",
       "      <th>여자인구수</th>\n",
       "      <th>남녀비율</th>\n",
       "    </tr>\n",
       "  </thead>\n",
       "  <tbody>\n",
       "    <tr>\n",
       "      <th rowspan=\"2\" valign=\"top\">서울특별시</th>\n",
       "      <th>2010</th>\n",
       "      <td>10312545</td>\n",
       "      <td>5111259</td>\n",
       "      <td>5201286</td>\n",
       "      <td>98.269140</td>\n",
       "    </tr>\n",
       "    <tr>\n",
       "      <th>2020</th>\n",
       "      <td>9720846</td>\n",
       "      <td>4732275</td>\n",
       "      <td>4988571</td>\n",
       "      <td>94.862336</td>\n",
       "    </tr>\n",
       "    <tr>\n",
       "      <th rowspan=\"2\" valign=\"top\">부산광역시</th>\n",
       "      <th>2010</th>\n",
       "      <td>2567910</td>\n",
       "      <td>1773170</td>\n",
       "      <td>1794740</td>\n",
       "      <td>98.798155</td>\n",
       "    </tr>\n",
       "    <tr>\n",
       "      <th>2020</th>\n",
       "      <td>3404423</td>\n",
       "      <td>1668618</td>\n",
       "      <td>1735805</td>\n",
       "      <td>96.129346</td>\n",
       "    </tr>\n",
       "    <tr>\n",
       "      <th rowspan=\"2\" valign=\"top\">인천광역시</th>\n",
       "      <th>2010</th>\n",
       "      <td>2758296</td>\n",
       "      <td>1390356</td>\n",
       "      <td>1367940</td>\n",
       "      <td>101.638668</td>\n",
       "    </tr>\n",
       "    <tr>\n",
       "      <th>2020</th>\n",
       "      <td>2947217</td>\n",
       "      <td>1476813</td>\n",
       "      <td>1470404</td>\n",
       "      <td>100.435867</td>\n",
       "    </tr>\n",
       "    <tr>\n",
       "      <th rowspan=\"2\" valign=\"top\">대구광역시</th>\n",
       "      <th>2010</th>\n",
       "      <td>2511676</td>\n",
       "      <td>1255245</td>\n",
       "      <td>1256431</td>\n",
       "      <td>99.905606</td>\n",
       "    </tr>\n",
       "    <tr>\n",
       "      <th>2020</th>\n",
       "      <td>2427954</td>\n",
       "      <td>1198815</td>\n",
       "      <td>1229139</td>\n",
       "      <td>97.532907</td>\n",
       "    </tr>\n",
       "    <tr>\n",
       "      <th rowspan=\"2\" valign=\"top\">대전광역시</th>\n",
       "      <th>2010</th>\n",
       "      <td>1503664</td>\n",
       "      <td>753648</td>\n",
       "      <td>750016</td>\n",
       "      <td>100.484256</td>\n",
       "    </tr>\n",
       "    <tr>\n",
       "      <th>2020</th>\n",
       "      <td>1471040</td>\n",
       "      <td>734441</td>\n",
       "      <td>736599</td>\n",
       "      <td>99.707032</td>\n",
       "    </tr>\n",
       "    <tr>\n",
       "      <th rowspan=\"2\" valign=\"top\">광주광역시</th>\n",
       "      <th>2010</th>\n",
       "      <td>1454636</td>\n",
       "      <td>721780</td>\n",
       "      <td>732856</td>\n",
       "      <td>98.488653</td>\n",
       "    </tr>\n",
       "    <tr>\n",
       "      <th>2020</th>\n",
       "      <td>1455048</td>\n",
       "      <td>720060</td>\n",
       "      <td>734988</td>\n",
       "      <td>97.968946</td>\n",
       "    </tr>\n",
       "  </tbody>\n",
       "</table>\n",
       "</div>"
      ],
      "text/plain": [
       "                총인구수    남자인구수    여자인구수        남녀비율\n",
       "서울특별시 2010  10312545  5111259  5201286   98.269140\n",
       "      2020   9720846  4732275  4988571   94.862336\n",
       "부산광역시 2010   2567910  1773170  1794740   98.798155\n",
       "      2020   3404423  1668618  1735805   96.129346\n",
       "인천광역시 2010   2758296  1390356  1367940  101.638668\n",
       "      2020   2947217  1476813  1470404  100.435867\n",
       "대구광역시 2010   2511676  1255245  1256431   99.905606\n",
       "      2020   2427954  1198815  1229139   97.532907\n",
       "대전광역시 2010   1503664   753648   750016  100.484256\n",
       "      2020   1471040   734441   736599   99.707032\n",
       "광주광역시 2010   1454636   721780   732856   98.488653\n",
       "      2020   1455048   720060   734988   97.968946"
      ]
     },
     "execution_count": 105,
     "metadata": {},
     "output_type": "execute_result"
    }
   ],
   "source": [
    "korea_mdf = pd.DataFrame({'총인구수' : population,\n",
    "                        '남자인구수' : male_tuple,\n",
    "                         '여자인구수' : female_tuples,\n",
    "                         '남녀비율' :ratio})\n",
    "korea_mdf"
   ]
  },
  {
   "cell_type": "code",
   "execution_count": 108,
   "id": "6b158221",
   "metadata": {},
   "outputs": [
    {
     "data": {
      "text/html": [
       "<div>\n",
       "<style scoped>\n",
       "    .dataframe tbody tr th:only-of-type {\n",
       "        vertical-align: middle;\n",
       "    }\n",
       "\n",
       "    .dataframe tbody tr th {\n",
       "        vertical-align: top;\n",
       "    }\n",
       "\n",
       "    .dataframe thead th {\n",
       "        text-align: right;\n",
       "    }\n",
       "</style>\n",
       "<table border=\"1\" class=\"dataframe\">\n",
       "  <thead>\n",
       "    <tr style=\"text-align: right;\">\n",
       "      <th></th>\n",
       "      <th></th>\n",
       "      <th>c1</th>\n",
       "      <th>c2</th>\n",
       "      <th>c3</th>\n",
       "    </tr>\n",
       "  </thead>\n",
       "  <tbody>\n",
       "    <tr>\n",
       "      <th rowspan=\"2\" valign=\"top\">a</th>\n",
       "      <th>1</th>\n",
       "      <td>0.218807</td>\n",
       "      <td>0.427620</td>\n",
       "      <td>0.409229</td>\n",
       "    </tr>\n",
       "    <tr>\n",
       "      <th>2</th>\n",
       "      <td>0.151829</td>\n",
       "      <td>0.556294</td>\n",
       "      <td>0.218640</td>\n",
       "    </tr>\n",
       "    <tr>\n",
       "      <th rowspan=\"2\" valign=\"top\">b</th>\n",
       "      <th>1</th>\n",
       "      <td>0.775262</td>\n",
       "      <td>0.721901</td>\n",
       "      <td>0.141973</td>\n",
       "    </tr>\n",
       "    <tr>\n",
       "      <th>2</th>\n",
       "      <td>0.103445</td>\n",
       "      <td>0.867246</td>\n",
       "      <td>0.715293</td>\n",
       "    </tr>\n",
       "    <tr>\n",
       "      <th rowspan=\"2\" valign=\"top\">c</th>\n",
       "      <th>1</th>\n",
       "      <td>0.838668</td>\n",
       "      <td>0.029509</td>\n",
       "      <td>0.869207</td>\n",
       "    </tr>\n",
       "    <tr>\n",
       "      <th>2</th>\n",
       "      <td>0.723701</td>\n",
       "      <td>0.859051</td>\n",
       "      <td>0.549785</td>\n",
       "    </tr>\n",
       "  </tbody>\n",
       "</table>\n",
       "</div>"
      ],
      "text/plain": [
       "           c1        c2        c3\n",
       "a 1  0.218807  0.427620  0.409229\n",
       "  2  0.151829  0.556294  0.218640\n",
       "b 1  0.775262  0.721901  0.141973\n",
       "  2  0.103445  0.867246  0.715293\n",
       "c 1  0.838668  0.029509  0.869207\n",
       "  2  0.723701  0.859051  0.549785"
      ]
     },
     "execution_count": 108,
     "metadata": {},
     "output_type": "execute_result"
    }
   ],
   "source": [
    "# 다중인덱스 생성\n",
    "\n",
    "df = pd.DataFrame(np.random.rand(6,3),\n",
    "                 index = [['a', 'a', 'b', 'b', 'c', 'c'], [1,2,1,2,1,2]],\n",
    "                 columns = ['c1', 'c2', 'c3'])\n",
    "df"
   ]
  },
  {
   "cell_type": "code",
   "execution_count": 110,
   "id": "26673994",
   "metadata": {},
   "outputs": [
    {
     "data": {
      "text/plain": [
       "MultiIndex([('a', 1),\n",
       "            ('a', 2),\n",
       "            ('b', 1),\n",
       "            ('b', 2),\n",
       "            ('c', 1),\n",
       "            ('c', 2)],\n",
       "           )"
      ]
     },
     "execution_count": 110,
     "metadata": {},
     "output_type": "execute_result"
    }
   ],
   "source": [
    "pd.MultiIndex.from_arrays([['a', 'a', 'b', 'b', 'c', 'c'], [1,2,1,2,1,2]])"
   ]
  },
  {
   "cell_type": "code",
   "execution_count": 111,
   "id": "e333a4b2",
   "metadata": {},
   "outputs": [
    {
     "data": {
      "text/plain": [
       "MultiIndex([('a', 1),\n",
       "            ('a', 2),\n",
       "            ('b', 1),\n",
       "            ('b', 2),\n",
       "            ('c', 1),\n",
       "            ('c', 2)],\n",
       "           )"
      ]
     },
     "execution_count": 111,
     "metadata": {},
     "output_type": "execute_result"
    }
   ],
   "source": [
    "pd.MultiIndex.from_tuples([('a',1), ('a',2), ('b',1), ('b',2), ('c',1), ('c',2)])"
   ]
  },
  {
   "cell_type": "code",
   "execution_count": 112,
   "id": "7542b24c",
   "metadata": {},
   "outputs": [
    {
     "data": {
      "text/plain": [
       "MultiIndex([('a', 1),\n",
       "            ('a', 2),\n",
       "            ('b', 1),\n",
       "            ('b', 2),\n",
       "            ('c', 1),\n",
       "            ('c', 2)],\n",
       "           )"
      ]
     },
     "execution_count": 112,
     "metadata": {},
     "output_type": "execute_result"
    }
   ],
   "source": [
    "pd.MultiIndex.from_product([['a', 'b', 'c'], [1,2]])"
   ]
  },
  {
   "cell_type": "code",
   "execution_count": 113,
   "id": "fa406b39",
   "metadata": {},
   "outputs": [],
   "source": [
    "population.index.names = ['행정구역', '년도']"
   ]
  },
  {
   "cell_type": "code",
   "execution_count": 114,
   "id": "874802f3",
   "metadata": {},
   "outputs": [
    {
     "data": {
      "text/plain": [
       "행정구역   년도  \n",
       "서울특별시  2010    10312545\n",
       "       2020     9720846\n",
       "부산광역시  2010     2567910\n",
       "       2020     3404423\n",
       "인천광역시  2010     2758296\n",
       "       2020     2947217\n",
       "대구광역시  2010     2511676\n",
       "       2020     2427954\n",
       "대전광역시  2010     1503664\n",
       "       2020     1471040\n",
       "광주광역시  2010     1454636\n",
       "       2020     1455048\n",
       "dtype: int64"
      ]
     },
     "execution_count": 114,
     "metadata": {},
     "output_type": "execute_result"
    }
   ],
   "source": [
    "population"
   ]
  },
  {
   "cell_type": "code",
   "execution_count": 117,
   "id": "3c4f0906",
   "metadata": {},
   "outputs": [
    {
     "data": {
      "text/html": [
       "<div>\n",
       "<style scoped>\n",
       "    .dataframe tbody tr th:only-of-type {\n",
       "        vertical-align: middle;\n",
       "    }\n",
       "\n",
       "    .dataframe tbody tr th {\n",
       "        vertical-align: top;\n",
       "    }\n",
       "\n",
       "    .dataframe thead tr th {\n",
       "        text-align: left;\n",
       "    }\n",
       "\n",
       "    .dataframe thead tr:last-of-type th {\n",
       "        text-align: right;\n",
       "    }\n",
       "</style>\n",
       "<table border=\"1\" class=\"dataframe\">\n",
       "  <thead>\n",
       "    <tr>\n",
       "      <th></th>\n",
       "      <th>col_name1</th>\n",
       "      <th colspan=\"2\" halign=\"left\">c1</th>\n",
       "      <th colspan=\"2\" halign=\"left\">c2</th>\n",
       "      <th colspan=\"2\" halign=\"left\">c3</th>\n",
       "    </tr>\n",
       "    <tr>\n",
       "      <th></th>\n",
       "      <th>col_name2</th>\n",
       "      <th>1</th>\n",
       "      <th>2</th>\n",
       "      <th>1</th>\n",
       "      <th>2</th>\n",
       "      <th>1</th>\n",
       "      <th>2</th>\n",
       "    </tr>\n",
       "    <tr>\n",
       "      <th>name1</th>\n",
       "      <th>name2</th>\n",
       "      <th></th>\n",
       "      <th></th>\n",
       "      <th></th>\n",
       "      <th></th>\n",
       "      <th></th>\n",
       "      <th></th>\n",
       "    </tr>\n",
       "  </thead>\n",
       "  <tbody>\n",
       "    <tr>\n",
       "      <th rowspan=\"2\" valign=\"top\">a</th>\n",
       "      <th>1</th>\n",
       "      <td>0.85</td>\n",
       "      <td>-1.99</td>\n",
       "      <td>-2.10</td>\n",
       "      <td>-0.04</td>\n",
       "      <td>0.59</td>\n",
       "      <td>1.23</td>\n",
       "    </tr>\n",
       "    <tr>\n",
       "      <th>2</th>\n",
       "      <td>-0.14</td>\n",
       "      <td>0.60</td>\n",
       "      <td>-0.60</td>\n",
       "      <td>-0.37</td>\n",
       "      <td>-0.38</td>\n",
       "      <td>0.89</td>\n",
       "    </tr>\n",
       "    <tr>\n",
       "      <th rowspan=\"2\" valign=\"top\">b</th>\n",
       "      <th>1</th>\n",
       "      <td>-1.52</td>\n",
       "      <td>0.49</td>\n",
       "      <td>0.32</td>\n",
       "      <td>-0.50</td>\n",
       "      <td>-0.46</td>\n",
       "      <td>0.07</td>\n",
       "    </tr>\n",
       "    <tr>\n",
       "      <th>2</th>\n",
       "      <td>-1.07</td>\n",
       "      <td>-0.24</td>\n",
       "      <td>1.16</td>\n",
       "      <td>-0.72</td>\n",
       "      <td>-0.01</td>\n",
       "      <td>-0.61</td>\n",
       "    </tr>\n",
       "    <tr>\n",
       "      <th rowspan=\"2\" valign=\"top\">c</th>\n",
       "      <th>1</th>\n",
       "      <td>-1.61</td>\n",
       "      <td>-1.92</td>\n",
       "      <td>1.36</td>\n",
       "      <td>-0.33</td>\n",
       "      <td>-0.13</td>\n",
       "      <td>-0.87</td>\n",
       "    </tr>\n",
       "    <tr>\n",
       "      <th>2</th>\n",
       "      <td>0.83</td>\n",
       "      <td>-0.07</td>\n",
       "      <td>-0.13</td>\n",
       "      <td>1.22</td>\n",
       "      <td>-0.19</td>\n",
       "      <td>0.45</td>\n",
       "    </tr>\n",
       "  </tbody>\n",
       "</table>\n",
       "</div>"
      ],
      "text/plain": [
       "col_name1      c1          c2          c3      \n",
       "col_name2       1     2     1     2     1     2\n",
       "name1 name2                                    \n",
       "a     1      0.85 -1.99 -2.10 -0.04  0.59  1.23\n",
       "      2     -0.14  0.60 -0.60 -0.37 -0.38  0.89\n",
       "b     1     -1.52  0.49  0.32 -0.50 -0.46  0.07\n",
       "      2     -1.07 -0.24  1.16 -0.72 -0.01 -0.61\n",
       "c     1     -1.61 -1.92  1.36 -0.33 -0.13 -0.87\n",
       "      2      0.83 -0.07 -0.13  1.22 -0.19  0.45"
      ]
     },
     "execution_count": 117,
     "metadata": {},
     "output_type": "execute_result"
    }
   ],
   "source": [
    "idx = pd.MultiIndex.from_product([['a', 'b', 'c'], [1,2]],\n",
    "                                names = ['name1', 'name2'])\n",
    "cols = pd.MultiIndex.from_product([['c1', 'c2', 'c3'], [1,2]],\n",
    "                                names = ['col_name1', 'col_name2'])\n",
    "data = np.round(np.random.randn(6,6), 2)\n",
    "mdf = pd.DataFrame(data, index=idx, columns=cols)\n",
    "mdf"
   ]
  },
  {
   "cell_type": "code",
   "execution_count": 118,
   "id": "f2f28cc7",
   "metadata": {},
   "outputs": [
    {
     "data": {
      "text/plain": [
       "1    a\n",
       "2    b\n",
       "3    c\n",
       "4    d\n",
       "dtype: object"
      ]
     },
     "execution_count": 118,
     "metadata": {},
     "output_type": "execute_result"
    }
   ],
   "source": [
    "# 데이터 결합\n",
    "\n",
    "s1 = pd.Series(['a', 'b'], index = [1,2])\n",
    "s2 = pd.Series(['c', 'd'], index = [3,4])\n",
    "pd.concat([s1,s2])"
   ]
  },
  {
   "cell_type": "code",
   "execution_count": 120,
   "id": "ed358172",
   "metadata": {},
   "outputs": [],
   "source": [
    "def create_df(cols, idx):\n",
    "    data = {c: [str(c.lower()) + str(i) for i in idx] for c in cols}\n",
    "    return pd.DataFrame(data,idx)"
   ]
  },
  {
   "cell_type": "code",
   "execution_count": 121,
   "id": "9bf6a504",
   "metadata": {},
   "outputs": [
    {
     "data": {
      "text/html": [
       "<div>\n",
       "<style scoped>\n",
       "    .dataframe tbody tr th:only-of-type {\n",
       "        vertical-align: middle;\n",
       "    }\n",
       "\n",
       "    .dataframe tbody tr th {\n",
       "        vertical-align: top;\n",
       "    }\n",
       "\n",
       "    .dataframe thead th {\n",
       "        text-align: right;\n",
       "    }\n",
       "</style>\n",
       "<table border=\"1\" class=\"dataframe\">\n",
       "  <thead>\n",
       "    <tr style=\"text-align: right;\">\n",
       "      <th></th>\n",
       "      <th>A</th>\n",
       "      <th>B</th>\n",
       "    </tr>\n",
       "  </thead>\n",
       "  <tbody>\n",
       "    <tr>\n",
       "      <th>1</th>\n",
       "      <td>a1</td>\n",
       "      <td>b1</td>\n",
       "    </tr>\n",
       "    <tr>\n",
       "      <th>2</th>\n",
       "      <td>a2</td>\n",
       "      <td>b2</td>\n",
       "    </tr>\n",
       "  </tbody>\n",
       "</table>\n",
       "</div>"
      ],
      "text/plain": [
       "    A   B\n",
       "1  a1  b1\n",
       "2  a2  b2"
      ]
     },
     "execution_count": 121,
     "metadata": {},
     "output_type": "execute_result"
    }
   ],
   "source": [
    "df1 = create_df('AB', [1,2])\n",
    "df1"
   ]
  },
  {
   "cell_type": "code",
   "execution_count": 122,
   "id": "0f4bd47a",
   "metadata": {},
   "outputs": [
    {
     "data": {
      "text/html": [
       "<div>\n",
       "<style scoped>\n",
       "    .dataframe tbody tr th:only-of-type {\n",
       "        vertical-align: middle;\n",
       "    }\n",
       "\n",
       "    .dataframe tbody tr th {\n",
       "        vertical-align: top;\n",
       "    }\n",
       "\n",
       "    .dataframe thead th {\n",
       "        text-align: right;\n",
       "    }\n",
       "</style>\n",
       "<table border=\"1\" class=\"dataframe\">\n",
       "  <thead>\n",
       "    <tr style=\"text-align: right;\">\n",
       "      <th></th>\n",
       "      <th>A</th>\n",
       "      <th>B</th>\n",
       "    </tr>\n",
       "  </thead>\n",
       "  <tbody>\n",
       "    <tr>\n",
       "      <th>3</th>\n",
       "      <td>a3</td>\n",
       "      <td>b3</td>\n",
       "    </tr>\n",
       "    <tr>\n",
       "      <th>4</th>\n",
       "      <td>a4</td>\n",
       "      <td>b4</td>\n",
       "    </tr>\n",
       "  </tbody>\n",
       "</table>\n",
       "</div>"
      ],
      "text/plain": [
       "    A   B\n",
       "3  a3  b3\n",
       "4  a4  b4"
      ]
     },
     "execution_count": 122,
     "metadata": {},
     "output_type": "execute_result"
    }
   ],
   "source": [
    "df2 = create_df('AB', [3,4])\n",
    "df2"
   ]
  },
  {
   "cell_type": "code",
   "execution_count": 123,
   "id": "59aac8eb",
   "metadata": {},
   "outputs": [
    {
     "data": {
      "text/html": [
       "<div>\n",
       "<style scoped>\n",
       "    .dataframe tbody tr th:only-of-type {\n",
       "        vertical-align: middle;\n",
       "    }\n",
       "\n",
       "    .dataframe tbody tr th {\n",
       "        vertical-align: top;\n",
       "    }\n",
       "\n",
       "    .dataframe thead th {\n",
       "        text-align: right;\n",
       "    }\n",
       "</style>\n",
       "<table border=\"1\" class=\"dataframe\">\n",
       "  <thead>\n",
       "    <tr style=\"text-align: right;\">\n",
       "      <th></th>\n",
       "      <th>A</th>\n",
       "      <th>B</th>\n",
       "    </tr>\n",
       "  </thead>\n",
       "  <tbody>\n",
       "    <tr>\n",
       "      <th>1</th>\n",
       "      <td>a1</td>\n",
       "      <td>b1</td>\n",
       "    </tr>\n",
       "    <tr>\n",
       "      <th>2</th>\n",
       "      <td>a2</td>\n",
       "      <td>b2</td>\n",
       "    </tr>\n",
       "    <tr>\n",
       "      <th>3</th>\n",
       "      <td>a3</td>\n",
       "      <td>b3</td>\n",
       "    </tr>\n",
       "    <tr>\n",
       "      <th>4</th>\n",
       "      <td>a4</td>\n",
       "      <td>b4</td>\n",
       "    </tr>\n",
       "  </tbody>\n",
       "</table>\n",
       "</div>"
      ],
      "text/plain": [
       "    A   B\n",
       "1  a1  b1\n",
       "2  a2  b2\n",
       "3  a3  b3\n",
       "4  a4  b4"
      ]
     },
     "execution_count": 123,
     "metadata": {},
     "output_type": "execute_result"
    }
   ],
   "source": [
    "pd.concat([df1, df2])"
   ]
  },
  {
   "cell_type": "code",
   "execution_count": 124,
   "id": "855f3ff6",
   "metadata": {},
   "outputs": [
    {
     "data": {
      "text/html": [
       "<div>\n",
       "<style scoped>\n",
       "    .dataframe tbody tr th:only-of-type {\n",
       "        vertical-align: middle;\n",
       "    }\n",
       "\n",
       "    .dataframe tbody tr th {\n",
       "        vertical-align: top;\n",
       "    }\n",
       "\n",
       "    .dataframe thead th {\n",
       "        text-align: right;\n",
       "    }\n",
       "</style>\n",
       "<table border=\"1\" class=\"dataframe\">\n",
       "  <thead>\n",
       "    <tr style=\"text-align: right;\">\n",
       "      <th></th>\n",
       "      <th>A</th>\n",
       "      <th>B</th>\n",
       "    </tr>\n",
       "  </thead>\n",
       "  <tbody>\n",
       "    <tr>\n",
       "      <th>0</th>\n",
       "      <td>a0</td>\n",
       "      <td>b0</td>\n",
       "    </tr>\n",
       "    <tr>\n",
       "      <th>1</th>\n",
       "      <td>a1</td>\n",
       "      <td>b1</td>\n",
       "    </tr>\n",
       "  </tbody>\n",
       "</table>\n",
       "</div>"
      ],
      "text/plain": [
       "    A   B\n",
       "0  a0  b0\n",
       "1  a1  b1"
      ]
     },
     "execution_count": 124,
     "metadata": {},
     "output_type": "execute_result"
    }
   ],
   "source": [
    "df3 = create_df('AB', [0,1])\n",
    "df3"
   ]
  },
  {
   "cell_type": "code",
   "execution_count": 125,
   "id": "8464c3bb",
   "metadata": {},
   "outputs": [
    {
     "data": {
      "text/html": [
       "<div>\n",
       "<style scoped>\n",
       "    .dataframe tbody tr th:only-of-type {\n",
       "        vertical-align: middle;\n",
       "    }\n",
       "\n",
       "    .dataframe tbody tr th {\n",
       "        vertical-align: top;\n",
       "    }\n",
       "\n",
       "    .dataframe thead th {\n",
       "        text-align: right;\n",
       "    }\n",
       "</style>\n",
       "<table border=\"1\" class=\"dataframe\">\n",
       "  <thead>\n",
       "    <tr style=\"text-align: right;\">\n",
       "      <th></th>\n",
       "      <th>C</th>\n",
       "      <th>D</th>\n",
       "    </tr>\n",
       "  </thead>\n",
       "  <tbody>\n",
       "    <tr>\n",
       "      <th>0</th>\n",
       "      <td>c0</td>\n",
       "      <td>d0</td>\n",
       "    </tr>\n",
       "    <tr>\n",
       "      <th>1</th>\n",
       "      <td>c1</td>\n",
       "      <td>d1</td>\n",
       "    </tr>\n",
       "  </tbody>\n",
       "</table>\n",
       "</div>"
      ],
      "text/plain": [
       "    C   D\n",
       "0  c0  d0\n",
       "1  c1  d1"
      ]
     },
     "execution_count": 125,
     "metadata": {},
     "output_type": "execute_result"
    }
   ],
   "source": [
    "df4 = create_df('CD', [0,1])\n",
    "df4"
   ]
  },
  {
   "cell_type": "code",
   "execution_count": 126,
   "id": "001de3bf",
   "metadata": {},
   "outputs": [
    {
     "data": {
      "text/html": [
       "<div>\n",
       "<style scoped>\n",
       "    .dataframe tbody tr th:only-of-type {\n",
       "        vertical-align: middle;\n",
       "    }\n",
       "\n",
       "    .dataframe tbody tr th {\n",
       "        vertical-align: top;\n",
       "    }\n",
       "\n",
       "    .dataframe thead th {\n",
       "        text-align: right;\n",
       "    }\n",
       "</style>\n",
       "<table border=\"1\" class=\"dataframe\">\n",
       "  <thead>\n",
       "    <tr style=\"text-align: right;\">\n",
       "      <th></th>\n",
       "      <th>A</th>\n",
       "      <th>B</th>\n",
       "      <th>C</th>\n",
       "      <th>D</th>\n",
       "    </tr>\n",
       "  </thead>\n",
       "  <tbody>\n",
       "    <tr>\n",
       "      <th>0</th>\n",
       "      <td>a0</td>\n",
       "      <td>b0</td>\n",
       "      <td>NaN</td>\n",
       "      <td>NaN</td>\n",
       "    </tr>\n",
       "    <tr>\n",
       "      <th>1</th>\n",
       "      <td>a1</td>\n",
       "      <td>b1</td>\n",
       "      <td>NaN</td>\n",
       "      <td>NaN</td>\n",
       "    </tr>\n",
       "    <tr>\n",
       "      <th>0</th>\n",
       "      <td>NaN</td>\n",
       "      <td>NaN</td>\n",
       "      <td>c0</td>\n",
       "      <td>d0</td>\n",
       "    </tr>\n",
       "    <tr>\n",
       "      <th>1</th>\n",
       "      <td>NaN</td>\n",
       "      <td>NaN</td>\n",
       "      <td>c1</td>\n",
       "      <td>d1</td>\n",
       "    </tr>\n",
       "  </tbody>\n",
       "</table>\n",
       "</div>"
      ],
      "text/plain": [
       "     A    B    C    D\n",
       "0   a0   b0  NaN  NaN\n",
       "1   a1   b1  NaN  NaN\n",
       "0  NaN  NaN   c0   d0\n",
       "1  NaN  NaN   c1   d1"
      ]
     },
     "execution_count": 126,
     "metadata": {},
     "output_type": "execute_result"
    }
   ],
   "source": [
    "pd.concat([df3, df4])"
   ]
  },
  {
   "cell_type": "code",
   "execution_count": 128,
   "id": "37f30fa8",
   "metadata": {},
   "outputs": [
    {
     "ename": "ValueError",
     "evalue": "Indexes have overlapping values: Int64Index([1], dtype='int64')",
     "output_type": "error",
     "traceback": [
      "\u001b[0;31m---------------------------------------------------------------------------\u001b[0m",
      "\u001b[0;31mValueError\u001b[0m                                Traceback (most recent call last)",
      "\u001b[0;32m/var/folders/kk/gz0w5z5x38sd0qkdjkqmn82r0000gn/T/ipykernel_15487/2412148817.py\u001b[0m in \u001b[0;36m<module>\u001b[0;34m\u001b[0m\n\u001b[0;32m----> 1\u001b[0;31m \u001b[0mpd\u001b[0m\u001b[0;34m.\u001b[0m\u001b[0mconcat\u001b[0m\u001b[0;34m(\u001b[0m\u001b[0;34m[\u001b[0m\u001b[0mdf1\u001b[0m\u001b[0;34m,\u001b[0m \u001b[0mdf3\u001b[0m\u001b[0;34m]\u001b[0m\u001b[0;34m,\u001b[0m \u001b[0mverify_integrity\u001b[0m\u001b[0;34m=\u001b[0m\u001b[0;32mTrue\u001b[0m\u001b[0;34m)\u001b[0m\u001b[0;34m\u001b[0m\u001b[0;34m\u001b[0m\u001b[0m\n\u001b[0m",
      "\u001b[0;32m~/opt/anaconda3/lib/python3.9/site-packages/pandas/util/_decorators.py\u001b[0m in \u001b[0;36mwrapper\u001b[0;34m(*args, **kwargs)\u001b[0m\n\u001b[1;32m    309\u001b[0m                     \u001b[0mstacklevel\u001b[0m\u001b[0;34m=\u001b[0m\u001b[0mstacklevel\u001b[0m\u001b[0;34m,\u001b[0m\u001b[0;34m\u001b[0m\u001b[0;34m\u001b[0m\u001b[0m\n\u001b[1;32m    310\u001b[0m                 )\n\u001b[0;32m--> 311\u001b[0;31m             \u001b[0;32mreturn\u001b[0m \u001b[0mfunc\u001b[0m\u001b[0;34m(\u001b[0m\u001b[0;34m*\u001b[0m\u001b[0margs\u001b[0m\u001b[0;34m,\u001b[0m \u001b[0;34m**\u001b[0m\u001b[0mkwargs\u001b[0m\u001b[0;34m)\u001b[0m\u001b[0;34m\u001b[0m\u001b[0;34m\u001b[0m\u001b[0m\n\u001b[0m\u001b[1;32m    312\u001b[0m \u001b[0;34m\u001b[0m\u001b[0m\n\u001b[1;32m    313\u001b[0m         \u001b[0;32mreturn\u001b[0m \u001b[0mwrapper\u001b[0m\u001b[0;34m\u001b[0m\u001b[0;34m\u001b[0m\u001b[0m\n",
      "\u001b[0;32m~/opt/anaconda3/lib/python3.9/site-packages/pandas/core/reshape/concat.py\u001b[0m in \u001b[0;36mconcat\u001b[0;34m(objs, axis, join, ignore_index, keys, levels, names, verify_integrity, sort, copy)\u001b[0m\n\u001b[1;32m    345\u001b[0m     \u001b[0mValueError\u001b[0m\u001b[0;34m:\u001b[0m \u001b[0mIndexes\u001b[0m \u001b[0mhave\u001b[0m \u001b[0moverlapping\u001b[0m \u001b[0mvalues\u001b[0m\u001b[0;34m:\u001b[0m \u001b[0;34m[\u001b[0m\u001b[0;34m'a'\u001b[0m\u001b[0;34m]\u001b[0m\u001b[0;34m\u001b[0m\u001b[0;34m\u001b[0m\u001b[0m\n\u001b[1;32m    346\u001b[0m     \"\"\"\n\u001b[0;32m--> 347\u001b[0;31m     op = _Concatenator(\n\u001b[0m\u001b[1;32m    348\u001b[0m         \u001b[0mobjs\u001b[0m\u001b[0;34m,\u001b[0m\u001b[0;34m\u001b[0m\u001b[0;34m\u001b[0m\u001b[0m\n\u001b[1;32m    349\u001b[0m         \u001b[0maxis\u001b[0m\u001b[0;34m=\u001b[0m\u001b[0maxis\u001b[0m\u001b[0;34m,\u001b[0m\u001b[0;34m\u001b[0m\u001b[0;34m\u001b[0m\u001b[0m\n",
      "\u001b[0;32m~/opt/anaconda3/lib/python3.9/site-packages/pandas/core/reshape/concat.py\u001b[0m in \u001b[0;36m__init__\u001b[0;34m(self, objs, axis, join, keys, levels, names, ignore_index, verify_integrity, copy, sort)\u001b[0m\n\u001b[1;32m    540\u001b[0m         \u001b[0mself\u001b[0m\u001b[0;34m.\u001b[0m\u001b[0mcopy\u001b[0m \u001b[0;34m=\u001b[0m \u001b[0mcopy\u001b[0m\u001b[0;34m\u001b[0m\u001b[0;34m\u001b[0m\u001b[0m\n\u001b[1;32m    541\u001b[0m \u001b[0;34m\u001b[0m\u001b[0m\n\u001b[0;32m--> 542\u001b[0;31m         \u001b[0mself\u001b[0m\u001b[0;34m.\u001b[0m\u001b[0mnew_axes\u001b[0m \u001b[0;34m=\u001b[0m \u001b[0mself\u001b[0m\u001b[0;34m.\u001b[0m\u001b[0m_get_new_axes\u001b[0m\u001b[0;34m(\u001b[0m\u001b[0;34m)\u001b[0m\u001b[0;34m\u001b[0m\u001b[0;34m\u001b[0m\u001b[0m\n\u001b[0m\u001b[1;32m    543\u001b[0m \u001b[0;34m\u001b[0m\u001b[0m\n\u001b[1;32m    544\u001b[0m     \u001b[0;32mdef\u001b[0m \u001b[0mget_result\u001b[0m\u001b[0;34m(\u001b[0m\u001b[0mself\u001b[0m\u001b[0;34m)\u001b[0m\u001b[0;34m:\u001b[0m\u001b[0;34m\u001b[0m\u001b[0;34m\u001b[0m\u001b[0m\n",
      "\u001b[0;32m~/opt/anaconda3/lib/python3.9/site-packages/pandas/core/reshape/concat.py\u001b[0m in \u001b[0;36m_get_new_axes\u001b[0;34m(self)\u001b[0m\n\u001b[1;32m    610\u001b[0m     \u001b[0;32mdef\u001b[0m \u001b[0m_get_new_axes\u001b[0m\u001b[0;34m(\u001b[0m\u001b[0mself\u001b[0m\u001b[0;34m)\u001b[0m \u001b[0;34m->\u001b[0m \u001b[0mlist\u001b[0m\u001b[0;34m[\u001b[0m\u001b[0mIndex\u001b[0m\u001b[0;34m]\u001b[0m\u001b[0;34m:\u001b[0m\u001b[0;34m\u001b[0m\u001b[0;34m\u001b[0m\u001b[0m\n\u001b[1;32m    611\u001b[0m         \u001b[0mndim\u001b[0m \u001b[0;34m=\u001b[0m \u001b[0mself\u001b[0m\u001b[0;34m.\u001b[0m\u001b[0m_get_result_dim\u001b[0m\u001b[0;34m(\u001b[0m\u001b[0;34m)\u001b[0m\u001b[0;34m\u001b[0m\u001b[0;34m\u001b[0m\u001b[0m\n\u001b[0;32m--> 612\u001b[0;31m         return [\n\u001b[0m\u001b[1;32m    613\u001b[0m             \u001b[0mself\u001b[0m\u001b[0;34m.\u001b[0m\u001b[0m_get_concat_axis\u001b[0m \u001b[0;32mif\u001b[0m \u001b[0mi\u001b[0m \u001b[0;34m==\u001b[0m \u001b[0mself\u001b[0m\u001b[0;34m.\u001b[0m\u001b[0mbm_axis\u001b[0m \u001b[0;32melse\u001b[0m \u001b[0mself\u001b[0m\u001b[0;34m.\u001b[0m\u001b[0m_get_comb_axis\u001b[0m\u001b[0;34m(\u001b[0m\u001b[0mi\u001b[0m\u001b[0;34m)\u001b[0m\u001b[0;34m\u001b[0m\u001b[0;34m\u001b[0m\u001b[0m\n\u001b[1;32m    614\u001b[0m             \u001b[0;32mfor\u001b[0m \u001b[0mi\u001b[0m \u001b[0;32min\u001b[0m \u001b[0mrange\u001b[0m\u001b[0;34m(\u001b[0m\u001b[0mndim\u001b[0m\u001b[0;34m)\u001b[0m\u001b[0;34m\u001b[0m\u001b[0;34m\u001b[0m\u001b[0m\n",
      "\u001b[0;32m~/opt/anaconda3/lib/python3.9/site-packages/pandas/core/reshape/concat.py\u001b[0m in \u001b[0;36m<listcomp>\u001b[0;34m(.0)\u001b[0m\n\u001b[1;32m    611\u001b[0m         \u001b[0mndim\u001b[0m \u001b[0;34m=\u001b[0m \u001b[0mself\u001b[0m\u001b[0;34m.\u001b[0m\u001b[0m_get_result_dim\u001b[0m\u001b[0;34m(\u001b[0m\u001b[0;34m)\u001b[0m\u001b[0;34m\u001b[0m\u001b[0;34m\u001b[0m\u001b[0m\n\u001b[1;32m    612\u001b[0m         return [\n\u001b[0;32m--> 613\u001b[0;31m             \u001b[0mself\u001b[0m\u001b[0;34m.\u001b[0m\u001b[0m_get_concat_axis\u001b[0m \u001b[0;32mif\u001b[0m \u001b[0mi\u001b[0m \u001b[0;34m==\u001b[0m \u001b[0mself\u001b[0m\u001b[0;34m.\u001b[0m\u001b[0mbm_axis\u001b[0m \u001b[0;32melse\u001b[0m \u001b[0mself\u001b[0m\u001b[0;34m.\u001b[0m\u001b[0m_get_comb_axis\u001b[0m\u001b[0;34m(\u001b[0m\u001b[0mi\u001b[0m\u001b[0;34m)\u001b[0m\u001b[0;34m\u001b[0m\u001b[0;34m\u001b[0m\u001b[0m\n\u001b[0m\u001b[1;32m    614\u001b[0m             \u001b[0;32mfor\u001b[0m \u001b[0mi\u001b[0m \u001b[0;32min\u001b[0m \u001b[0mrange\u001b[0m\u001b[0;34m(\u001b[0m\u001b[0mndim\u001b[0m\u001b[0;34m)\u001b[0m\u001b[0;34m\u001b[0m\u001b[0;34m\u001b[0m\u001b[0m\n\u001b[1;32m    615\u001b[0m         ]\n",
      "\u001b[0;32m~/opt/anaconda3/lib/python3.9/site-packages/pandas/_libs/properties.pyx\u001b[0m in \u001b[0;36mpandas._libs.properties.CachedProperty.__get__\u001b[0;34m()\u001b[0m\n",
      "\u001b[0;32m~/opt/anaconda3/lib/python3.9/site-packages/pandas/core/reshape/concat.py\u001b[0m in \u001b[0;36m_get_concat_axis\u001b[0;34m(self)\u001b[0m\n\u001b[1;32m    672\u001b[0m             )\n\u001b[1;32m    673\u001b[0m \u001b[0;34m\u001b[0m\u001b[0m\n\u001b[0;32m--> 674\u001b[0;31m         \u001b[0mself\u001b[0m\u001b[0;34m.\u001b[0m\u001b[0m_maybe_check_integrity\u001b[0m\u001b[0;34m(\u001b[0m\u001b[0mconcat_axis\u001b[0m\u001b[0;34m)\u001b[0m\u001b[0;34m\u001b[0m\u001b[0;34m\u001b[0m\u001b[0m\n\u001b[0m\u001b[1;32m    675\u001b[0m \u001b[0;34m\u001b[0m\u001b[0m\n\u001b[1;32m    676\u001b[0m         \u001b[0;32mreturn\u001b[0m \u001b[0mconcat_axis\u001b[0m\u001b[0;34m\u001b[0m\u001b[0;34m\u001b[0m\u001b[0m\n",
      "\u001b[0;32m~/opt/anaconda3/lib/python3.9/site-packages/pandas/core/reshape/concat.py\u001b[0m in \u001b[0;36m_maybe_check_integrity\u001b[0;34m(self, concat_index)\u001b[0m\n\u001b[1;32m    680\u001b[0m             \u001b[0;32mif\u001b[0m \u001b[0;32mnot\u001b[0m \u001b[0mconcat_index\u001b[0m\u001b[0;34m.\u001b[0m\u001b[0mis_unique\u001b[0m\u001b[0;34m:\u001b[0m\u001b[0;34m\u001b[0m\u001b[0;34m\u001b[0m\u001b[0m\n\u001b[1;32m    681\u001b[0m                 \u001b[0moverlap\u001b[0m \u001b[0;34m=\u001b[0m \u001b[0mconcat_index\u001b[0m\u001b[0;34m[\u001b[0m\u001b[0mconcat_index\u001b[0m\u001b[0;34m.\u001b[0m\u001b[0mduplicated\u001b[0m\u001b[0;34m(\u001b[0m\u001b[0;34m)\u001b[0m\u001b[0;34m]\u001b[0m\u001b[0;34m.\u001b[0m\u001b[0munique\u001b[0m\u001b[0;34m(\u001b[0m\u001b[0;34m)\u001b[0m\u001b[0;34m\u001b[0m\u001b[0;34m\u001b[0m\u001b[0m\n\u001b[0;32m--> 682\u001b[0;31m                 \u001b[0;32mraise\u001b[0m \u001b[0mValueError\u001b[0m\u001b[0;34m(\u001b[0m\u001b[0;34mf\"Indexes have overlapping values: {overlap}\"\u001b[0m\u001b[0;34m)\u001b[0m\u001b[0;34m\u001b[0m\u001b[0;34m\u001b[0m\u001b[0m\n\u001b[0m\u001b[1;32m    683\u001b[0m \u001b[0;34m\u001b[0m\u001b[0m\n\u001b[1;32m    684\u001b[0m \u001b[0;34m\u001b[0m\u001b[0m\n",
      "\u001b[0;31mValueError\u001b[0m: Indexes have overlapping values: Int64Index([1], dtype='int64')"
     ]
    }
   ],
   "source": [
    "pd.concat([df1, df3], verify_integrity=True)"
   ]
  },
  {
   "cell_type": "code",
   "execution_count": 129,
   "id": "ed9e35c6",
   "metadata": {},
   "outputs": [
    {
     "data": {
      "text/html": [
       "<div>\n",
       "<style scoped>\n",
       "    .dataframe tbody tr th:only-of-type {\n",
       "        vertical-align: middle;\n",
       "    }\n",
       "\n",
       "    .dataframe tbody tr th {\n",
       "        vertical-align: top;\n",
       "    }\n",
       "\n",
       "    .dataframe thead th {\n",
       "        text-align: right;\n",
       "    }\n",
       "</style>\n",
       "<table border=\"1\" class=\"dataframe\">\n",
       "  <thead>\n",
       "    <tr style=\"text-align: right;\">\n",
       "      <th></th>\n",
       "      <th>A</th>\n",
       "      <th>B</th>\n",
       "    </tr>\n",
       "  </thead>\n",
       "  <tbody>\n",
       "    <tr>\n",
       "      <th>0</th>\n",
       "      <td>a1</td>\n",
       "      <td>b1</td>\n",
       "    </tr>\n",
       "    <tr>\n",
       "      <th>1</th>\n",
       "      <td>a2</td>\n",
       "      <td>b2</td>\n",
       "    </tr>\n",
       "    <tr>\n",
       "      <th>2</th>\n",
       "      <td>a0</td>\n",
       "      <td>b0</td>\n",
       "    </tr>\n",
       "    <tr>\n",
       "      <th>3</th>\n",
       "      <td>a1</td>\n",
       "      <td>b1</td>\n",
       "    </tr>\n",
       "  </tbody>\n",
       "</table>\n",
       "</div>"
      ],
      "text/plain": [
       "    A   B\n",
       "0  a1  b1\n",
       "1  a2  b2\n",
       "2  a0  b0\n",
       "3  a1  b1"
      ]
     },
     "execution_count": 129,
     "metadata": {},
     "output_type": "execute_result"
    }
   ],
   "source": [
    "pd.concat([df1, df3], ignore_index=True)"
   ]
  },
  {
   "cell_type": "code",
   "execution_count": 130,
   "id": "e0c9e885",
   "metadata": {},
   "outputs": [
    {
     "data": {
      "text/html": [
       "<div>\n",
       "<style scoped>\n",
       "    .dataframe tbody tr th:only-of-type {\n",
       "        vertical-align: middle;\n",
       "    }\n",
       "\n",
       "    .dataframe tbody tr th {\n",
       "        vertical-align: top;\n",
       "    }\n",
       "\n",
       "    .dataframe thead th {\n",
       "        text-align: right;\n",
       "    }\n",
       "</style>\n",
       "<table border=\"1\" class=\"dataframe\">\n",
       "  <thead>\n",
       "    <tr style=\"text-align: right;\">\n",
       "      <th></th>\n",
       "      <th></th>\n",
       "      <th>A</th>\n",
       "      <th>B</th>\n",
       "    </tr>\n",
       "  </thead>\n",
       "  <tbody>\n",
       "    <tr>\n",
       "      <th rowspan=\"2\" valign=\"top\">X</th>\n",
       "      <th>1</th>\n",
       "      <td>a1</td>\n",
       "      <td>b1</td>\n",
       "    </tr>\n",
       "    <tr>\n",
       "      <th>2</th>\n",
       "      <td>a2</td>\n",
       "      <td>b2</td>\n",
       "    </tr>\n",
       "    <tr>\n",
       "      <th rowspan=\"2\" valign=\"top\">Y</th>\n",
       "      <th>0</th>\n",
       "      <td>a0</td>\n",
       "      <td>b0</td>\n",
       "    </tr>\n",
       "    <tr>\n",
       "      <th>1</th>\n",
       "      <td>a1</td>\n",
       "      <td>b1</td>\n",
       "    </tr>\n",
       "  </tbody>\n",
       "</table>\n",
       "</div>"
      ],
      "text/plain": [
       "      A   B\n",
       "X 1  a1  b1\n",
       "  2  a2  b2\n",
       "Y 0  a0  b0\n",
       "  1  a1  b1"
      ]
     },
     "execution_count": 130,
     "metadata": {},
     "output_type": "execute_result"
    }
   ],
   "source": [
    "pd.concat([df1, df3], keys = ['X', 'Y'])"
   ]
  },
  {
   "cell_type": "code",
   "execution_count": 131,
   "id": "ac559628",
   "metadata": {},
   "outputs": [
    {
     "data": {
      "text/html": [
       "<div>\n",
       "<style scoped>\n",
       "    .dataframe tbody tr th:only-of-type {\n",
       "        vertical-align: middle;\n",
       "    }\n",
       "\n",
       "    .dataframe tbody tr th {\n",
       "        vertical-align: top;\n",
       "    }\n",
       "\n",
       "    .dataframe thead th {\n",
       "        text-align: right;\n",
       "    }\n",
       "</style>\n",
       "<table border=\"1\" class=\"dataframe\">\n",
       "  <thead>\n",
       "    <tr style=\"text-align: right;\">\n",
       "      <th></th>\n",
       "      <th>A</th>\n",
       "      <th>B</th>\n",
       "      <th>C</th>\n",
       "      <th>D</th>\n",
       "    </tr>\n",
       "  </thead>\n",
       "  <tbody>\n",
       "    <tr>\n",
       "      <th>1</th>\n",
       "      <td>a1</td>\n",
       "      <td>b1</td>\n",
       "      <td>c1</td>\n",
       "      <td>NaN</td>\n",
       "    </tr>\n",
       "    <tr>\n",
       "      <th>2</th>\n",
       "      <td>a2</td>\n",
       "      <td>b2</td>\n",
       "      <td>c2</td>\n",
       "      <td>NaN</td>\n",
       "    </tr>\n",
       "    <tr>\n",
       "      <th>3</th>\n",
       "      <td>NaN</td>\n",
       "      <td>b3</td>\n",
       "      <td>c3</td>\n",
       "      <td>d3</td>\n",
       "    </tr>\n",
       "    <tr>\n",
       "      <th>4</th>\n",
       "      <td>NaN</td>\n",
       "      <td>b4</td>\n",
       "      <td>c4</td>\n",
       "      <td>d4</td>\n",
       "    </tr>\n",
       "  </tbody>\n",
       "</table>\n",
       "</div>"
      ],
      "text/plain": [
       "     A   B   C    D\n",
       "1   a1  b1  c1  NaN\n",
       "2   a2  b2  c2  NaN\n",
       "3  NaN  b3  c3   d3\n",
       "4  NaN  b4  c4   d4"
      ]
     },
     "execution_count": 131,
     "metadata": {},
     "output_type": "execute_result"
    }
   ],
   "source": [
    "df5 = create_df('ABC', [1,2])\n",
    "df6 = create_df('BCD', [3,4])\n",
    "pd.concat([df5, df6])"
   ]
  },
  {
   "cell_type": "code",
   "execution_count": 132,
   "id": "13653672",
   "metadata": {},
   "outputs": [
    {
     "data": {
      "text/html": [
       "<div>\n",
       "<style scoped>\n",
       "    .dataframe tbody tr th:only-of-type {\n",
       "        vertical-align: middle;\n",
       "    }\n",
       "\n",
       "    .dataframe tbody tr th {\n",
       "        vertical-align: top;\n",
       "    }\n",
       "\n",
       "    .dataframe thead th {\n",
       "        text-align: right;\n",
       "    }\n",
       "</style>\n",
       "<table border=\"1\" class=\"dataframe\">\n",
       "  <thead>\n",
       "    <tr style=\"text-align: right;\">\n",
       "      <th></th>\n",
       "      <th>B</th>\n",
       "      <th>C</th>\n",
       "    </tr>\n",
       "  </thead>\n",
       "  <tbody>\n",
       "    <tr>\n",
       "      <th>1</th>\n",
       "      <td>b1</td>\n",
       "      <td>c1</td>\n",
       "    </tr>\n",
       "    <tr>\n",
       "      <th>2</th>\n",
       "      <td>b2</td>\n",
       "      <td>c2</td>\n",
       "    </tr>\n",
       "    <tr>\n",
       "      <th>3</th>\n",
       "      <td>b3</td>\n",
       "      <td>c3</td>\n",
       "    </tr>\n",
       "    <tr>\n",
       "      <th>4</th>\n",
       "      <td>b4</td>\n",
       "      <td>c4</td>\n",
       "    </tr>\n",
       "  </tbody>\n",
       "</table>\n",
       "</div>"
      ],
      "text/plain": [
       "    B   C\n",
       "1  b1  c1\n",
       "2  b2  c2\n",
       "3  b3  c3\n",
       "4  b4  c4"
      ]
     },
     "execution_count": 132,
     "metadata": {},
     "output_type": "execute_result"
    }
   ],
   "source": [
    "pd.concat([df5, df6], join = 'inner')"
   ]
  },
  {
   "cell_type": "code",
   "execution_count": 133,
   "id": "022e2c51",
   "metadata": {},
   "outputs": [
    {
     "name": "stderr",
     "output_type": "stream",
     "text": [
      "/var/folders/kk/gz0w5z5x38sd0qkdjkqmn82r0000gn/T/ipykernel_15487/551904218.py:1: FutureWarning: The frame.append method is deprecated and will be removed from pandas in a future version. Use pandas.concat instead.\n",
      "  df5.append(df6)\n"
     ]
    },
    {
     "data": {
      "text/html": [
       "<div>\n",
       "<style scoped>\n",
       "    .dataframe tbody tr th:only-of-type {\n",
       "        vertical-align: middle;\n",
       "    }\n",
       "\n",
       "    .dataframe tbody tr th {\n",
       "        vertical-align: top;\n",
       "    }\n",
       "\n",
       "    .dataframe thead th {\n",
       "        text-align: right;\n",
       "    }\n",
       "</style>\n",
       "<table border=\"1\" class=\"dataframe\">\n",
       "  <thead>\n",
       "    <tr style=\"text-align: right;\">\n",
       "      <th></th>\n",
       "      <th>A</th>\n",
       "      <th>B</th>\n",
       "      <th>C</th>\n",
       "      <th>D</th>\n",
       "    </tr>\n",
       "  </thead>\n",
       "  <tbody>\n",
       "    <tr>\n",
       "      <th>1</th>\n",
       "      <td>a1</td>\n",
       "      <td>b1</td>\n",
       "      <td>c1</td>\n",
       "      <td>NaN</td>\n",
       "    </tr>\n",
       "    <tr>\n",
       "      <th>2</th>\n",
       "      <td>a2</td>\n",
       "      <td>b2</td>\n",
       "      <td>c2</td>\n",
       "      <td>NaN</td>\n",
       "    </tr>\n",
       "    <tr>\n",
       "      <th>3</th>\n",
       "      <td>NaN</td>\n",
       "      <td>b3</td>\n",
       "      <td>c3</td>\n",
       "      <td>d3</td>\n",
       "    </tr>\n",
       "    <tr>\n",
       "      <th>4</th>\n",
       "      <td>NaN</td>\n",
       "      <td>b4</td>\n",
       "      <td>c4</td>\n",
       "      <td>d4</td>\n",
       "    </tr>\n",
       "  </tbody>\n",
       "</table>\n",
       "</div>"
      ],
      "text/plain": [
       "     A   B   C    D\n",
       "1   a1  b1  c1  NaN\n",
       "2   a2  b2  c2  NaN\n",
       "3  NaN  b3  c3   d3\n",
       "4  NaN  b4  c4   d4"
      ]
     },
     "execution_count": 133,
     "metadata": {},
     "output_type": "execute_result"
    }
   ],
   "source": [
    "df5.append(df6)"
   ]
  },
  {
   "cell_type": "code",
   "execution_count": 134,
   "id": "2d79ec14",
   "metadata": {},
   "outputs": [
    {
     "data": {
      "text/html": [
       "<div>\n",
       "<style scoped>\n",
       "    .dataframe tbody tr th:only-of-type {\n",
       "        vertical-align: middle;\n",
       "    }\n",
       "\n",
       "    .dataframe tbody tr th {\n",
       "        vertical-align: top;\n",
       "    }\n",
       "\n",
       "    .dataframe thead th {\n",
       "        text-align: right;\n",
       "    }\n",
       "</style>\n",
       "<table border=\"1\" class=\"dataframe\">\n",
       "  <thead>\n",
       "    <tr style=\"text-align: right;\">\n",
       "      <th></th>\n",
       "      <th>학생</th>\n",
       "      <th>학과</th>\n",
       "    </tr>\n",
       "  </thead>\n",
       "  <tbody>\n",
       "    <tr>\n",
       "      <th>0</th>\n",
       "      <td>홍길동</td>\n",
       "      <td>경영학과</td>\n",
       "    </tr>\n",
       "    <tr>\n",
       "      <th>1</th>\n",
       "      <td>이순신</td>\n",
       "      <td>교육학과</td>\n",
       "    </tr>\n",
       "    <tr>\n",
       "      <th>2</th>\n",
       "      <td>임꺽정</td>\n",
       "      <td>컴퓨터학과</td>\n",
       "    </tr>\n",
       "    <tr>\n",
       "      <th>3</th>\n",
       "      <td>김유신</td>\n",
       "      <td>통계학과</td>\n",
       "    </tr>\n",
       "  </tbody>\n",
       "</table>\n",
       "</div>"
      ],
      "text/plain": [
       "    학생     학과\n",
       "0  홍길동   경영학과\n",
       "1  이순신   교육학과\n",
       "2  임꺽정  컴퓨터학과\n",
       "3  김유신   통계학과"
      ]
     },
     "execution_count": 134,
     "metadata": {},
     "output_type": "execute_result"
    }
   ],
   "source": [
    "# 병합과 조인\n",
    "\n",
    "df1 = pd.DataFrame({'학생' : ['홍길동', '이순신', '임꺽정', '김유신'],\n",
    "                   '학과' : ['경영학과', '교육학과', '컴퓨터학과', '통계학과']})\n",
    "df1"
   ]
  },
  {
   "cell_type": "code",
   "execution_count": 135,
   "id": "54c271a6",
   "metadata": {},
   "outputs": [
    {
     "data": {
      "text/html": [
       "<div>\n",
       "<style scoped>\n",
       "    .dataframe tbody tr th:only-of-type {\n",
       "        vertical-align: middle;\n",
       "    }\n",
       "\n",
       "    .dataframe tbody tr th {\n",
       "        vertical-align: top;\n",
       "    }\n",
       "\n",
       "    .dataframe thead th {\n",
       "        text-align: right;\n",
       "    }\n",
       "</style>\n",
       "<table border=\"1\" class=\"dataframe\">\n",
       "  <thead>\n",
       "    <tr style=\"text-align: right;\">\n",
       "      <th></th>\n",
       "      <th>학생</th>\n",
       "      <th>입학년도</th>\n",
       "    </tr>\n",
       "  </thead>\n",
       "  <tbody>\n",
       "    <tr>\n",
       "      <th>0</th>\n",
       "      <td>홍길동</td>\n",
       "      <td>2012</td>\n",
       "    </tr>\n",
       "    <tr>\n",
       "      <th>1</th>\n",
       "      <td>이순신</td>\n",
       "      <td>2016</td>\n",
       "    </tr>\n",
       "    <tr>\n",
       "      <th>2</th>\n",
       "      <td>임꺽정</td>\n",
       "      <td>2019</td>\n",
       "    </tr>\n",
       "    <tr>\n",
       "      <th>3</th>\n",
       "      <td>김유신</td>\n",
       "      <td>2020</td>\n",
       "    </tr>\n",
       "  </tbody>\n",
       "</table>\n",
       "</div>"
      ],
      "text/plain": [
       "    학생  입학년도\n",
       "0  홍길동  2012\n",
       "1  이순신  2016\n",
       "2  임꺽정  2019\n",
       "3  김유신  2020"
      ]
     },
     "execution_count": 135,
     "metadata": {},
     "output_type": "execute_result"
    }
   ],
   "source": [
    "df2 = pd.DataFrame({'학생' : ['홍길동', '이순신', '임꺽정', '김유신'],\n",
    "                   '입학년도' : [2012, 2016, 2019, 2020]})\n",
    "df2"
   ]
  },
  {
   "cell_type": "code",
   "execution_count": 136,
   "id": "9d318eb7",
   "metadata": {},
   "outputs": [
    {
     "data": {
      "text/html": [
       "<div>\n",
       "<style scoped>\n",
       "    .dataframe tbody tr th:only-of-type {\n",
       "        vertical-align: middle;\n",
       "    }\n",
       "\n",
       "    .dataframe tbody tr th {\n",
       "        vertical-align: top;\n",
       "    }\n",
       "\n",
       "    .dataframe thead th {\n",
       "        text-align: right;\n",
       "    }\n",
       "</style>\n",
       "<table border=\"1\" class=\"dataframe\">\n",
       "  <thead>\n",
       "    <tr style=\"text-align: right;\">\n",
       "      <th></th>\n",
       "      <th>학생</th>\n",
       "      <th>학과</th>\n",
       "      <th>입학년도</th>\n",
       "    </tr>\n",
       "  </thead>\n",
       "  <tbody>\n",
       "    <tr>\n",
       "      <th>0</th>\n",
       "      <td>홍길동</td>\n",
       "      <td>경영학과</td>\n",
       "      <td>2012</td>\n",
       "    </tr>\n",
       "    <tr>\n",
       "      <th>1</th>\n",
       "      <td>이순신</td>\n",
       "      <td>교육학과</td>\n",
       "      <td>2016</td>\n",
       "    </tr>\n",
       "    <tr>\n",
       "      <th>2</th>\n",
       "      <td>임꺽정</td>\n",
       "      <td>컴퓨터학과</td>\n",
       "      <td>2019</td>\n",
       "    </tr>\n",
       "    <tr>\n",
       "      <th>3</th>\n",
       "      <td>김유신</td>\n",
       "      <td>통계학과</td>\n",
       "      <td>2020</td>\n",
       "    </tr>\n",
       "  </tbody>\n",
       "</table>\n",
       "</div>"
      ],
      "text/plain": [
       "    학생     학과  입학년도\n",
       "0  홍길동   경영학과  2012\n",
       "1  이순신   교육학과  2016\n",
       "2  임꺽정  컴퓨터학과  2019\n",
       "3  김유신   통계학과  2020"
      ]
     },
     "execution_count": 136,
     "metadata": {},
     "output_type": "execute_result"
    }
   ],
   "source": [
    "df3 = pd.merge(df1, df2)\n",
    "df3"
   ]
  },
  {
   "cell_type": "code",
   "execution_count": 138,
   "id": "1422e3ff",
   "metadata": {},
   "outputs": [
    {
     "data": {
      "text/html": [
       "<div>\n",
       "<style scoped>\n",
       "    .dataframe tbody tr th:only-of-type {\n",
       "        vertical-align: middle;\n",
       "    }\n",
       "\n",
       "    .dataframe tbody tr th {\n",
       "        vertical-align: top;\n",
       "    }\n",
       "\n",
       "    .dataframe thead th {\n",
       "        text-align: right;\n",
       "    }\n",
       "</style>\n",
       "<table border=\"1\" class=\"dataframe\">\n",
       "  <thead>\n",
       "    <tr style=\"text-align: right;\">\n",
       "      <th></th>\n",
       "      <th>학과</th>\n",
       "      <th>학과장</th>\n",
       "    </tr>\n",
       "  </thead>\n",
       "  <tbody>\n",
       "    <tr>\n",
       "      <th>0</th>\n",
       "      <td>경영학과</td>\n",
       "      <td>황희</td>\n",
       "    </tr>\n",
       "    <tr>\n",
       "      <th>1</th>\n",
       "      <td>교육학과</td>\n",
       "      <td>장영실</td>\n",
       "    </tr>\n",
       "    <tr>\n",
       "      <th>2</th>\n",
       "      <td>컴퓨터학과</td>\n",
       "      <td>안창호</td>\n",
       "    </tr>\n",
       "    <tr>\n",
       "      <th>3</th>\n",
       "      <td>통계학과</td>\n",
       "      <td>정약용</td>\n",
       "    </tr>\n",
       "  </tbody>\n",
       "</table>\n",
       "</div>"
      ],
      "text/plain": [
       "      학과  학과장\n",
       "0   경영학과   황희\n",
       "1   교육학과  장영실\n",
       "2  컴퓨터학과  안창호\n",
       "3   통계학과  정약용"
      ]
     },
     "execution_count": 138,
     "metadata": {},
     "output_type": "execute_result"
    }
   ],
   "source": [
    "df4 = pd.DataFrame({'학과' : ['경영학과', '교육학과', '컴퓨터학과', '통계학과'],\n",
    "                   '학과장' : ['황희', '장영실', '안창호', '정약용']})\n",
    "df4"
   ]
  },
  {
   "cell_type": "code",
   "execution_count": 139,
   "id": "6a1ccd6d",
   "metadata": {},
   "outputs": [
    {
     "data": {
      "text/html": [
       "<div>\n",
       "<style scoped>\n",
       "    .dataframe tbody tr th:only-of-type {\n",
       "        vertical-align: middle;\n",
       "    }\n",
       "\n",
       "    .dataframe tbody tr th {\n",
       "        vertical-align: top;\n",
       "    }\n",
       "\n",
       "    .dataframe thead th {\n",
       "        text-align: right;\n",
       "    }\n",
       "</style>\n",
       "<table border=\"1\" class=\"dataframe\">\n",
       "  <thead>\n",
       "    <tr style=\"text-align: right;\">\n",
       "      <th></th>\n",
       "      <th>학생</th>\n",
       "      <th>학과</th>\n",
       "      <th>입학년도</th>\n",
       "      <th>학과장</th>\n",
       "    </tr>\n",
       "  </thead>\n",
       "  <tbody>\n",
       "    <tr>\n",
       "      <th>0</th>\n",
       "      <td>홍길동</td>\n",
       "      <td>경영학과</td>\n",
       "      <td>2012</td>\n",
       "      <td>황희</td>\n",
       "    </tr>\n",
       "    <tr>\n",
       "      <th>1</th>\n",
       "      <td>이순신</td>\n",
       "      <td>교육학과</td>\n",
       "      <td>2016</td>\n",
       "      <td>장영실</td>\n",
       "    </tr>\n",
       "    <tr>\n",
       "      <th>2</th>\n",
       "      <td>임꺽정</td>\n",
       "      <td>컴퓨터학과</td>\n",
       "      <td>2019</td>\n",
       "      <td>안창호</td>\n",
       "    </tr>\n",
       "    <tr>\n",
       "      <th>3</th>\n",
       "      <td>김유신</td>\n",
       "      <td>통계학과</td>\n",
       "      <td>2020</td>\n",
       "      <td>정약용</td>\n",
       "    </tr>\n",
       "  </tbody>\n",
       "</table>\n",
       "</div>"
      ],
      "text/plain": [
       "    학생     학과  입학년도  학과장\n",
       "0  홍길동   경영학과  2012   황희\n",
       "1  이순신   교육학과  2016  장영실\n",
       "2  임꺽정  컴퓨터학과  2019  안창호\n",
       "3  김유신   통계학과  2020  정약용"
      ]
     },
     "execution_count": 139,
     "metadata": {},
     "output_type": "execute_result"
    }
   ],
   "source": [
    "pd.merge(df3, df4)"
   ]
  },
  {
   "cell_type": "code",
   "execution_count": 140,
   "id": "69dedfe6",
   "metadata": {},
   "outputs": [
    {
     "data": {
      "text/html": [
       "<div>\n",
       "<style scoped>\n",
       "    .dataframe tbody tr th:only-of-type {\n",
       "        vertical-align: middle;\n",
       "    }\n",
       "\n",
       "    .dataframe tbody tr th {\n",
       "        vertical-align: top;\n",
       "    }\n",
       "\n",
       "    .dataframe thead th {\n",
       "        text-align: right;\n",
       "    }\n",
       "</style>\n",
       "<table border=\"1\" class=\"dataframe\">\n",
       "  <thead>\n",
       "    <tr style=\"text-align: right;\">\n",
       "      <th></th>\n",
       "      <th>학과</th>\n",
       "      <th>과목</th>\n",
       "    </tr>\n",
       "  </thead>\n",
       "  <tbody>\n",
       "    <tr>\n",
       "      <th>0</th>\n",
       "      <td>경영학과</td>\n",
       "      <td>경영개론</td>\n",
       "    </tr>\n",
       "    <tr>\n",
       "      <th>1</th>\n",
       "      <td>교육학과</td>\n",
       "      <td>기초수학</td>\n",
       "    </tr>\n",
       "    <tr>\n",
       "      <th>2</th>\n",
       "      <td>교육학과</td>\n",
       "      <td>물리학</td>\n",
       "    </tr>\n",
       "    <tr>\n",
       "      <th>3</th>\n",
       "      <td>컴퓨터학과</td>\n",
       "      <td>프로그래밍</td>\n",
       "    </tr>\n",
       "    <tr>\n",
       "      <th>4</th>\n",
       "      <td>컴퓨터학과</td>\n",
       "      <td>운영체제</td>\n",
       "    </tr>\n",
       "    <tr>\n",
       "      <th>5</th>\n",
       "      <td>통계학과</td>\n",
       "      <td>확률론</td>\n",
       "    </tr>\n",
       "  </tbody>\n",
       "</table>\n",
       "</div>"
      ],
      "text/plain": [
       "      학과     과목\n",
       "0   경영학과   경영개론\n",
       "1   교육학과   기초수학\n",
       "2   교육학과    물리학\n",
       "3  컴퓨터학과  프로그래밍\n",
       "4  컴퓨터학과   운영체제\n",
       "5   통계학과    확률론"
      ]
     },
     "execution_count": 140,
     "metadata": {},
     "output_type": "execute_result"
    }
   ],
   "source": [
    "df5 = pd.DataFrame({'학과': ['경영학과', '교육학과', '교육학과', '컴퓨터학과', '컴퓨터학과', '통계학과'],\n",
    "                   '과목' : ['경영개론', '기초수학', '물리학', '프로그래밍', '운영체제', '확률론']})\n",
    "df5"
   ]
  },
  {
   "cell_type": "code",
   "execution_count": 141,
   "id": "341e6ff8",
   "metadata": {},
   "outputs": [
    {
     "data": {
      "text/html": [
       "<div>\n",
       "<style scoped>\n",
       "    .dataframe tbody tr th:only-of-type {\n",
       "        vertical-align: middle;\n",
       "    }\n",
       "\n",
       "    .dataframe tbody tr th {\n",
       "        vertical-align: top;\n",
       "    }\n",
       "\n",
       "    .dataframe thead th {\n",
       "        text-align: right;\n",
       "    }\n",
       "</style>\n",
       "<table border=\"1\" class=\"dataframe\">\n",
       "  <thead>\n",
       "    <tr style=\"text-align: right;\">\n",
       "      <th></th>\n",
       "      <th>학생</th>\n",
       "      <th>학과</th>\n",
       "      <th>과목</th>\n",
       "    </tr>\n",
       "  </thead>\n",
       "  <tbody>\n",
       "    <tr>\n",
       "      <th>0</th>\n",
       "      <td>홍길동</td>\n",
       "      <td>경영학과</td>\n",
       "      <td>경영개론</td>\n",
       "    </tr>\n",
       "    <tr>\n",
       "      <th>1</th>\n",
       "      <td>이순신</td>\n",
       "      <td>교육학과</td>\n",
       "      <td>기초수학</td>\n",
       "    </tr>\n",
       "    <tr>\n",
       "      <th>2</th>\n",
       "      <td>이순신</td>\n",
       "      <td>교육학과</td>\n",
       "      <td>물리학</td>\n",
       "    </tr>\n",
       "    <tr>\n",
       "      <th>3</th>\n",
       "      <td>임꺽정</td>\n",
       "      <td>컴퓨터학과</td>\n",
       "      <td>프로그래밍</td>\n",
       "    </tr>\n",
       "    <tr>\n",
       "      <th>4</th>\n",
       "      <td>임꺽정</td>\n",
       "      <td>컴퓨터학과</td>\n",
       "      <td>운영체제</td>\n",
       "    </tr>\n",
       "    <tr>\n",
       "      <th>5</th>\n",
       "      <td>김유신</td>\n",
       "      <td>통계학과</td>\n",
       "      <td>확률론</td>\n",
       "    </tr>\n",
       "  </tbody>\n",
       "</table>\n",
       "</div>"
      ],
      "text/plain": [
       "    학생     학과     과목\n",
       "0  홍길동   경영학과   경영개론\n",
       "1  이순신   교육학과   기초수학\n",
       "2  이순신   교육학과    물리학\n",
       "3  임꺽정  컴퓨터학과  프로그래밍\n",
       "4  임꺽정  컴퓨터학과   운영체제\n",
       "5  김유신   통계학과    확률론"
      ]
     },
     "execution_count": 141,
     "metadata": {},
     "output_type": "execute_result"
    }
   ],
   "source": [
    "pd.merge(df1, df5)"
   ]
  },
  {
   "cell_type": "code",
   "execution_count": 142,
   "id": "885427cf",
   "metadata": {},
   "outputs": [
    {
     "data": {
      "text/html": [
       "<div>\n",
       "<style scoped>\n",
       "    .dataframe tbody tr th:only-of-type {\n",
       "        vertical-align: middle;\n",
       "    }\n",
       "\n",
       "    .dataframe tbody tr th {\n",
       "        vertical-align: top;\n",
       "    }\n",
       "\n",
       "    .dataframe thead th {\n",
       "        text-align: right;\n",
       "    }\n",
       "</style>\n",
       "<table border=\"1\" class=\"dataframe\">\n",
       "  <thead>\n",
       "    <tr style=\"text-align: right;\">\n",
       "      <th></th>\n",
       "      <th>학생</th>\n",
       "      <th>학과</th>\n",
       "      <th>입학년도</th>\n",
       "    </tr>\n",
       "  </thead>\n",
       "  <tbody>\n",
       "    <tr>\n",
       "      <th>0</th>\n",
       "      <td>홍길동</td>\n",
       "      <td>경영학과</td>\n",
       "      <td>2012</td>\n",
       "    </tr>\n",
       "    <tr>\n",
       "      <th>1</th>\n",
       "      <td>이순신</td>\n",
       "      <td>교육학과</td>\n",
       "      <td>2016</td>\n",
       "    </tr>\n",
       "    <tr>\n",
       "      <th>2</th>\n",
       "      <td>임꺽정</td>\n",
       "      <td>컴퓨터학과</td>\n",
       "      <td>2019</td>\n",
       "    </tr>\n",
       "    <tr>\n",
       "      <th>3</th>\n",
       "      <td>김유신</td>\n",
       "      <td>통계학과</td>\n",
       "      <td>2020</td>\n",
       "    </tr>\n",
       "  </tbody>\n",
       "</table>\n",
       "</div>"
      ],
      "text/plain": [
       "    학생     학과  입학년도\n",
       "0  홍길동   경영학과  2012\n",
       "1  이순신   교육학과  2016\n",
       "2  임꺽정  컴퓨터학과  2019\n",
       "3  김유신   통계학과  2020"
      ]
     },
     "execution_count": 142,
     "metadata": {},
     "output_type": "execute_result"
    }
   ],
   "source": [
    "pd.merge(df1, df2, on = '학생')"
   ]
  },
  {
   "cell_type": "code",
   "execution_count": 143,
   "id": "87161d7a",
   "metadata": {},
   "outputs": [
    {
     "data": {
      "text/html": [
       "<div>\n",
       "<style scoped>\n",
       "    .dataframe tbody tr th:only-of-type {\n",
       "        vertical-align: middle;\n",
       "    }\n",
       "\n",
       "    .dataframe tbody tr th {\n",
       "        vertical-align: top;\n",
       "    }\n",
       "\n",
       "    .dataframe thead th {\n",
       "        text-align: right;\n",
       "    }\n",
       "</style>\n",
       "<table border=\"1\" class=\"dataframe\">\n",
       "  <thead>\n",
       "    <tr style=\"text-align: right;\">\n",
       "      <th></th>\n",
       "      <th>이름</th>\n",
       "      <th>성적</th>\n",
       "    </tr>\n",
       "  </thead>\n",
       "  <tbody>\n",
       "    <tr>\n",
       "      <th>0</th>\n",
       "      <td>홍길동</td>\n",
       "      <td>A</td>\n",
       "    </tr>\n",
       "    <tr>\n",
       "      <th>1</th>\n",
       "      <td>이순신</td>\n",
       "      <td>A+</td>\n",
       "    </tr>\n",
       "    <tr>\n",
       "      <th>2</th>\n",
       "      <td>임꺽정</td>\n",
       "      <td>B</td>\n",
       "    </tr>\n",
       "    <tr>\n",
       "      <th>3</th>\n",
       "      <td>김유신</td>\n",
       "      <td>A+</td>\n",
       "    </tr>\n",
       "  </tbody>\n",
       "</table>\n",
       "</div>"
      ],
      "text/plain": [
       "    이름  성적\n",
       "0  홍길동   A\n",
       "1  이순신  A+\n",
       "2  임꺽정   B\n",
       "3  김유신  A+"
      ]
     },
     "execution_count": 143,
     "metadata": {},
     "output_type": "execute_result"
    }
   ],
   "source": [
    "df6 = pd.DataFrame({'이름' : ['홍길동', '이순신', '임꺽정', '김유신'],\n",
    "                   '성적' : ['A', 'A+', 'B', 'A+']})\n",
    "df6"
   ]
  },
  {
   "cell_type": "code",
   "execution_count": 145,
   "id": "67df0879",
   "metadata": {},
   "outputs": [
    {
     "data": {
      "text/html": [
       "<div>\n",
       "<style scoped>\n",
       "    .dataframe tbody tr th:only-of-type {\n",
       "        vertical-align: middle;\n",
       "    }\n",
       "\n",
       "    .dataframe tbody tr th {\n",
       "        vertical-align: top;\n",
       "    }\n",
       "\n",
       "    .dataframe thead th {\n",
       "        text-align: right;\n",
       "    }\n",
       "</style>\n",
       "<table border=\"1\" class=\"dataframe\">\n",
       "  <thead>\n",
       "    <tr style=\"text-align: right;\">\n",
       "      <th></th>\n",
       "      <th>학생</th>\n",
       "      <th>학과</th>\n",
       "      <th>이름</th>\n",
       "      <th>성적</th>\n",
       "    </tr>\n",
       "  </thead>\n",
       "  <tbody>\n",
       "    <tr>\n",
       "      <th>0</th>\n",
       "      <td>홍길동</td>\n",
       "      <td>경영학과</td>\n",
       "      <td>홍길동</td>\n",
       "      <td>A</td>\n",
       "    </tr>\n",
       "    <tr>\n",
       "      <th>1</th>\n",
       "      <td>이순신</td>\n",
       "      <td>교육학과</td>\n",
       "      <td>이순신</td>\n",
       "      <td>A+</td>\n",
       "    </tr>\n",
       "    <tr>\n",
       "      <th>2</th>\n",
       "      <td>임꺽정</td>\n",
       "      <td>컴퓨터학과</td>\n",
       "      <td>임꺽정</td>\n",
       "      <td>B</td>\n",
       "    </tr>\n",
       "    <tr>\n",
       "      <th>3</th>\n",
       "      <td>김유신</td>\n",
       "      <td>통계학과</td>\n",
       "      <td>김유신</td>\n",
       "      <td>A+</td>\n",
       "    </tr>\n",
       "  </tbody>\n",
       "</table>\n",
       "</div>"
      ],
      "text/plain": [
       "    학생     학과   이름  성적\n",
       "0  홍길동   경영학과  홍길동   A\n",
       "1  이순신   교육학과  이순신  A+\n",
       "2  임꺽정  컴퓨터학과  임꺽정   B\n",
       "3  김유신   통계학과  김유신  A+"
      ]
     },
     "execution_count": 145,
     "metadata": {},
     "output_type": "execute_result"
    }
   ],
   "source": [
    "pd.merge(df1, df6, left_on = '학생', right_on = '이름')"
   ]
  },
  {
   "cell_type": "code",
   "execution_count": 148,
   "id": "55171fc1",
   "metadata": {},
   "outputs": [
    {
     "data": {
      "text/html": [
       "<div>\n",
       "<style scoped>\n",
       "    .dataframe tbody tr th:only-of-type {\n",
       "        vertical-align: middle;\n",
       "    }\n",
       "\n",
       "    .dataframe tbody tr th {\n",
       "        vertical-align: top;\n",
       "    }\n",
       "\n",
       "    .dataframe thead th {\n",
       "        text-align: right;\n",
       "    }\n",
       "</style>\n",
       "<table border=\"1\" class=\"dataframe\">\n",
       "  <thead>\n",
       "    <tr style=\"text-align: right;\">\n",
       "      <th></th>\n",
       "      <th>학생</th>\n",
       "      <th>학과</th>\n",
       "      <th>성적</th>\n",
       "    </tr>\n",
       "  </thead>\n",
       "  <tbody>\n",
       "    <tr>\n",
       "      <th>0</th>\n",
       "      <td>홍길동</td>\n",
       "      <td>경영학과</td>\n",
       "      <td>A</td>\n",
       "    </tr>\n",
       "    <tr>\n",
       "      <th>1</th>\n",
       "      <td>이순신</td>\n",
       "      <td>교육학과</td>\n",
       "      <td>A+</td>\n",
       "    </tr>\n",
       "    <tr>\n",
       "      <th>2</th>\n",
       "      <td>임꺽정</td>\n",
       "      <td>컴퓨터학과</td>\n",
       "      <td>B</td>\n",
       "    </tr>\n",
       "    <tr>\n",
       "      <th>3</th>\n",
       "      <td>김유신</td>\n",
       "      <td>통계학과</td>\n",
       "      <td>A+</td>\n",
       "    </tr>\n",
       "  </tbody>\n",
       "</table>\n",
       "</div>"
      ],
      "text/plain": [
       "    학생     학과  성적\n",
       "0  홍길동   경영학과   A\n",
       "1  이순신   교육학과  A+\n",
       "2  임꺽정  컴퓨터학과   B\n",
       "3  김유신   통계학과  A+"
      ]
     },
     "execution_count": 148,
     "metadata": {},
     "output_type": "execute_result"
    }
   ],
   "source": [
    "pd.merge(df1, df6, left_on = '학생', right_on = '이름').drop(\"이름\", axis=1)"
   ]
  },
  {
   "cell_type": "code",
   "execution_count": 149,
   "id": "77317d32",
   "metadata": {},
   "outputs": [],
   "source": [
    "mdf1 = df1.set_index(\"학생\")\n",
    "mdf2 = df2.set_index(\"학생\")"
   ]
  },
  {
   "cell_type": "code",
   "execution_count": 150,
   "id": "a88a2014",
   "metadata": {},
   "outputs": [
    {
     "data": {
      "text/html": [
       "<div>\n",
       "<style scoped>\n",
       "    .dataframe tbody tr th:only-of-type {\n",
       "        vertical-align: middle;\n",
       "    }\n",
       "\n",
       "    .dataframe tbody tr th {\n",
       "        vertical-align: top;\n",
       "    }\n",
       "\n",
       "    .dataframe thead th {\n",
       "        text-align: right;\n",
       "    }\n",
       "</style>\n",
       "<table border=\"1\" class=\"dataframe\">\n",
       "  <thead>\n",
       "    <tr style=\"text-align: right;\">\n",
       "      <th></th>\n",
       "      <th>학과</th>\n",
       "    </tr>\n",
       "    <tr>\n",
       "      <th>학생</th>\n",
       "      <th></th>\n",
       "    </tr>\n",
       "  </thead>\n",
       "  <tbody>\n",
       "    <tr>\n",
       "      <th>홍길동</th>\n",
       "      <td>경영학과</td>\n",
       "    </tr>\n",
       "    <tr>\n",
       "      <th>이순신</th>\n",
       "      <td>교육학과</td>\n",
       "    </tr>\n",
       "    <tr>\n",
       "      <th>임꺽정</th>\n",
       "      <td>컴퓨터학과</td>\n",
       "    </tr>\n",
       "    <tr>\n",
       "      <th>김유신</th>\n",
       "      <td>통계학과</td>\n",
       "    </tr>\n",
       "  </tbody>\n",
       "</table>\n",
       "</div>"
      ],
      "text/plain": [
       "        학과\n",
       "학생        \n",
       "홍길동   경영학과\n",
       "이순신   교육학과\n",
       "임꺽정  컴퓨터학과\n",
       "김유신   통계학과"
      ]
     },
     "execution_count": 150,
     "metadata": {},
     "output_type": "execute_result"
    }
   ],
   "source": [
    "mdf1"
   ]
  },
  {
   "cell_type": "code",
   "execution_count": 151,
   "id": "68b38221",
   "metadata": {},
   "outputs": [
    {
     "data": {
      "text/html": [
       "<div>\n",
       "<style scoped>\n",
       "    .dataframe tbody tr th:only-of-type {\n",
       "        vertical-align: middle;\n",
       "    }\n",
       "\n",
       "    .dataframe tbody tr th {\n",
       "        vertical-align: top;\n",
       "    }\n",
       "\n",
       "    .dataframe thead th {\n",
       "        text-align: right;\n",
       "    }\n",
       "</style>\n",
       "<table border=\"1\" class=\"dataframe\">\n",
       "  <thead>\n",
       "    <tr style=\"text-align: right;\">\n",
       "      <th></th>\n",
       "      <th>입학년도</th>\n",
       "    </tr>\n",
       "    <tr>\n",
       "      <th>학생</th>\n",
       "      <th></th>\n",
       "    </tr>\n",
       "  </thead>\n",
       "  <tbody>\n",
       "    <tr>\n",
       "      <th>홍길동</th>\n",
       "      <td>2012</td>\n",
       "    </tr>\n",
       "    <tr>\n",
       "      <th>이순신</th>\n",
       "      <td>2016</td>\n",
       "    </tr>\n",
       "    <tr>\n",
       "      <th>임꺽정</th>\n",
       "      <td>2019</td>\n",
       "    </tr>\n",
       "    <tr>\n",
       "      <th>김유신</th>\n",
       "      <td>2020</td>\n",
       "    </tr>\n",
       "  </tbody>\n",
       "</table>\n",
       "</div>"
      ],
      "text/plain": [
       "     입학년도\n",
       "학생       \n",
       "홍길동  2012\n",
       "이순신  2016\n",
       "임꺽정  2019\n",
       "김유신  2020"
      ]
     },
     "execution_count": 151,
     "metadata": {},
     "output_type": "execute_result"
    }
   ],
   "source": [
    "mdf2"
   ]
  },
  {
   "cell_type": "code",
   "execution_count": 153,
   "id": "b9e81679",
   "metadata": {},
   "outputs": [
    {
     "data": {
      "text/html": [
       "<div>\n",
       "<style scoped>\n",
       "    .dataframe tbody tr th:only-of-type {\n",
       "        vertical-align: middle;\n",
       "    }\n",
       "\n",
       "    .dataframe tbody tr th {\n",
       "        vertical-align: top;\n",
       "    }\n",
       "\n",
       "    .dataframe thead th {\n",
       "        text-align: right;\n",
       "    }\n",
       "</style>\n",
       "<table border=\"1\" class=\"dataframe\">\n",
       "  <thead>\n",
       "    <tr style=\"text-align: right;\">\n",
       "      <th></th>\n",
       "      <th>학과</th>\n",
       "      <th>입학년도</th>\n",
       "    </tr>\n",
       "    <tr>\n",
       "      <th>학생</th>\n",
       "      <th></th>\n",
       "      <th></th>\n",
       "    </tr>\n",
       "  </thead>\n",
       "  <tbody>\n",
       "    <tr>\n",
       "      <th>홍길동</th>\n",
       "      <td>경영학과</td>\n",
       "      <td>2012</td>\n",
       "    </tr>\n",
       "    <tr>\n",
       "      <th>이순신</th>\n",
       "      <td>교육학과</td>\n",
       "      <td>2016</td>\n",
       "    </tr>\n",
       "    <tr>\n",
       "      <th>임꺽정</th>\n",
       "      <td>컴퓨터학과</td>\n",
       "      <td>2019</td>\n",
       "    </tr>\n",
       "    <tr>\n",
       "      <th>김유신</th>\n",
       "      <td>통계학과</td>\n",
       "      <td>2020</td>\n",
       "    </tr>\n",
       "  </tbody>\n",
       "</table>\n",
       "</div>"
      ],
      "text/plain": [
       "        학과  입학년도\n",
       "학생              \n",
       "홍길동   경영학과  2012\n",
       "이순신   교육학과  2016\n",
       "임꺽정  컴퓨터학과  2019\n",
       "김유신   통계학과  2020"
      ]
     },
     "execution_count": 153,
     "metadata": {},
     "output_type": "execute_result"
    }
   ],
   "source": [
    "pd.merge(mdf1, mdf2, left_index=True, right_index=True)"
   ]
  },
  {
   "cell_type": "code",
   "execution_count": 154,
   "id": "b974723a",
   "metadata": {},
   "outputs": [
    {
     "data": {
      "text/html": [
       "<div>\n",
       "<style scoped>\n",
       "    .dataframe tbody tr th:only-of-type {\n",
       "        vertical-align: middle;\n",
       "    }\n",
       "\n",
       "    .dataframe tbody tr th {\n",
       "        vertical-align: top;\n",
       "    }\n",
       "\n",
       "    .dataframe thead th {\n",
       "        text-align: right;\n",
       "    }\n",
       "</style>\n",
       "<table border=\"1\" class=\"dataframe\">\n",
       "  <thead>\n",
       "    <tr style=\"text-align: right;\">\n",
       "      <th></th>\n",
       "      <th>학과</th>\n",
       "      <th>입학년도</th>\n",
       "    </tr>\n",
       "    <tr>\n",
       "      <th>학생</th>\n",
       "      <th></th>\n",
       "      <th></th>\n",
       "    </tr>\n",
       "  </thead>\n",
       "  <tbody>\n",
       "    <tr>\n",
       "      <th>홍길동</th>\n",
       "      <td>경영학과</td>\n",
       "      <td>2012</td>\n",
       "    </tr>\n",
       "    <tr>\n",
       "      <th>이순신</th>\n",
       "      <td>교육학과</td>\n",
       "      <td>2016</td>\n",
       "    </tr>\n",
       "    <tr>\n",
       "      <th>임꺽정</th>\n",
       "      <td>컴퓨터학과</td>\n",
       "      <td>2019</td>\n",
       "    </tr>\n",
       "    <tr>\n",
       "      <th>김유신</th>\n",
       "      <td>통계학과</td>\n",
       "      <td>2020</td>\n",
       "    </tr>\n",
       "  </tbody>\n",
       "</table>\n",
       "</div>"
      ],
      "text/plain": [
       "        학과  입학년도\n",
       "학생              \n",
       "홍길동   경영학과  2012\n",
       "이순신   교육학과  2016\n",
       "임꺽정  컴퓨터학과  2019\n",
       "김유신   통계학과  2020"
      ]
     },
     "execution_count": 154,
     "metadata": {},
     "output_type": "execute_result"
    }
   ],
   "source": [
    "mdf1.join(mdf2)"
   ]
  },
  {
   "cell_type": "code",
   "execution_count": 155,
   "id": "d6df09f0",
   "metadata": {},
   "outputs": [
    {
     "data": {
      "text/html": [
       "<div>\n",
       "<style scoped>\n",
       "    .dataframe tbody tr th:only-of-type {\n",
       "        vertical-align: middle;\n",
       "    }\n",
       "\n",
       "    .dataframe tbody tr th {\n",
       "        vertical-align: top;\n",
       "    }\n",
       "\n",
       "    .dataframe thead th {\n",
       "        text-align: right;\n",
       "    }\n",
       "</style>\n",
       "<table border=\"1\" class=\"dataframe\">\n",
       "  <thead>\n",
       "    <tr style=\"text-align: right;\">\n",
       "      <th></th>\n",
       "      <th>학과</th>\n",
       "      <th>이름</th>\n",
       "      <th>성적</th>\n",
       "    </tr>\n",
       "  </thead>\n",
       "  <tbody>\n",
       "    <tr>\n",
       "      <th>0</th>\n",
       "      <td>경영학과</td>\n",
       "      <td>홍길동</td>\n",
       "      <td>A</td>\n",
       "    </tr>\n",
       "    <tr>\n",
       "      <th>1</th>\n",
       "      <td>교육학과</td>\n",
       "      <td>이순신</td>\n",
       "      <td>A+</td>\n",
       "    </tr>\n",
       "    <tr>\n",
       "      <th>2</th>\n",
       "      <td>컴퓨터학과</td>\n",
       "      <td>임꺽정</td>\n",
       "      <td>B</td>\n",
       "    </tr>\n",
       "    <tr>\n",
       "      <th>3</th>\n",
       "      <td>통계학과</td>\n",
       "      <td>김유신</td>\n",
       "      <td>A+</td>\n",
       "    </tr>\n",
       "  </tbody>\n",
       "</table>\n",
       "</div>"
      ],
      "text/plain": [
       "      학과   이름  성적\n",
       "0   경영학과  홍길동   A\n",
       "1   교육학과  이순신  A+\n",
       "2  컴퓨터학과  임꺽정   B\n",
       "3   통계학과  김유신  A+"
      ]
     },
     "execution_count": 155,
     "metadata": {},
     "output_type": "execute_result"
    }
   ],
   "source": [
    "pd.merge(mdf1, df6, left_index=True, right_on='이름')"
   ]
  },
  {
   "cell_type": "code",
   "execution_count": 156,
   "id": "03a03c0f",
   "metadata": {},
   "outputs": [
    {
     "data": {
      "text/html": [
       "<div>\n",
       "<style scoped>\n",
       "    .dataframe tbody tr th:only-of-type {\n",
       "        vertical-align: middle;\n",
       "    }\n",
       "\n",
       "    .dataframe tbody tr th {\n",
       "        vertical-align: top;\n",
       "    }\n",
       "\n",
       "    .dataframe thead th {\n",
       "        text-align: right;\n",
       "    }\n",
       "</style>\n",
       "<table border=\"1\" class=\"dataframe\">\n",
       "  <thead>\n",
       "    <tr style=\"text-align: right;\">\n",
       "      <th></th>\n",
       "      <th>이름</th>\n",
       "      <th>주문음식</th>\n",
       "    </tr>\n",
       "  </thead>\n",
       "  <tbody>\n",
       "    <tr>\n",
       "      <th>0</th>\n",
       "      <td>홍길동</td>\n",
       "      <td>햄버거</td>\n",
       "    </tr>\n",
       "    <tr>\n",
       "      <th>1</th>\n",
       "      <td>이순신</td>\n",
       "      <td>피자</td>\n",
       "    </tr>\n",
       "    <tr>\n",
       "      <th>2</th>\n",
       "      <td>임꺽정</td>\n",
       "      <td>짜장면</td>\n",
       "    </tr>\n",
       "  </tbody>\n",
       "</table>\n",
       "</div>"
      ],
      "text/plain": [
       "    이름 주문음식\n",
       "0  홍길동  햄버거\n",
       "1  이순신   피자\n",
       "2  임꺽정  짜장면"
      ]
     },
     "execution_count": 156,
     "metadata": {},
     "output_type": "execute_result"
    }
   ],
   "source": [
    "df7 = pd.DataFrame({'이름' : ['홍길동', '이순신', '임꺽정'],\n",
    "                   '주문음식' : ['햄버거', '피자', '짜장면']})\n",
    "df7"
   ]
  },
  {
   "cell_type": "code",
   "execution_count": 157,
   "id": "7324cd6b",
   "metadata": {},
   "outputs": [
    {
     "data": {
      "text/html": [
       "<div>\n",
       "<style scoped>\n",
       "    .dataframe tbody tr th:only-of-type {\n",
       "        vertical-align: middle;\n",
       "    }\n",
       "\n",
       "    .dataframe tbody tr th {\n",
       "        vertical-align: top;\n",
       "    }\n",
       "\n",
       "    .dataframe thead th {\n",
       "        text-align: right;\n",
       "    }\n",
       "</style>\n",
       "<table border=\"1\" class=\"dataframe\">\n",
       "  <thead>\n",
       "    <tr style=\"text-align: right;\">\n",
       "      <th></th>\n",
       "      <th>이름</th>\n",
       "      <th>주문음료</th>\n",
       "    </tr>\n",
       "  </thead>\n",
       "  <tbody>\n",
       "    <tr>\n",
       "      <th>0</th>\n",
       "      <td>홍길동</td>\n",
       "      <td>콜라</td>\n",
       "    </tr>\n",
       "    <tr>\n",
       "      <th>1</th>\n",
       "      <td>이순신</td>\n",
       "      <td>사이다</td>\n",
       "    </tr>\n",
       "    <tr>\n",
       "      <th>2</th>\n",
       "      <td>김유신</td>\n",
       "      <td>커피</td>\n",
       "    </tr>\n",
       "  </tbody>\n",
       "</table>\n",
       "</div>"
      ],
      "text/plain": [
       "    이름 주문음료\n",
       "0  홍길동   콜라\n",
       "1  이순신  사이다\n",
       "2  김유신   커피"
      ]
     },
     "execution_count": 157,
     "metadata": {},
     "output_type": "execute_result"
    }
   ],
   "source": [
    "df8 = pd.DataFrame({'이름' : ['홍길동', '이순신', '김유신'],\n",
    "                   '주문음료' : ['콜라', '사이다', '커피']})\n",
    "df8"
   ]
  },
  {
   "cell_type": "code",
   "execution_count": 158,
   "id": "2f7960a4",
   "metadata": {},
   "outputs": [
    {
     "data": {
      "text/html": [
       "<div>\n",
       "<style scoped>\n",
       "    .dataframe tbody tr th:only-of-type {\n",
       "        vertical-align: middle;\n",
       "    }\n",
       "\n",
       "    .dataframe tbody tr th {\n",
       "        vertical-align: top;\n",
       "    }\n",
       "\n",
       "    .dataframe thead th {\n",
       "        text-align: right;\n",
       "    }\n",
       "</style>\n",
       "<table border=\"1\" class=\"dataframe\">\n",
       "  <thead>\n",
       "    <tr style=\"text-align: right;\">\n",
       "      <th></th>\n",
       "      <th>이름</th>\n",
       "      <th>주문음식</th>\n",
       "      <th>주문음료</th>\n",
       "    </tr>\n",
       "  </thead>\n",
       "  <tbody>\n",
       "    <tr>\n",
       "      <th>0</th>\n",
       "      <td>홍길동</td>\n",
       "      <td>햄버거</td>\n",
       "      <td>콜라</td>\n",
       "    </tr>\n",
       "    <tr>\n",
       "      <th>1</th>\n",
       "      <td>이순신</td>\n",
       "      <td>피자</td>\n",
       "      <td>사이다</td>\n",
       "    </tr>\n",
       "  </tbody>\n",
       "</table>\n",
       "</div>"
      ],
      "text/plain": [
       "    이름 주문음식 주문음료\n",
       "0  홍길동  햄버거   콜라\n",
       "1  이순신   피자  사이다"
      ]
     },
     "execution_count": 158,
     "metadata": {},
     "output_type": "execute_result"
    }
   ],
   "source": [
    "pd.merge(df7, df8)"
   ]
  },
  {
   "cell_type": "code",
   "execution_count": 159,
   "id": "ff0b81cf",
   "metadata": {},
   "outputs": [
    {
     "data": {
      "text/html": [
       "<div>\n",
       "<style scoped>\n",
       "    .dataframe tbody tr th:only-of-type {\n",
       "        vertical-align: middle;\n",
       "    }\n",
       "\n",
       "    .dataframe tbody tr th {\n",
       "        vertical-align: top;\n",
       "    }\n",
       "\n",
       "    .dataframe thead th {\n",
       "        text-align: right;\n",
       "    }\n",
       "</style>\n",
       "<table border=\"1\" class=\"dataframe\">\n",
       "  <thead>\n",
       "    <tr style=\"text-align: right;\">\n",
       "      <th></th>\n",
       "      <th>이름</th>\n",
       "      <th>주문음식</th>\n",
       "      <th>주문음료</th>\n",
       "    </tr>\n",
       "  </thead>\n",
       "  <tbody>\n",
       "    <tr>\n",
       "      <th>0</th>\n",
       "      <td>홍길동</td>\n",
       "      <td>햄버거</td>\n",
       "      <td>콜라</td>\n",
       "    </tr>\n",
       "    <tr>\n",
       "      <th>1</th>\n",
       "      <td>이순신</td>\n",
       "      <td>피자</td>\n",
       "      <td>사이다</td>\n",
       "    </tr>\n",
       "  </tbody>\n",
       "</table>\n",
       "</div>"
      ],
      "text/plain": [
       "    이름 주문음식 주문음료\n",
       "0  홍길동  햄버거   콜라\n",
       "1  이순신   피자  사이다"
      ]
     },
     "execution_count": 159,
     "metadata": {},
     "output_type": "execute_result"
    }
   ],
   "source": [
    "pd.merge(df7, df8, how = 'inner')"
   ]
  },
  {
   "cell_type": "code",
   "execution_count": 160,
   "id": "ee08f4f7",
   "metadata": {},
   "outputs": [
    {
     "data": {
      "text/html": [
       "<div>\n",
       "<style scoped>\n",
       "    .dataframe tbody tr th:only-of-type {\n",
       "        vertical-align: middle;\n",
       "    }\n",
       "\n",
       "    .dataframe tbody tr th {\n",
       "        vertical-align: top;\n",
       "    }\n",
       "\n",
       "    .dataframe thead th {\n",
       "        text-align: right;\n",
       "    }\n",
       "</style>\n",
       "<table border=\"1\" class=\"dataframe\">\n",
       "  <thead>\n",
       "    <tr style=\"text-align: right;\">\n",
       "      <th></th>\n",
       "      <th>이름</th>\n",
       "      <th>주문음식</th>\n",
       "      <th>주문음료</th>\n",
       "    </tr>\n",
       "  </thead>\n",
       "  <tbody>\n",
       "    <tr>\n",
       "      <th>0</th>\n",
       "      <td>홍길동</td>\n",
       "      <td>햄버거</td>\n",
       "      <td>콜라</td>\n",
       "    </tr>\n",
       "    <tr>\n",
       "      <th>1</th>\n",
       "      <td>이순신</td>\n",
       "      <td>피자</td>\n",
       "      <td>사이다</td>\n",
       "    </tr>\n",
       "    <tr>\n",
       "      <th>2</th>\n",
       "      <td>임꺽정</td>\n",
       "      <td>짜장면</td>\n",
       "      <td>NaN</td>\n",
       "    </tr>\n",
       "    <tr>\n",
       "      <th>3</th>\n",
       "      <td>김유신</td>\n",
       "      <td>NaN</td>\n",
       "      <td>커피</td>\n",
       "    </tr>\n",
       "  </tbody>\n",
       "</table>\n",
       "</div>"
      ],
      "text/plain": [
       "    이름 주문음식 주문음료\n",
       "0  홍길동  햄버거   콜라\n",
       "1  이순신   피자  사이다\n",
       "2  임꺽정  짜장면  NaN\n",
       "3  김유신  NaN   커피"
      ]
     },
     "execution_count": 160,
     "metadata": {},
     "output_type": "execute_result"
    }
   ],
   "source": [
    "pd.merge(df7, df8, how = 'outer')"
   ]
  },
  {
   "cell_type": "code",
   "execution_count": 161,
   "id": "0b2eec69",
   "metadata": {},
   "outputs": [
    {
     "data": {
      "text/html": [
       "<div>\n",
       "<style scoped>\n",
       "    .dataframe tbody tr th:only-of-type {\n",
       "        vertical-align: middle;\n",
       "    }\n",
       "\n",
       "    .dataframe tbody tr th {\n",
       "        vertical-align: top;\n",
       "    }\n",
       "\n",
       "    .dataframe thead th {\n",
       "        text-align: right;\n",
       "    }\n",
       "</style>\n",
       "<table border=\"1\" class=\"dataframe\">\n",
       "  <thead>\n",
       "    <tr style=\"text-align: right;\">\n",
       "      <th></th>\n",
       "      <th>이름</th>\n",
       "      <th>주문음식</th>\n",
       "      <th>주문음료</th>\n",
       "    </tr>\n",
       "  </thead>\n",
       "  <tbody>\n",
       "    <tr>\n",
       "      <th>0</th>\n",
       "      <td>홍길동</td>\n",
       "      <td>햄버거</td>\n",
       "      <td>콜라</td>\n",
       "    </tr>\n",
       "    <tr>\n",
       "      <th>1</th>\n",
       "      <td>이순신</td>\n",
       "      <td>피자</td>\n",
       "      <td>사이다</td>\n",
       "    </tr>\n",
       "    <tr>\n",
       "      <th>2</th>\n",
       "      <td>임꺽정</td>\n",
       "      <td>짜장면</td>\n",
       "      <td>NaN</td>\n",
       "    </tr>\n",
       "  </tbody>\n",
       "</table>\n",
       "</div>"
      ],
      "text/plain": [
       "    이름 주문음식 주문음료\n",
       "0  홍길동  햄버거   콜라\n",
       "1  이순신   피자  사이다\n",
       "2  임꺽정  짜장면  NaN"
      ]
     },
     "execution_count": 161,
     "metadata": {},
     "output_type": "execute_result"
    }
   ],
   "source": [
    "pd.merge(df7, df8, how = 'left')"
   ]
  },
  {
   "cell_type": "code",
   "execution_count": 162,
   "id": "e7a76adc",
   "metadata": {},
   "outputs": [
    {
     "data": {
      "text/html": [
       "<div>\n",
       "<style scoped>\n",
       "    .dataframe tbody tr th:only-of-type {\n",
       "        vertical-align: middle;\n",
       "    }\n",
       "\n",
       "    .dataframe tbody tr th {\n",
       "        vertical-align: top;\n",
       "    }\n",
       "\n",
       "    .dataframe thead th {\n",
       "        text-align: right;\n",
       "    }\n",
       "</style>\n",
       "<table border=\"1\" class=\"dataframe\">\n",
       "  <thead>\n",
       "    <tr style=\"text-align: right;\">\n",
       "      <th></th>\n",
       "      <th>이름</th>\n",
       "      <th>주문음식</th>\n",
       "      <th>주문음료</th>\n",
       "    </tr>\n",
       "  </thead>\n",
       "  <tbody>\n",
       "    <tr>\n",
       "      <th>0</th>\n",
       "      <td>홍길동</td>\n",
       "      <td>햄버거</td>\n",
       "      <td>콜라</td>\n",
       "    </tr>\n",
       "    <tr>\n",
       "      <th>1</th>\n",
       "      <td>이순신</td>\n",
       "      <td>피자</td>\n",
       "      <td>사이다</td>\n",
       "    </tr>\n",
       "    <tr>\n",
       "      <th>2</th>\n",
       "      <td>김유신</td>\n",
       "      <td>NaN</td>\n",
       "      <td>커피</td>\n",
       "    </tr>\n",
       "  </tbody>\n",
       "</table>\n",
       "</div>"
      ],
      "text/plain": [
       "    이름 주문음식 주문음료\n",
       "0  홍길동  햄버거   콜라\n",
       "1  이순신   피자  사이다\n",
       "2  김유신  NaN   커피"
      ]
     },
     "execution_count": 162,
     "metadata": {},
     "output_type": "execute_result"
    }
   ],
   "source": [
    "pd.merge(df7, df8, how = 'right')"
   ]
  },
  {
   "cell_type": "code",
   "execution_count": 163,
   "id": "41f6bac9",
   "metadata": {},
   "outputs": [
    {
     "data": {
      "text/html": [
       "<div>\n",
       "<style scoped>\n",
       "    .dataframe tbody tr th:only-of-type {\n",
       "        vertical-align: middle;\n",
       "    }\n",
       "\n",
       "    .dataframe tbody tr th {\n",
       "        vertical-align: top;\n",
       "    }\n",
       "\n",
       "    .dataframe thead th {\n",
       "        text-align: right;\n",
       "    }\n",
       "</style>\n",
       "<table border=\"1\" class=\"dataframe\">\n",
       "  <thead>\n",
       "    <tr style=\"text-align: right;\">\n",
       "      <th></th>\n",
       "      <th>이름</th>\n",
       "      <th>순위</th>\n",
       "    </tr>\n",
       "  </thead>\n",
       "  <tbody>\n",
       "    <tr>\n",
       "      <th>0</th>\n",
       "      <td>홍길동</td>\n",
       "      <td>3</td>\n",
       "    </tr>\n",
       "    <tr>\n",
       "      <th>1</th>\n",
       "      <td>이순신</td>\n",
       "      <td>2</td>\n",
       "    </tr>\n",
       "    <tr>\n",
       "      <th>2</th>\n",
       "      <td>임꺽정</td>\n",
       "      <td>4</td>\n",
       "    </tr>\n",
       "    <tr>\n",
       "      <th>3</th>\n",
       "      <td>김유신</td>\n",
       "      <td>1</td>\n",
       "    </tr>\n",
       "  </tbody>\n",
       "</table>\n",
       "</div>"
      ],
      "text/plain": [
       "    이름  순위\n",
       "0  홍길동   3\n",
       "1  이순신   2\n",
       "2  임꺽정   4\n",
       "3  김유신   1"
      ]
     },
     "execution_count": 163,
     "metadata": {},
     "output_type": "execute_result"
    }
   ],
   "source": [
    "df9 = pd.DataFrame({'이름' : ['홍길동', '이순신', '임꺽정', '김유신'],\n",
    "                   '순위' : [3,2,4,1]})\n",
    "df9"
   ]
  },
  {
   "cell_type": "code",
   "execution_count": 164,
   "id": "59148f00",
   "metadata": {},
   "outputs": [
    {
     "data": {
      "text/html": [
       "<div>\n",
       "<style scoped>\n",
       "    .dataframe tbody tr th:only-of-type {\n",
       "        vertical-align: middle;\n",
       "    }\n",
       "\n",
       "    .dataframe tbody tr th {\n",
       "        vertical-align: top;\n",
       "    }\n",
       "\n",
       "    .dataframe thead th {\n",
       "        text-align: right;\n",
       "    }\n",
       "</style>\n",
       "<table border=\"1\" class=\"dataframe\">\n",
       "  <thead>\n",
       "    <tr style=\"text-align: right;\">\n",
       "      <th></th>\n",
       "      <th>이름</th>\n",
       "      <th>순위</th>\n",
       "    </tr>\n",
       "  </thead>\n",
       "  <tbody>\n",
       "    <tr>\n",
       "      <th>0</th>\n",
       "      <td>홍길동</td>\n",
       "      <td>4</td>\n",
       "    </tr>\n",
       "    <tr>\n",
       "      <th>1</th>\n",
       "      <td>이순신</td>\n",
       "      <td>1</td>\n",
       "    </tr>\n",
       "    <tr>\n",
       "      <th>2</th>\n",
       "      <td>임꺽정</td>\n",
       "      <td>3</td>\n",
       "    </tr>\n",
       "    <tr>\n",
       "      <th>3</th>\n",
       "      <td>김유신</td>\n",
       "      <td>2</td>\n",
       "    </tr>\n",
       "  </tbody>\n",
       "</table>\n",
       "</div>"
      ],
      "text/plain": [
       "    이름  순위\n",
       "0  홍길동   4\n",
       "1  이순신   1\n",
       "2  임꺽정   3\n",
       "3  김유신   2"
      ]
     },
     "execution_count": 164,
     "metadata": {},
     "output_type": "execute_result"
    }
   ],
   "source": [
    "df10 = pd.DataFrame({'이름' : ['홍길동', '이순신', '임꺽정', '김유신'],\n",
    "                   '순위' : [4,1,3,2]})\n",
    "df10"
   ]
  },
  {
   "cell_type": "code",
   "execution_count": 165,
   "id": "a6b855c3",
   "metadata": {},
   "outputs": [
    {
     "data": {
      "text/html": [
       "<div>\n",
       "<style scoped>\n",
       "    .dataframe tbody tr th:only-of-type {\n",
       "        vertical-align: middle;\n",
       "    }\n",
       "\n",
       "    .dataframe tbody tr th {\n",
       "        vertical-align: top;\n",
       "    }\n",
       "\n",
       "    .dataframe thead th {\n",
       "        text-align: right;\n",
       "    }\n",
       "</style>\n",
       "<table border=\"1\" class=\"dataframe\">\n",
       "  <thead>\n",
       "    <tr style=\"text-align: right;\">\n",
       "      <th></th>\n",
       "      <th>이름</th>\n",
       "      <th>순위_x</th>\n",
       "      <th>순위_y</th>\n",
       "    </tr>\n",
       "  </thead>\n",
       "  <tbody>\n",
       "    <tr>\n",
       "      <th>0</th>\n",
       "      <td>홍길동</td>\n",
       "      <td>3</td>\n",
       "      <td>4</td>\n",
       "    </tr>\n",
       "    <tr>\n",
       "      <th>1</th>\n",
       "      <td>이순신</td>\n",
       "      <td>2</td>\n",
       "      <td>1</td>\n",
       "    </tr>\n",
       "    <tr>\n",
       "      <th>2</th>\n",
       "      <td>임꺽정</td>\n",
       "      <td>4</td>\n",
       "      <td>3</td>\n",
       "    </tr>\n",
       "    <tr>\n",
       "      <th>3</th>\n",
       "      <td>김유신</td>\n",
       "      <td>1</td>\n",
       "      <td>2</td>\n",
       "    </tr>\n",
       "  </tbody>\n",
       "</table>\n",
       "</div>"
      ],
      "text/plain": [
       "    이름  순위_x  순위_y\n",
       "0  홍길동     3     4\n",
       "1  이순신     2     1\n",
       "2  임꺽정     4     3\n",
       "3  김유신     1     2"
      ]
     },
     "execution_count": 165,
     "metadata": {},
     "output_type": "execute_result"
    }
   ],
   "source": [
    "pd.merge(df9, df10, on = '이름')"
   ]
  },
  {
   "cell_type": "code",
   "execution_count": 166,
   "id": "93bd225c",
   "metadata": {},
   "outputs": [
    {
     "data": {
      "text/html": [
       "<div>\n",
       "<style scoped>\n",
       "    .dataframe tbody tr th:only-of-type {\n",
       "        vertical-align: middle;\n",
       "    }\n",
       "\n",
       "    .dataframe tbody tr th {\n",
       "        vertical-align: top;\n",
       "    }\n",
       "\n",
       "    .dataframe thead th {\n",
       "        text-align: right;\n",
       "    }\n",
       "</style>\n",
       "<table border=\"1\" class=\"dataframe\">\n",
       "  <thead>\n",
       "    <tr style=\"text-align: right;\">\n",
       "      <th></th>\n",
       "      <th>이름</th>\n",
       "      <th>순위_인기</th>\n",
       "      <th>순위_성적</th>\n",
       "    </tr>\n",
       "  </thead>\n",
       "  <tbody>\n",
       "    <tr>\n",
       "      <th>0</th>\n",
       "      <td>홍길동</td>\n",
       "      <td>3</td>\n",
       "      <td>4</td>\n",
       "    </tr>\n",
       "    <tr>\n",
       "      <th>1</th>\n",
       "      <td>이순신</td>\n",
       "      <td>2</td>\n",
       "      <td>1</td>\n",
       "    </tr>\n",
       "    <tr>\n",
       "      <th>2</th>\n",
       "      <td>임꺽정</td>\n",
       "      <td>4</td>\n",
       "      <td>3</td>\n",
       "    </tr>\n",
       "    <tr>\n",
       "      <th>3</th>\n",
       "      <td>김유신</td>\n",
       "      <td>1</td>\n",
       "      <td>2</td>\n",
       "    </tr>\n",
       "  </tbody>\n",
       "</table>\n",
       "</div>"
      ],
      "text/plain": [
       "    이름  순위_인기  순위_성적\n",
       "0  홍길동      3      4\n",
       "1  이순신      2      1\n",
       "2  임꺽정      4      3\n",
       "3  김유신      1      2"
      ]
     },
     "execution_count": 166,
     "metadata": {},
     "output_type": "execute_result"
    }
   ],
   "source": [
    "pd.merge(df9, df10, on='이름', suffixes=[\"_인기\", \"_성적\"])"
   ]
  },
  {
   "cell_type": "code",
   "execution_count": 169,
   "id": "2babab5f",
   "metadata": {},
   "outputs": [],
   "source": [
    "# 데이터 집계와 그룹 연산\n",
    "\n",
    "df = pd.DataFrame({'c1' : ['a', 'a', 'b', 'b', 'c', 'd', 'b'],\n",
    "                   'c2' : ['A', 'B', 'B', 'A', 'D', 'C', 'C'],\n",
    "                   'c3' : np.random.randint(7),\n",
    "                   'c4' : np.random.random(7)})"
   ]
  },
  {
   "cell_type": "code",
   "execution_count": 170,
   "id": "9a1d968d",
   "metadata": {},
   "outputs": [
    {
     "data": {
      "text/html": [
       "<div>\n",
       "<style scoped>\n",
       "    .dataframe tbody tr th:only-of-type {\n",
       "        vertical-align: middle;\n",
       "    }\n",
       "\n",
       "    .dataframe tbody tr th {\n",
       "        vertical-align: top;\n",
       "    }\n",
       "\n",
       "    .dataframe thead th {\n",
       "        text-align: right;\n",
       "    }\n",
       "</style>\n",
       "<table border=\"1\" class=\"dataframe\">\n",
       "  <thead>\n",
       "    <tr style=\"text-align: right;\">\n",
       "      <th></th>\n",
       "      <th>c1</th>\n",
       "      <th>c2</th>\n",
       "      <th>c3</th>\n",
       "      <th>c4</th>\n",
       "    </tr>\n",
       "  </thead>\n",
       "  <tbody>\n",
       "    <tr>\n",
       "      <th>0</th>\n",
       "      <td>a</td>\n",
       "      <td>A</td>\n",
       "      <td>5</td>\n",
       "      <td>0.255368</td>\n",
       "    </tr>\n",
       "    <tr>\n",
       "      <th>1</th>\n",
       "      <td>a</td>\n",
       "      <td>B</td>\n",
       "      <td>5</td>\n",
       "      <td>0.511193</td>\n",
       "    </tr>\n",
       "    <tr>\n",
       "      <th>2</th>\n",
       "      <td>b</td>\n",
       "      <td>B</td>\n",
       "      <td>5</td>\n",
       "      <td>0.449887</td>\n",
       "    </tr>\n",
       "    <tr>\n",
       "      <th>3</th>\n",
       "      <td>b</td>\n",
       "      <td>A</td>\n",
       "      <td>5</td>\n",
       "      <td>0.186916</td>\n",
       "    </tr>\n",
       "    <tr>\n",
       "      <th>4</th>\n",
       "      <td>c</td>\n",
       "      <td>D</td>\n",
       "      <td>5</td>\n",
       "      <td>0.848987</td>\n",
       "    </tr>\n",
       "    <tr>\n",
       "      <th>5</th>\n",
       "      <td>d</td>\n",
       "      <td>C</td>\n",
       "      <td>5</td>\n",
       "      <td>0.235228</td>\n",
       "    </tr>\n",
       "    <tr>\n",
       "      <th>6</th>\n",
       "      <td>b</td>\n",
       "      <td>C</td>\n",
       "      <td>5</td>\n",
       "      <td>0.099186</td>\n",
       "    </tr>\n",
       "  </tbody>\n",
       "</table>\n",
       "</div>"
      ],
      "text/plain": [
       "  c1 c2  c3        c4\n",
       "0  a  A   5  0.255368\n",
       "1  a  B   5  0.511193\n",
       "2  b  B   5  0.449887\n",
       "3  b  A   5  0.186916\n",
       "4  c  D   5  0.848987\n",
       "5  d  C   5  0.235228\n",
       "6  b  C   5  0.099186"
      ]
     },
     "execution_count": 170,
     "metadata": {},
     "output_type": "execute_result"
    }
   ],
   "source": [
    "df"
   ]
  },
  {
   "cell_type": "code",
   "execution_count": 172,
   "id": "99fb2a6f",
   "metadata": {},
   "outputs": [
    {
     "data": {
      "text/plain": [
       "c1     object\n",
       "c2     object\n",
       "c3      int64\n",
       "c4    float64\n",
       "dtype: object"
      ]
     },
     "execution_count": 172,
     "metadata": {},
     "output_type": "execute_result"
    }
   ],
   "source": [
    "df.dtypes"
   ]
  },
  {
   "cell_type": "code",
   "execution_count": 176,
   "id": "c73a32b5",
   "metadata": {},
   "outputs": [
    {
     "data": {
      "text/plain": [
       "c1\n",
       "a    5.0\n",
       "b    5.0\n",
       "c    5.0\n",
       "d    5.0\n",
       "Name: c3, dtype: float64"
      ]
     },
     "execution_count": 176,
     "metadata": {},
     "output_type": "execute_result"
    }
   ],
   "source": [
    "df['c3'].groupby(df['c1']).mean()"
   ]
  },
  {
   "cell_type": "code",
   "execution_count": 177,
   "id": "5b534e24",
   "metadata": {},
   "outputs": [
    {
     "data": {
      "text/plain": [
       "c2\n",
       "A    0.048403\n",
       "B    0.043350\n",
       "C    0.096196\n",
       "D         NaN\n",
       "Name: c4, dtype: float64"
      ]
     },
     "execution_count": 177,
     "metadata": {},
     "output_type": "execute_result"
    }
   ],
   "source": [
    "df['c4'].groupby(df['c2']).std()"
   ]
  },
  {
   "cell_type": "code",
   "execution_count": 178,
   "id": "db74e70c",
   "metadata": {},
   "outputs": [
    {
     "data": {
      "text/plain": [
       "c1  c2\n",
       "a   A     0.255368\n",
       "    B     0.511193\n",
       "b   A     0.186916\n",
       "    B     0.449887\n",
       "    C     0.099186\n",
       "c   D     0.848987\n",
       "d   C     0.235228\n",
       "Name: c4, dtype: float64"
      ]
     },
     "execution_count": 178,
     "metadata": {},
     "output_type": "execute_result"
    }
   ],
   "source": [
    "df['c4'].groupby([df['c1'], df['c2']]).mean()"
   ]
  },
  {
   "cell_type": "code",
   "execution_count": 179,
   "id": "d9066897",
   "metadata": {},
   "outputs": [
    {
     "data": {
      "text/html": [
       "<div>\n",
       "<style scoped>\n",
       "    .dataframe tbody tr th:only-of-type {\n",
       "        vertical-align: middle;\n",
       "    }\n",
       "\n",
       "    .dataframe tbody tr th {\n",
       "        vertical-align: top;\n",
       "    }\n",
       "\n",
       "    .dataframe thead th {\n",
       "        text-align: right;\n",
       "    }\n",
       "</style>\n",
       "<table border=\"1\" class=\"dataframe\">\n",
       "  <thead>\n",
       "    <tr style=\"text-align: right;\">\n",
       "      <th>c2</th>\n",
       "      <th>A</th>\n",
       "      <th>B</th>\n",
       "      <th>C</th>\n",
       "      <th>D</th>\n",
       "    </tr>\n",
       "    <tr>\n",
       "      <th>c1</th>\n",
       "      <th></th>\n",
       "      <th></th>\n",
       "      <th></th>\n",
       "      <th></th>\n",
       "    </tr>\n",
       "  </thead>\n",
       "  <tbody>\n",
       "    <tr>\n",
       "      <th>a</th>\n",
       "      <td>0.255368</td>\n",
       "      <td>0.511193</td>\n",
       "      <td>NaN</td>\n",
       "      <td>NaN</td>\n",
       "    </tr>\n",
       "    <tr>\n",
       "      <th>b</th>\n",
       "      <td>0.186916</td>\n",
       "      <td>0.449887</td>\n",
       "      <td>0.099186</td>\n",
       "      <td>NaN</td>\n",
       "    </tr>\n",
       "    <tr>\n",
       "      <th>c</th>\n",
       "      <td>NaN</td>\n",
       "      <td>NaN</td>\n",
       "      <td>NaN</td>\n",
       "      <td>0.848987</td>\n",
       "    </tr>\n",
       "    <tr>\n",
       "      <th>d</th>\n",
       "      <td>NaN</td>\n",
       "      <td>NaN</td>\n",
       "      <td>0.235228</td>\n",
       "      <td>NaN</td>\n",
       "    </tr>\n",
       "  </tbody>\n",
       "</table>\n",
       "</div>"
      ],
      "text/plain": [
       "c2         A         B         C         D\n",
       "c1                                        \n",
       "a   0.255368  0.511193       NaN       NaN\n",
       "b   0.186916  0.449887  0.099186       NaN\n",
       "c        NaN       NaN       NaN  0.848987\n",
       "d        NaN       NaN  0.235228       NaN"
      ]
     },
     "execution_count": 179,
     "metadata": {},
     "output_type": "execute_result"
    }
   ],
   "source": [
    "df['c4'].groupby([df['c1'], df['c2']]).mean().unstack() # 데이터프레임 형태로"
   ]
  },
  {
   "cell_type": "code",
   "execution_count": 180,
   "id": "40cf7676",
   "metadata": {},
   "outputs": [
    {
     "data": {
      "text/html": [
       "<div>\n",
       "<style scoped>\n",
       "    .dataframe tbody tr th:only-of-type {\n",
       "        vertical-align: middle;\n",
       "    }\n",
       "\n",
       "    .dataframe tbody tr th {\n",
       "        vertical-align: top;\n",
       "    }\n",
       "\n",
       "    .dataframe thead th {\n",
       "        text-align: right;\n",
       "    }\n",
       "</style>\n",
       "<table border=\"1\" class=\"dataframe\">\n",
       "  <thead>\n",
       "    <tr style=\"text-align: right;\">\n",
       "      <th></th>\n",
       "      <th>c3</th>\n",
       "      <th>c4</th>\n",
       "    </tr>\n",
       "    <tr>\n",
       "      <th>c1</th>\n",
       "      <th></th>\n",
       "      <th></th>\n",
       "    </tr>\n",
       "  </thead>\n",
       "  <tbody>\n",
       "    <tr>\n",
       "      <th>a</th>\n",
       "      <td>5.0</td>\n",
       "      <td>0.383281</td>\n",
       "    </tr>\n",
       "    <tr>\n",
       "      <th>b</th>\n",
       "      <td>5.0</td>\n",
       "      <td>0.245330</td>\n",
       "    </tr>\n",
       "    <tr>\n",
       "      <th>c</th>\n",
       "      <td>5.0</td>\n",
       "      <td>0.848987</td>\n",
       "    </tr>\n",
       "    <tr>\n",
       "      <th>d</th>\n",
       "      <td>5.0</td>\n",
       "      <td>0.235228</td>\n",
       "    </tr>\n",
       "  </tbody>\n",
       "</table>\n",
       "</div>"
      ],
      "text/plain": [
       "     c3        c4\n",
       "c1               \n",
       "a   5.0  0.383281\n",
       "b   5.0  0.245330\n",
       "c   5.0  0.848987\n",
       "d   5.0  0.235228"
      ]
     },
     "execution_count": 180,
     "metadata": {},
     "output_type": "execute_result"
    }
   ],
   "source": [
    "df.groupby('c1').mean()"
   ]
  },
  {
   "cell_type": "code",
   "execution_count": 181,
   "id": "c472c60c",
   "metadata": {},
   "outputs": [
    {
     "data": {
      "text/html": [
       "<div>\n",
       "<style scoped>\n",
       "    .dataframe tbody tr th:only-of-type {\n",
       "        vertical-align: middle;\n",
       "    }\n",
       "\n",
       "    .dataframe tbody tr th {\n",
       "        vertical-align: top;\n",
       "    }\n",
       "\n",
       "    .dataframe thead th {\n",
       "        text-align: right;\n",
       "    }\n",
       "</style>\n",
       "<table border=\"1\" class=\"dataframe\">\n",
       "  <thead>\n",
       "    <tr style=\"text-align: right;\">\n",
       "      <th></th>\n",
       "      <th></th>\n",
       "      <th>c3</th>\n",
       "      <th>c4</th>\n",
       "    </tr>\n",
       "    <tr>\n",
       "      <th>c1</th>\n",
       "      <th>c2</th>\n",
       "      <th></th>\n",
       "      <th></th>\n",
       "    </tr>\n",
       "  </thead>\n",
       "  <tbody>\n",
       "    <tr>\n",
       "      <th rowspan=\"2\" valign=\"top\">a</th>\n",
       "      <th>A</th>\n",
       "      <td>5.0</td>\n",
       "      <td>0.255368</td>\n",
       "    </tr>\n",
       "    <tr>\n",
       "      <th>B</th>\n",
       "      <td>5.0</td>\n",
       "      <td>0.511193</td>\n",
       "    </tr>\n",
       "    <tr>\n",
       "      <th rowspan=\"3\" valign=\"top\">b</th>\n",
       "      <th>A</th>\n",
       "      <td>5.0</td>\n",
       "      <td>0.186916</td>\n",
       "    </tr>\n",
       "    <tr>\n",
       "      <th>B</th>\n",
       "      <td>5.0</td>\n",
       "      <td>0.449887</td>\n",
       "    </tr>\n",
       "    <tr>\n",
       "      <th>C</th>\n",
       "      <td>5.0</td>\n",
       "      <td>0.099186</td>\n",
       "    </tr>\n",
       "    <tr>\n",
       "      <th>c</th>\n",
       "      <th>D</th>\n",
       "      <td>5.0</td>\n",
       "      <td>0.848987</td>\n",
       "    </tr>\n",
       "    <tr>\n",
       "      <th>d</th>\n",
       "      <th>C</th>\n",
       "      <td>5.0</td>\n",
       "      <td>0.235228</td>\n",
       "    </tr>\n",
       "  </tbody>\n",
       "</table>\n",
       "</div>"
      ],
      "text/plain": [
       "        c3        c4\n",
       "c1 c2               \n",
       "a  A   5.0  0.255368\n",
       "   B   5.0  0.511193\n",
       "b  A   5.0  0.186916\n",
       "   B   5.0  0.449887\n",
       "   C   5.0  0.099186\n",
       "c  D   5.0  0.848987\n",
       "d  C   5.0  0.235228"
      ]
     },
     "execution_count": 181,
     "metadata": {},
     "output_type": "execute_result"
    }
   ],
   "source": [
    "df.groupby(['c1', 'c2']).mean()"
   ]
  },
  {
   "cell_type": "code",
   "execution_count": 182,
   "id": "9baec1fd",
   "metadata": {},
   "outputs": [
    {
     "data": {
      "text/plain": [
       "c1  c2\n",
       "a   A     1\n",
       "    B     1\n",
       "b   A     1\n",
       "    B     1\n",
       "    C     1\n",
       "c   D     1\n",
       "d   C     1\n",
       "dtype: int64"
      ]
     },
     "execution_count": 182,
     "metadata": {},
     "output_type": "execute_result"
    }
   ],
   "source": [
    "df.groupby(['c1', 'c2']).size()"
   ]
  },
  {
   "cell_type": "code",
   "execution_count": 183,
   "id": "80aef555",
   "metadata": {},
   "outputs": [
    {
     "name": "stdout",
     "output_type": "stream",
     "text": [
      "a\n",
      "  c1 c2  c3        c4\n",
      "0  a  A   5  0.255368\n",
      "1  a  B   5  0.511193\n",
      "b\n",
      "  c1 c2  c3        c4\n",
      "2  b  B   5  0.449887\n",
      "3  b  A   5  0.186916\n",
      "6  b  C   5  0.099186\n",
      "c\n",
      "  c1 c2  c3        c4\n",
      "4  c  D   5  0.848987\n",
      "d\n",
      "  c1 c2  c3        c4\n",
      "5  d  C   5  0.235228\n"
     ]
    }
   ],
   "source": [
    "for c1, group in df.groupby('c1'):\n",
    "    print(c1)\n",
    "    print(group)"
   ]
  },
  {
   "cell_type": "code",
   "execution_count": 184,
   "id": "8c9f4cd3",
   "metadata": {},
   "outputs": [
    {
     "name": "stdout",
     "output_type": "stream",
     "text": [
      "('a', 'A')\n",
      "  c1 c2  c3        c4\n",
      "0  a  A   5  0.255368\n",
      "('a', 'B')\n",
      "  c1 c2  c3        c4\n",
      "1  a  B   5  0.511193\n",
      "('b', 'A')\n",
      "  c1 c2  c3        c4\n",
      "3  b  A   5  0.186916\n",
      "('b', 'B')\n",
      "  c1 c2  c3        c4\n",
      "2  b  B   5  0.449887\n",
      "('b', 'C')\n",
      "  c1 c2  c3        c4\n",
      "6  b  C   5  0.099186\n",
      "('c', 'D')\n",
      "  c1 c2  c3        c4\n",
      "4  c  D   5  0.848987\n",
      "('d', 'C')\n",
      "  c1 c2  c3        c4\n",
      "5  d  C   5  0.235228\n"
     ]
    }
   ],
   "source": [
    "for (c1, c2), group in df.groupby(['c1', 'c2']):\n",
    "    print((c1,c2))\n",
    "    print(group)"
   ]
  },
  {
   "cell_type": "code",
   "execution_count": 185,
   "id": "7bd8fb81",
   "metadata": {},
   "outputs": [
    {
     "data": {
      "text/html": [
       "<div>\n",
       "<style scoped>\n",
       "    .dataframe tbody tr th:only-of-type {\n",
       "        vertical-align: middle;\n",
       "    }\n",
       "\n",
       "    .dataframe tbody tr th {\n",
       "        vertical-align: top;\n",
       "    }\n",
       "\n",
       "    .dataframe thead th {\n",
       "        text-align: right;\n",
       "    }\n",
       "</style>\n",
       "<table border=\"1\" class=\"dataframe\">\n",
       "  <thead>\n",
       "    <tr style=\"text-align: right;\">\n",
       "      <th></th>\n",
       "      <th></th>\n",
       "      <th>c4</th>\n",
       "    </tr>\n",
       "    <tr>\n",
       "      <th>c1</th>\n",
       "      <th>c2</th>\n",
       "      <th></th>\n",
       "    </tr>\n",
       "  </thead>\n",
       "  <tbody>\n",
       "    <tr>\n",
       "      <th rowspan=\"2\" valign=\"top\">a</th>\n",
       "      <th>A</th>\n",
       "      <td>0.255368</td>\n",
       "    </tr>\n",
       "    <tr>\n",
       "      <th>B</th>\n",
       "      <td>0.511193</td>\n",
       "    </tr>\n",
       "    <tr>\n",
       "      <th rowspan=\"3\" valign=\"top\">b</th>\n",
       "      <th>A</th>\n",
       "      <td>0.186916</td>\n",
       "    </tr>\n",
       "    <tr>\n",
       "      <th>B</th>\n",
       "      <td>0.449887</td>\n",
       "    </tr>\n",
       "    <tr>\n",
       "      <th>C</th>\n",
       "      <td>0.099186</td>\n",
       "    </tr>\n",
       "    <tr>\n",
       "      <th>c</th>\n",
       "      <th>D</th>\n",
       "      <td>0.848987</td>\n",
       "    </tr>\n",
       "    <tr>\n",
       "      <th>d</th>\n",
       "      <th>C</th>\n",
       "      <td>0.235228</td>\n",
       "    </tr>\n",
       "  </tbody>\n",
       "</table>\n",
       "</div>"
      ],
      "text/plain": [
       "             c4\n",
       "c1 c2          \n",
       "a  A   0.255368\n",
       "   B   0.511193\n",
       "b  A   0.186916\n",
       "   B   0.449887\n",
       "   C   0.099186\n",
       "c  D   0.848987\n",
       "d  C   0.235228"
      ]
     },
     "execution_count": 185,
     "metadata": {},
     "output_type": "execute_result"
    }
   ],
   "source": [
    "df.groupby(['c1', 'c2'])[['c4']].mean()"
   ]
  },
  {
   "cell_type": "code",
   "execution_count": 186,
   "id": "ef7ccccd",
   "metadata": {},
   "outputs": [
    {
     "data": {
      "text/plain": [
       "c1\n",
       "a    5.0\n",
       "b    5.0\n",
       "c    5.0\n",
       "d    5.0\n",
       "Name: c3, dtype: float64"
      ]
     },
     "execution_count": 186,
     "metadata": {},
     "output_type": "execute_result"
    }
   ],
   "source": [
    "df.groupby('c1')['c3'].quantile()"
   ]
  },
  {
   "cell_type": "code",
   "execution_count": 187,
   "id": "35894140",
   "metadata": {},
   "outputs": [
    {
     "data": {
      "text/plain": [
       "c1\n",
       "a    2\n",
       "b    3\n",
       "c    1\n",
       "d    1\n",
       "Name: c3, dtype: int64"
      ]
     },
     "execution_count": 187,
     "metadata": {},
     "output_type": "execute_result"
    }
   ],
   "source": [
    "df.groupby('c1')['c3'].count()"
   ]
  },
  {
   "cell_type": "code",
   "execution_count": 188,
   "id": "d33e5bc4",
   "metadata": {},
   "outputs": [
    {
     "data": {
      "text/plain": [
       "c1\n",
       "a    0.383281\n",
       "b    0.186916\n",
       "c    0.848987\n",
       "d    0.235228\n",
       "Name: c4, dtype: float64"
      ]
     },
     "execution_count": 188,
     "metadata": {},
     "output_type": "execute_result"
    }
   ],
   "source": [
    "df.groupby('c1')['c4'].median()"
   ]
  },
  {
   "cell_type": "code",
   "execution_count": 189,
   "id": "c80d4436",
   "metadata": {},
   "outputs": [
    {
     "data": {
      "text/plain": [
       "c1\n",
       "a    0.180896\n",
       "b    0.182502\n",
       "c         NaN\n",
       "d         NaN\n",
       "Name: c4, dtype: float64"
      ]
     },
     "execution_count": 189,
     "metadata": {},
     "output_type": "execute_result"
    }
   ],
   "source": [
    "df.groupby('c1')['c4'].std()"
   ]
  },
  {
   "cell_type": "code",
   "execution_count": 190,
   "id": "0613c21e",
   "metadata": {},
   "outputs": [
    {
     "data": {
      "text/html": [
       "<div>\n",
       "<style scoped>\n",
       "    .dataframe tbody tr th:only-of-type {\n",
       "        vertical-align: middle;\n",
       "    }\n",
       "\n",
       "    .dataframe tbody tr th {\n",
       "        vertical-align: top;\n",
       "    }\n",
       "\n",
       "    .dataframe thead th {\n",
       "        text-align: right;\n",
       "    }\n",
       "</style>\n",
       "<table border=\"1\" class=\"dataframe\">\n",
       "  <thead>\n",
       "    <tr style=\"text-align: right;\">\n",
       "      <th></th>\n",
       "      <th></th>\n",
       "      <th>mean</th>\n",
       "      <th>min</th>\n",
       "      <th>max</th>\n",
       "    </tr>\n",
       "    <tr>\n",
       "      <th>c1</th>\n",
       "      <th>c2</th>\n",
       "      <th></th>\n",
       "      <th></th>\n",
       "      <th></th>\n",
       "    </tr>\n",
       "  </thead>\n",
       "  <tbody>\n",
       "    <tr>\n",
       "      <th rowspan=\"2\" valign=\"top\">a</th>\n",
       "      <th>A</th>\n",
       "      <td>0.255368</td>\n",
       "      <td>0.255368</td>\n",
       "      <td>0.255368</td>\n",
       "    </tr>\n",
       "    <tr>\n",
       "      <th>B</th>\n",
       "      <td>0.511193</td>\n",
       "      <td>0.511193</td>\n",
       "      <td>0.511193</td>\n",
       "    </tr>\n",
       "    <tr>\n",
       "      <th rowspan=\"3\" valign=\"top\">b</th>\n",
       "      <th>A</th>\n",
       "      <td>0.186916</td>\n",
       "      <td>0.186916</td>\n",
       "      <td>0.186916</td>\n",
       "    </tr>\n",
       "    <tr>\n",
       "      <th>B</th>\n",
       "      <td>0.449887</td>\n",
       "      <td>0.449887</td>\n",
       "      <td>0.449887</td>\n",
       "    </tr>\n",
       "    <tr>\n",
       "      <th>C</th>\n",
       "      <td>0.099186</td>\n",
       "      <td>0.099186</td>\n",
       "      <td>0.099186</td>\n",
       "    </tr>\n",
       "    <tr>\n",
       "      <th>c</th>\n",
       "      <th>D</th>\n",
       "      <td>0.848987</td>\n",
       "      <td>0.848987</td>\n",
       "      <td>0.848987</td>\n",
       "    </tr>\n",
       "    <tr>\n",
       "      <th>d</th>\n",
       "      <th>C</th>\n",
       "      <td>0.235228</td>\n",
       "      <td>0.235228</td>\n",
       "      <td>0.235228</td>\n",
       "    </tr>\n",
       "  </tbody>\n",
       "</table>\n",
       "</div>"
      ],
      "text/plain": [
       "           mean       min       max\n",
       "c1 c2                              \n",
       "a  A   0.255368  0.255368  0.255368\n",
       "   B   0.511193  0.511193  0.511193\n",
       "b  A   0.186916  0.186916  0.186916\n",
       "   B   0.449887  0.449887  0.449887\n",
       "   C   0.099186  0.099186  0.099186\n",
       "c  D   0.848987  0.848987  0.848987\n",
       "d  C   0.235228  0.235228  0.235228"
      ]
     },
     "execution_count": 190,
     "metadata": {},
     "output_type": "execute_result"
    }
   ],
   "source": [
    "df.groupby(['c1', 'c2'])['c4'].agg(['mean', 'min', 'max'])"
   ]
  },
  {
   "cell_type": "code",
   "execution_count": 191,
   "id": "f48c899a",
   "metadata": {},
   "outputs": [
    {
     "data": {
      "text/html": [
       "<div>\n",
       "<style scoped>\n",
       "    .dataframe tbody tr th:only-of-type {\n",
       "        vertical-align: middle;\n",
       "    }\n",
       "\n",
       "    .dataframe tbody tr th {\n",
       "        vertical-align: top;\n",
       "    }\n",
       "\n",
       "    .dataframe thead th {\n",
       "        text-align: right;\n",
       "    }\n",
       "</style>\n",
       "<table border=\"1\" class=\"dataframe\">\n",
       "  <thead>\n",
       "    <tr style=\"text-align: right;\">\n",
       "      <th></th>\n",
       "      <th>c1</th>\n",
       "      <th>c2</th>\n",
       "      <th>c4</th>\n",
       "    </tr>\n",
       "  </thead>\n",
       "  <tbody>\n",
       "    <tr>\n",
       "      <th>0</th>\n",
       "      <td>a</td>\n",
       "      <td>A</td>\n",
       "      <td>0.255368</td>\n",
       "    </tr>\n",
       "    <tr>\n",
       "      <th>1</th>\n",
       "      <td>a</td>\n",
       "      <td>B</td>\n",
       "      <td>0.511193</td>\n",
       "    </tr>\n",
       "    <tr>\n",
       "      <th>2</th>\n",
       "      <td>b</td>\n",
       "      <td>A</td>\n",
       "      <td>0.186916</td>\n",
       "    </tr>\n",
       "    <tr>\n",
       "      <th>3</th>\n",
       "      <td>b</td>\n",
       "      <td>B</td>\n",
       "      <td>0.449887</td>\n",
       "    </tr>\n",
       "    <tr>\n",
       "      <th>4</th>\n",
       "      <td>b</td>\n",
       "      <td>C</td>\n",
       "      <td>0.099186</td>\n",
       "    </tr>\n",
       "    <tr>\n",
       "      <th>5</th>\n",
       "      <td>c</td>\n",
       "      <td>D</td>\n",
       "      <td>0.848987</td>\n",
       "    </tr>\n",
       "    <tr>\n",
       "      <th>6</th>\n",
       "      <td>d</td>\n",
       "      <td>C</td>\n",
       "      <td>0.235228</td>\n",
       "    </tr>\n",
       "  </tbody>\n",
       "</table>\n",
       "</div>"
      ],
      "text/plain": [
       "  c1 c2        c4\n",
       "0  a  A  0.255368\n",
       "1  a  B  0.511193\n",
       "2  b  A  0.186916\n",
       "3  b  B  0.449887\n",
       "4  b  C  0.099186\n",
       "5  c  D  0.848987\n",
       "6  d  C  0.235228"
      ]
     },
     "execution_count": 191,
     "metadata": {},
     "output_type": "execute_result"
    }
   ],
   "source": [
    "df.groupby(['c1', 'c2'], as_index=False)['c4'].mean()"
   ]
  },
  {
   "cell_type": "code",
   "execution_count": 192,
   "id": "f230daf0",
   "metadata": {},
   "outputs": [
    {
     "data": {
      "text/plain": [
       "c1  c2\n",
       "a   A     0.255368\n",
       "    B     0.511193\n",
       "b   A     0.186916\n",
       "    B     0.449887\n",
       "    C     0.099186\n",
       "c   D     0.848987\n",
       "d   C     0.235228\n",
       "Name: c4, dtype: float64"
      ]
     },
     "execution_count": 192,
     "metadata": {},
     "output_type": "execute_result"
    }
   ],
   "source": [
    "df.groupby(['c1', 'c2'], group_keys=False)['c4'].mean()"
   ]
  },
  {
   "cell_type": "code",
   "execution_count": 193,
   "id": "a779c6d6",
   "metadata": {},
   "outputs": [
    {
     "data": {
      "text/html": [
       "<div>\n",
       "<style scoped>\n",
       "    .dataframe tbody tr th:only-of-type {\n",
       "        vertical-align: middle;\n",
       "    }\n",
       "\n",
       "    .dataframe tbody tr th {\n",
       "        vertical-align: top;\n",
       "    }\n",
       "\n",
       "    .dataframe thead th {\n",
       "        text-align: right;\n",
       "    }\n",
       "</style>\n",
       "<table border=\"1\" class=\"dataframe\">\n",
       "  <thead>\n",
       "    <tr style=\"text-align: right;\">\n",
       "      <th></th>\n",
       "      <th>c1</th>\n",
       "      <th>c2</th>\n",
       "      <th>c3</th>\n",
       "      <th>c4</th>\n",
       "    </tr>\n",
       "  </thead>\n",
       "  <tbody>\n",
       "    <tr>\n",
       "      <th>2</th>\n",
       "      <td>b</td>\n",
       "      <td>B</td>\n",
       "      <td>5</td>\n",
       "      <td>0.449887</td>\n",
       "    </tr>\n",
       "    <tr>\n",
       "      <th>3</th>\n",
       "      <td>b</td>\n",
       "      <td>A</td>\n",
       "      <td>5</td>\n",
       "      <td>0.186916</td>\n",
       "    </tr>\n",
       "    <tr>\n",
       "      <th>6</th>\n",
       "      <td>b</td>\n",
       "      <td>C</td>\n",
       "      <td>5</td>\n",
       "      <td>0.099186</td>\n",
       "    </tr>\n",
       "    <tr>\n",
       "      <th>4</th>\n",
       "      <td>c</td>\n",
       "      <td>D</td>\n",
       "      <td>5</td>\n",
       "      <td>0.848987</td>\n",
       "    </tr>\n",
       "    <tr>\n",
       "      <th>5</th>\n",
       "      <td>d</td>\n",
       "      <td>C</td>\n",
       "      <td>5</td>\n",
       "      <td>0.235228</td>\n",
       "    </tr>\n",
       "  </tbody>\n",
       "</table>\n",
       "</div>"
      ],
      "text/plain": [
       "  c1 c2  c3        c4\n",
       "2  b  B   5  0.449887\n",
       "3  b  A   5  0.186916\n",
       "6  b  C   5  0.099186\n",
       "4  c  D   5  0.848987\n",
       "5  d  C   5  0.235228"
      ]
     },
     "execution_count": 193,
     "metadata": {},
     "output_type": "execute_result"
    }
   ],
   "source": [
    "def top(df, n=3, column='c1'):\n",
    "    return df.sort_values(by=column)[-n:]\n",
    "\n",
    "top(df, n=5)"
   ]
  },
  {
   "cell_type": "code",
   "execution_count": 194,
   "id": "734afc35",
   "metadata": {},
   "outputs": [
    {
     "data": {
      "text/html": [
       "<div>\n",
       "<style scoped>\n",
       "    .dataframe tbody tr th:only-of-type {\n",
       "        vertical-align: middle;\n",
       "    }\n",
       "\n",
       "    .dataframe tbody tr th {\n",
       "        vertical-align: top;\n",
       "    }\n",
       "\n",
       "    .dataframe thead th {\n",
       "        text-align: right;\n",
       "    }\n",
       "</style>\n",
       "<table border=\"1\" class=\"dataframe\">\n",
       "  <thead>\n",
       "    <tr style=\"text-align: right;\">\n",
       "      <th></th>\n",
       "      <th>c1</th>\n",
       "      <th>c2</th>\n",
       "      <th>c3</th>\n",
       "      <th>c4</th>\n",
       "    </tr>\n",
       "  </thead>\n",
       "  <tbody>\n",
       "    <tr>\n",
       "      <th>0</th>\n",
       "      <td>a</td>\n",
       "      <td>A</td>\n",
       "      <td>5</td>\n",
       "      <td>0.255368</td>\n",
       "    </tr>\n",
       "    <tr>\n",
       "      <th>1</th>\n",
       "      <td>a</td>\n",
       "      <td>B</td>\n",
       "      <td>5</td>\n",
       "      <td>0.511193</td>\n",
       "    </tr>\n",
       "    <tr>\n",
       "      <th>2</th>\n",
       "      <td>b</td>\n",
       "      <td>B</td>\n",
       "      <td>5</td>\n",
       "      <td>0.449887</td>\n",
       "    </tr>\n",
       "    <tr>\n",
       "      <th>3</th>\n",
       "      <td>b</td>\n",
       "      <td>A</td>\n",
       "      <td>5</td>\n",
       "      <td>0.186916</td>\n",
       "    </tr>\n",
       "    <tr>\n",
       "      <th>4</th>\n",
       "      <td>c</td>\n",
       "      <td>D</td>\n",
       "      <td>5</td>\n",
       "      <td>0.848987</td>\n",
       "    </tr>\n",
       "    <tr>\n",
       "      <th>5</th>\n",
       "      <td>d</td>\n",
       "      <td>C</td>\n",
       "      <td>5</td>\n",
       "      <td>0.235228</td>\n",
       "    </tr>\n",
       "    <tr>\n",
       "      <th>6</th>\n",
       "      <td>b</td>\n",
       "      <td>C</td>\n",
       "      <td>5</td>\n",
       "      <td>0.099186</td>\n",
       "    </tr>\n",
       "  </tbody>\n",
       "</table>\n",
       "</div>"
      ],
      "text/plain": [
       "  c1 c2  c3        c4\n",
       "0  a  A   5  0.255368\n",
       "1  a  B   5  0.511193\n",
       "2  b  B   5  0.449887\n",
       "3  b  A   5  0.186916\n",
       "4  c  D   5  0.848987\n",
       "5  d  C   5  0.235228\n",
       "6  b  C   5  0.099186"
      ]
     },
     "execution_count": 194,
     "metadata": {},
     "output_type": "execute_result"
    }
   ],
   "source": [
    "df.groupby('c1').apply(top)"
   ]
  },
  {
   "cell_type": "code",
   "execution_count": 195,
   "id": "55c4b2a0",
   "metadata": {},
   "outputs": [
    {
     "data": {
      "text/html": [
       "<div>\n",
       "<style scoped>\n",
       "    .dataframe tbody tr th:only-of-type {\n",
       "        vertical-align: middle;\n",
       "    }\n",
       "\n",
       "    .dataframe tbody tr th {\n",
       "        vertical-align: top;\n",
       "    }\n",
       "\n",
       "    .dataframe thead tr th {\n",
       "        text-align: left;\n",
       "    }\n",
       "\n",
       "    .dataframe thead tr:last-of-type th {\n",
       "        text-align: right;\n",
       "    }\n",
       "</style>\n",
       "<table border=\"1\" class=\"dataframe\">\n",
       "  <thead>\n",
       "    <tr>\n",
       "      <th></th>\n",
       "      <th colspan=\"4\" halign=\"left\">c3</th>\n",
       "      <th colspan=\"4\" halign=\"left\">c4</th>\n",
       "    </tr>\n",
       "    <tr>\n",
       "      <th>c2</th>\n",
       "      <th>A</th>\n",
       "      <th>B</th>\n",
       "      <th>C</th>\n",
       "      <th>D</th>\n",
       "      <th>A</th>\n",
       "      <th>B</th>\n",
       "      <th>C</th>\n",
       "      <th>D</th>\n",
       "    </tr>\n",
       "    <tr>\n",
       "      <th>c1</th>\n",
       "      <th></th>\n",
       "      <th></th>\n",
       "      <th></th>\n",
       "      <th></th>\n",
       "      <th></th>\n",
       "      <th></th>\n",
       "      <th></th>\n",
       "      <th></th>\n",
       "    </tr>\n",
       "  </thead>\n",
       "  <tbody>\n",
       "    <tr>\n",
       "      <th>a</th>\n",
       "      <td>5.0</td>\n",
       "      <td>5.0</td>\n",
       "      <td>NaN</td>\n",
       "      <td>NaN</td>\n",
       "      <td>0.255368</td>\n",
       "      <td>0.511193</td>\n",
       "      <td>NaN</td>\n",
       "      <td>NaN</td>\n",
       "    </tr>\n",
       "    <tr>\n",
       "      <th>b</th>\n",
       "      <td>5.0</td>\n",
       "      <td>5.0</td>\n",
       "      <td>5.0</td>\n",
       "      <td>NaN</td>\n",
       "      <td>0.186916</td>\n",
       "      <td>0.449887</td>\n",
       "      <td>0.099186</td>\n",
       "      <td>NaN</td>\n",
       "    </tr>\n",
       "    <tr>\n",
       "      <th>c</th>\n",
       "      <td>NaN</td>\n",
       "      <td>NaN</td>\n",
       "      <td>NaN</td>\n",
       "      <td>5.0</td>\n",
       "      <td>NaN</td>\n",
       "      <td>NaN</td>\n",
       "      <td>NaN</td>\n",
       "      <td>0.848987</td>\n",
       "    </tr>\n",
       "    <tr>\n",
       "      <th>d</th>\n",
       "      <td>NaN</td>\n",
       "      <td>NaN</td>\n",
       "      <td>5.0</td>\n",
       "      <td>NaN</td>\n",
       "      <td>NaN</td>\n",
       "      <td>NaN</td>\n",
       "      <td>0.235228</td>\n",
       "      <td>NaN</td>\n",
       "    </tr>\n",
       "  </tbody>\n",
       "</table>\n",
       "</div>"
      ],
      "text/plain": [
       "     c3                       c4                              \n",
       "c2    A    B    C    D         A         B         C         D\n",
       "c1                                                            \n",
       "a   5.0  5.0  NaN  NaN  0.255368  0.511193       NaN       NaN\n",
       "b   5.0  5.0  5.0  NaN  0.186916  0.449887  0.099186       NaN\n",
       "c   NaN  NaN  NaN  5.0       NaN       NaN       NaN  0.848987\n",
       "d   NaN  NaN  5.0  NaN       NaN       NaN  0.235228       NaN"
      ]
     },
     "execution_count": 195,
     "metadata": {},
     "output_type": "execute_result"
    }
   ],
   "source": [
    "df.pivot_table(['c3', 'c4'],\n",
    "              index = ['c1'],\n",
    "              columns = ['c2'])"
   ]
  },
  {
   "cell_type": "code",
   "execution_count": null,
   "id": "2cda92ab",
   "metadata": {},
   "outputs": [],
   "source": [
    "df.pivot_table(['c3', 'c4'],\n",
    "              index = ['c1'],\n",
    "              columns = ['c2'])"
   ]
  }
 ],
 "metadata": {
  "kernelspec": {
   "display_name": "Python 3 (ipykernel)",
   "language": "python",
   "name": "python3"
  },
  "language_info": {
   "codemirror_mode": {
    "name": "ipython",
    "version": 3
   },
   "file_extension": ".py",
   "mimetype": "text/x-python",
   "name": "python",
   "nbconvert_exporter": "python",
   "pygments_lexer": "ipython3",
   "version": "3.9.13"
  }
 },
 "nbformat": 4,
 "nbformat_minor": 5
}
